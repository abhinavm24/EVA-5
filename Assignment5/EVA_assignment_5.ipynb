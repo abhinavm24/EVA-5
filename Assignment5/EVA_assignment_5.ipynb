{
  "nbformat": 4,
  "nbformat_minor": 0,
  "metadata": {
    "colab": {
      "name": "EVA assignment_5.ipynb",
      "version": "0.3.2",
      "provenance": [],
      "collapsed_sections": [],
      "include_colab_link": true
    },
    "kernelspec": {
      "name": "python3",
      "display_name": "Python 3"
    },
    "accelerator": "GPU"
  },
  "cells": [
    {
      "cell_type": "markdown",
      "metadata": {
        "id": "view-in-github",
        "colab_type": "text"
      },
      "source": [
        "<a href=\"https://colab.research.google.com/github/bhuvnk/EVA/blob/master/Assignment5/EVA_assignment_5.ipynb\" target=\"_parent\"><img src=\"https://colab.research.google.com/assets/colab-badge.svg\" alt=\"Open In Colab\"/></a>"
      ]
    },
    {
      "cell_type": "markdown",
      "metadata": {
        "id": "aNyZv-Ec52ot",
        "colab_type": "text"
      },
      "source": [
        "## Import Libraries and modules"
      ]
    },
    {
      "cell_type": "code",
      "metadata": {
        "id": "3m3w1Cw49Zkt",
        "colab_type": "code",
        "outputId": "11880ca0-f909-40c2-e5df-95a3a90703e9",
        "colab": {
          "base_uri": "https://localhost:8080/",
          "height": 35
        }
      },
      "source": [
        "# https://keras.io/\n",
        "!pip install -q keras\n",
        "import keras"
      ],
      "execution_count": 1,
      "outputs": [
        {
          "output_type": "stream",
          "text": [
            "Using TensorFlow backend.\n"
          ],
          "name": "stderr"
        }
      ]
    },
    {
      "cell_type": "code",
      "metadata": {
        "id": "Eso6UHE080D4",
        "colab_type": "code",
        "colab": {}
      },
      "source": [
        "import numpy as np\n",
        "\n",
        "from keras.models import Sequential\n",
        "from keras.layers import Dense, Dropout, Activation, Flatten, Add\n",
        "from keras.layers import Convolution2D, MaxPooling2D, Conv2D\n",
        "from keras.utils import np_utils\n",
        "\n",
        "from keras.datasets import mnist"
      ],
      "execution_count": 0,
      "outputs": []
    },
    {
      "cell_type": "markdown",
      "metadata": {
        "id": "zByEi95J86RD",
        "colab_type": "text"
      },
      "source": [
        "## Load pre-shuffled MNIST data into train and test sets"
      ]
    },
    {
      "cell_type": "code",
      "metadata": {
        "id": "7eRM0QWN83PV",
        "colab_type": "code",
        "outputId": "121099ba-6d4d-46d5-f87d-c29befa7898a",
        "colab": {
          "base_uri": "https://localhost:8080/",
          "height": 54
        }
      },
      "source": [
        "(X_train, y_train), (X_test, y_test) = mnist.load_data()"
      ],
      "execution_count": 3,
      "outputs": [
        {
          "output_type": "stream",
          "text": [
            "Downloading data from https://s3.amazonaws.com/img-datasets/mnist.npz\n",
            "11493376/11490434 [==============================] - 0s 0us/step\n"
          ],
          "name": "stdout"
        }
      ]
    },
    {
      "cell_type": "code",
      "metadata": {
        "id": "4a4Be72j8-ZC",
        "colab_type": "code",
        "outputId": "5899910f-63ad-4379-b0ce-e3c9a45c2792",
        "colab": {
          "base_uri": "https://localhost:8080/",
          "height": 306
        }
      },
      "source": [
        "print (X_train.shape)\n",
        "from matplotlib import pyplot as plt\n",
        "%matplotlib inline\n",
        "plt.imshow(X_train[0])"
      ],
      "execution_count": 4,
      "outputs": [
        {
          "output_type": "stream",
          "text": [
            "(60000, 28, 28)\n"
          ],
          "name": "stdout"
        },
        {
          "output_type": "execute_result",
          "data": {
            "text/plain": [
              "<matplotlib.image.AxesImage at 0x7f1029a31e48>"
            ]
          },
          "metadata": {
            "tags": []
          },
          "execution_count": 4
        },
        {
          "output_type": "display_data",
          "data": {
            "image/png": "[encoded data removed]",
            "text/plain": [
              "<Figure size 432x288 with 1 Axes>"
            ]
          },
          "metadata": {
            "tags": []
          }
        }
      ]
    },
    {
      "cell_type": "code",
      "metadata": {
        "id": "dkmprriw9AnZ",
        "colab_type": "code",
        "colab": {}
      },
      "source": [
        "X_train = X_train.reshape(X_train.shape[0], 28, 28,1)\n",
        "X_test = X_test.reshape(X_test.shape[0], 28, 28,1)"
      ],
      "execution_count": 0,
      "outputs": []
    },
    {
      "cell_type": "code",
      "metadata": {
        "id": "X2m4YS4E9CRh",
        "colab_type": "code",
        "colab": {}
      },
      "source": [
        "X_train = X_train.astype('float32')\n",
        "X_test = X_test.astype('float32')\n",
        "X_train /= 255\n",
        "X_test /= 255"
      ],
      "execution_count": 0,
      "outputs": []
    },
    {
      "cell_type": "code",
      "metadata": {
        "id": "0Mn0vAYD9DvB",
        "colab_type": "code",
        "outputId": "fdd2d21a-774a-40c2-95f6-e6d0a5e2981c",
        "colab": {
          "base_uri": "https://localhost:8080/",
          "height": 35
        }
      },
      "source": [
        "y_train[:10]"
      ],
      "execution_count": 7,
      "outputs": [
        {
          "output_type": "execute_result",
          "data": {
            "text/plain": [
              "array([5, 0, 4, 1, 9, 2, 1, 3, 1, 4], dtype=uint8)"
            ]
          },
          "metadata": {
            "tags": []
          },
          "execution_count": 7
        }
      ]
    },
    {
      "cell_type": "code",
      "metadata": {
        "id": "ZG8JiXR39FHC",
        "colab_type": "code",
        "colab": {}
      },
      "source": [
        "# Convert 1-dimensional class arrays to 10-dimensional class matrices\n",
        "Y_train = np_utils.to_categorical(y_train, 10)\n",
        "Y_test = np_utils.to_categorical(y_test, 10)"
      ],
      "execution_count": 0,
      "outputs": []
    },
    {
      "cell_type": "code",
      "metadata": {
        "id": "fYlFRvKS9HMB",
        "colab_type": "code",
        "outputId": "a2b09da2-586c-448a-c527-3c659e2e1106",
        "colab": {
          "base_uri": "https://localhost:8080/",
          "height": 201
        }
      },
      "source": [
        "Y_train[:10]\n"
      ],
      "execution_count": 9,
      "outputs": [
        {
          "output_type": "execute_result",
          "data": {
            "text/plain": [
              "array([[0., 0., 0., 0., 0., 1., 0., 0., 0., 0.],\n",
              "       [1., 0., 0., 0., 0., 0., 0., 0., 0., 0.],\n",
              "       [0., 0., 0., 0., 1., 0., 0., 0., 0., 0.],\n",
              "       [0., 1., 0., 0., 0., 0., 0., 0., 0., 0.],\n",
              "       [0., 0., 0., 0., 0., 0., 0., 0., 0., 1.],\n",
              "       [0., 0., 1., 0., 0., 0., 0., 0., 0., 0.],\n",
              "       [0., 1., 0., 0., 0., 0., 0., 0., 0., 0.],\n",
              "       [0., 0., 0., 1., 0., 0., 0., 0., 0., 0.],\n",
              "       [0., 1., 0., 0., 0., 0., 0., 0., 0., 0.],\n",
              "       [0., 0., 0., 0., 1., 0., 0., 0., 0., 0.]], dtype=float32)"
            ]
          },
          "metadata": {
            "tags": []
          },
          "execution_count": 9
        }
      ]
    },
    {
      "cell_type": "markdown",
      "metadata": {
        "id": "UJ4KwI6UuIFb",
        "colab_type": "text"
      },
      "source": [
        "# 0. Default model"
      ]
    },
    {
      "cell_type": "code",
      "metadata": {
        "id": "dAv4ZnHzuKWO",
        "colab_type": "code",
        "colab": {
          "base_uri": "https://localhost:8080/",
          "height": 1231
        },
        "outputId": "5df78c3d-189a-4438-8ba2-a11ba62daf08"
      },
      "source": [
        "from keras.layers import Activation, Conv2D, BatchNormalization, Dropout\n",
        "\n",
        "model = Sequential()\n",
        " \n",
        "model.add(Convolution2D(8, 3, 3, activation='relu', input_shape=(28,28,1))) #26\n",
        "model.add(BatchNormalization())\n",
        "\n",
        "model.add(Convolution2D(10, 3, 3, activation='relu')) #24\n",
        "model.add(BatchNormalization())\n",
        "model.add(Dropout(0.1))\n",
        "\n",
        "model.add(Convolution2D(12, 3, 3, activation='relu'))#22\n",
        "model.add(BatchNormalization())\n",
        "model.add(Dropout(0.1))\n",
        "\n",
        "model.add(Convolution2D(8, 1, 1, activation='relu')) #22\n",
        "model.add(MaxPooling2D(pool_size=(2, 2)))#11\n",
        "\n",
        "model.add(Convolution2D(10, 3, 3, activation='relu'))#9\n",
        "model.add(BatchNormalization())\n",
        "model.add(Dropout(0.1))\n",
        "\n",
        "model.add(Convolution2D(12, 3, 3, activation='relu'))#7\n",
        "model.add(BatchNormalization())\n",
        "model.add(Dropout(0.1))\n",
        "\n",
        "model.add(Convolution2D(16, 3, 3, activation='relu'))#5\n",
        "model.add(BatchNormalization())\n",
        "model.add(Dropout(0.1))\n",
        "\n",
        "model.add(Convolution2D(10, 5, 5))\n",
        "model.add(BatchNormalization())\n",
        "\n",
        "\n",
        "model.add(Flatten())\n",
        "model.add(Activation('softmax'))\n",
        "\n",
        "\n",
        "model.summary()"
      ],
      "execution_count": 127,
      "outputs": [
        {
          "output_type": "stream",
          "text": [
            "/usr/local/lib/python3.6/dist-packages/ipykernel_launcher.py:4: UserWarning: Update your `Conv2D` call to the Keras 2 API: `Conv2D(8, (3, 3), activation=\"relu\", input_shape=(28, 28, 1...)`\n",
            "  after removing the cwd from sys.path.\n",
            "/usr/local/lib/python3.6/dist-packages/ipykernel_launcher.py:7: UserWarning: Update your `Conv2D` call to the Keras 2 API: `Conv2D(10, (3, 3), activation=\"relu\")`\n",
            "  import sys\n",
            "/usr/local/lib/python3.6/dist-packages/ipykernel_launcher.py:11: UserWarning: Update your `Conv2D` call to the Keras 2 API: `Conv2D(12, (3, 3), activation=\"relu\")`\n",
            "  # This is added back by InteractiveShellApp.init_path()\n",
            "/usr/local/lib/python3.6/dist-packages/ipykernel_launcher.py:15: UserWarning: Update your `Conv2D` call to the Keras 2 API: `Conv2D(8, (1, 1), activation=\"relu\")`\n",
            "  from ipykernel import kernelapp as app\n",
            "/usr/local/lib/python3.6/dist-packages/ipykernel_launcher.py:18: UserWarning: Update your `Conv2D` call to the Keras 2 API: `Conv2D(10, (3, 3), activation=\"relu\")`\n",
            "/usr/local/lib/python3.6/dist-packages/ipykernel_launcher.py:22: UserWarning: Update your `Conv2D` call to the Keras 2 API: `Conv2D(12, (3, 3), activation=\"relu\")`\n",
            "/usr/local/lib/python3.6/dist-packages/ipykernel_launcher.py:26: UserWarning: Update your `Conv2D` call to the Keras 2 API: `Conv2D(16, (3, 3), activation=\"relu\")`\n",
            "/usr/local/lib/python3.6/dist-packages/ipykernel_launcher.py:30: UserWarning: Update your `Conv2D` call to the Keras 2 API: `Conv2D(10, (5, 5))`\n"
          ],
          "name": "stderr"
        },
        {
          "output_type": "stream",
          "text": [
            "_________________________________________________________________\n",
            "Layer (type)                 Output Shape              Param #   \n",
            "=================================================================\n",
            "conv2d_389 (Conv2D)          (None, 26, 26, 8)         80        \n",
            "_________________________________________________________________\n",
            "batch_normalization_305 (Bat (None, 26, 26, 8)         32        \n",
            "_________________________________________________________________\n",
            "conv2d_390 (Conv2D)          (None, 24, 24, 10)        730       \n",
            "_________________________________________________________________\n",
            "batch_normalization_306 (Bat (None, 24, 24, 10)        40        \n",
            "_________________________________________________________________\n",
            "dropout_241 (Dropout)        (None, 24, 24, 10)        0         \n",
            "_________________________________________________________________\n",
            "conv2d_391 (Conv2D)          (None, 22, 22, 12)        1092      \n",
            "_________________________________________________________________\n",
            "batch_normalization_307 (Bat (None, 22, 22, 12)        48        \n",
            "_________________________________________________________________\n",
            "dropout_242 (Dropout)        (None, 22, 22, 12)        0         \n",
            "_________________________________________________________________\n",
            "conv2d_392 (Conv2D)          (None, 22, 22, 8)         104       \n",
            "_________________________________________________________________\n",
            "max_pooling2d_52 (MaxPooling (None, 11, 11, 8)         0         \n",
            "_________________________________________________________________\n",
            "conv2d_393 (Conv2D)          (None, 9, 9, 10)          730       \n",
            "_________________________________________________________________\n",
            "batch_normalization_308 (Bat (None, 9, 9, 10)          40        \n",
            "_________________________________________________________________\n",
            "dropout_243 (Dropout)        (None, 9, 9, 10)          0         \n",
            "_________________________________________________________________\n",
            "conv2d_394 (Conv2D)          (None, 7, 7, 12)          1092      \n",
            "_________________________________________________________________\n",
            "batch_normalization_309 (Bat (None, 7, 7, 12)          48        \n",
            "_________________________________________________________________\n",
            "dropout_244 (Dropout)        (None, 7, 7, 12)          0         \n",
            "_________________________________________________________________\n",
            "conv2d_395 (Conv2D)          (None, 5, 5, 16)          1744      \n",
            "_________________________________________________________________\n",
            "batch_normalization_310 (Bat (None, 5, 5, 16)          64        \n",
            "_________________________________________________________________\n",
            "dropout_245 (Dropout)        (None, 5, 5, 16)          0         \n",
            "_________________________________________________________________\n",
            "conv2d_396 (Conv2D)          (None, 1, 1, 10)          4010      \n",
            "_________________________________________________________________\n",
            "batch_normalization_311 (Bat (None, 1, 1, 10)          40        \n",
            "_________________________________________________________________\n",
            "flatten_46 (Flatten)         (None, 10)                0         \n",
            "_________________________________________________________________\n",
            "activation_46 (Activation)   (None, 10)                0         \n",
            "=================================================================\n",
            "Total params: 9,894\n",
            "Trainable params: 9,738\n",
            "Non-trainable params: 156\n",
            "_________________________________________________________________\n"
          ],
          "name": "stdout"
        }
      ]
    },
    {
      "cell_type": "code",
      "metadata": {
        "id": "RWjA3hMTuKRw",
        "colab_type": "code",
        "colab": {
          "base_uri": "https://localhost:8080/",
          "height": 1560
        },
        "outputId": "c081ad05-8cd0-4c5b-bca0-8750f9fb6f10"
      },
      "source": [
        "model.compile(loss='categorical_crossentropy',\n",
        "             optimizer='adam',\n",
        "             metrics=['accuracy'])\n",
        "\n",
        "from keras.callbacks import LearningRateScheduler\n",
        "def lr_schedule(epoch):\n",
        "  return round(0.003 * 1/(1 + 0.319 * epoch), 10)\n",
        "\n",
        "model.fit(X_train, Y_train,\n",
        "          validation_data=(X_test, Y_test),\n",
        "          batch_size=64,\n",
        "          nb_epoch=20,\n",
        "          verbose=1,\n",
        "          callbacks=[LearningRateScheduler(lr_schedule, verbose=1)],\n",
        "          )"
      ],
      "execution_count": 128,
      "outputs": [
        {
          "output_type": "stream",
          "text": [
            "/usr/local/lib/python3.6/dist-packages/ipykernel_launcher.py:14: UserWarning: The `nb_epoch` argument in `fit` has been renamed `epochs`.\n",
            "  \n"
          ],
          "name": "stderr"
        },
        {
          "output_type": "stream",
          "text": [
            "Train on 60000 samples, validate on 10000 samples\n",
            "Epoch 1/20\n",
            "\n",
            "Epoch 00001: LearningRateScheduler setting learning rate to 0.003.\n",
            "60000/60000 [==============================] - 48s 806us/step - loss: 0.3155 - acc: 0.9390 - val_loss: 0.0800 - val_acc: 0.9803\n",
            "Epoch 2/20\n",
            "\n",
            "Epoch 00002: LearningRateScheduler setting learning rate to 0.0022744503.\n",
            "60000/60000 [==============================] - 15s 258us/step - loss: 0.1012 - acc: 0.9771 - val_loss: 0.0447 - val_acc: 0.9899\n",
            "Epoch 3/20\n",
            "\n",
            "Epoch 00003: LearningRateScheduler setting learning rate to 0.0018315018.\n",
            "60000/60000 [==============================] - 15s 258us/step - loss: 0.0754 - acc: 0.9814 - val_loss: 0.0379 - val_acc: 0.9896\n",
            "Epoch 4/20\n",
            "\n",
            "Epoch 00004: LearningRateScheduler setting learning rate to 0.0015329586.\n",
            "60000/60000 [==============================] - 15s 256us/step - loss: 0.0642 - acc: 0.9832 - val_loss: 0.0403 - val_acc: 0.9897\n",
            "Epoch 5/20\n",
            "\n",
            "Epoch 00005: LearningRateScheduler setting learning rate to 0.0013181019.\n",
            "60000/60000 [==============================] - 15s 257us/step - loss: 0.0544 - acc: 0.9854 - val_loss: 0.0313 - val_acc: 0.9915\n",
            "Epoch 6/20\n",
            "\n",
            "Epoch 00006: LearningRateScheduler setting learning rate to 0.0011560694.\n",
            "60000/60000 [==============================] - 15s 256us/step - loss: 0.0502 - acc: 0.9868 - val_loss: 0.0279 - val_acc: 0.9922\n",
            "Epoch 7/20\n",
            "\n",
            "Epoch 00007: LearningRateScheduler setting learning rate to 0.0010295127.\n",
            "60000/60000 [==============================] - 15s 257us/step - loss: 0.0466 - acc: 0.9872 - val_loss: 0.0359 - val_acc: 0.9907\n",
            "Epoch 8/20\n",
            "\n",
            "Epoch 00008: LearningRateScheduler setting learning rate to 0.0009279307.\n",
            "60000/60000 [==============================] - 15s 253us/step - loss: 0.0418 - acc: 0.9889 - val_loss: 0.0256 - val_acc: 0.9925\n",
            "Epoch 9/20\n",
            "\n",
            "Epoch 00009: LearningRateScheduler setting learning rate to 0.0008445946.\n",
            "60000/60000 [==============================] - 15s 257us/step - loss: 0.0403 - acc: 0.9889 - val_loss: 0.0266 - val_acc: 0.9916\n",
            "Epoch 10/20\n",
            "\n",
            "Epoch 00010: LearningRateScheduler setting learning rate to 0.0007749935.\n",
            "60000/60000 [==============================] - 15s 252us/step - loss: 0.0385 - acc: 0.9894 - val_loss: 0.0277 - val_acc: 0.9915\n",
            "Epoch 11/20\n",
            "\n",
            "Epoch 00011: LearningRateScheduler setting learning rate to 0.0007159905.\n",
            "60000/60000 [==============================] - 15s 254us/step - loss: 0.0359 - acc: 0.9897 - val_loss: 0.0222 - val_acc: 0.9939\n",
            "Epoch 12/20\n",
            "\n",
            "Epoch 00012: LearningRateScheduler setting learning rate to 0.000665336.\n",
            "60000/60000 [==============================] - 15s 254us/step - loss: 0.0336 - acc: 0.9906 - val_loss: 0.0247 - val_acc: 0.9922\n",
            "Epoch 13/20\n",
            "\n",
            "Epoch 00013: LearningRateScheduler setting learning rate to 0.0006213753.\n",
            "60000/60000 [==============================] - 15s 254us/step - loss: 0.0328 - acc: 0.9909 - val_loss: 0.0222 - val_acc: 0.9935\n",
            "Epoch 14/20\n",
            "\n",
            "Epoch 00014: LearningRateScheduler setting learning rate to 0.0005828638.\n",
            "60000/60000 [==============================] - 16s 259us/step - loss: 0.0313 - acc: 0.9912 - val_loss: 0.0243 - val_acc: 0.9926\n",
            "Epoch 15/20\n",
            "\n",
            "Epoch 00015: LearningRateScheduler setting learning rate to 0.0005488474.\n",
            "60000/60000 [==============================] - 15s 258us/step - loss: 0.0310 - acc: 0.9912 - val_loss: 0.0219 - val_acc: 0.9935\n",
            "Epoch 16/20\n",
            "\n",
            "Epoch 00016: LearningRateScheduler setting learning rate to 0.0005185825.\n",
            "60000/60000 [==============================] - 15s 255us/step - loss: 0.0292 - acc: 0.9914 - val_loss: 0.0211 - val_acc: 0.9943\n",
            "Epoch 17/20\n",
            "\n",
            "Epoch 00017: LearningRateScheduler setting learning rate to 0.000491481.\n",
            "60000/60000 [==============================] - 15s 256us/step - loss: 0.0290 - acc: 0.9919 - val_loss: 0.0221 - val_acc: 0.9936\n",
            "Epoch 18/20\n",
            "\n",
            "Epoch 00018: LearningRateScheduler setting learning rate to 0.0004670715.\n",
            "60000/60000 [==============================] - 15s 257us/step - loss: 0.0281 - acc: 0.9920 - val_loss: 0.0215 - val_acc: 0.9933\n",
            "Epoch 19/20\n",
            "\n",
            "Epoch 00019: LearningRateScheduler setting learning rate to 0.0004449718.\n",
            "60000/60000 [==============================] - 16s 259us/step - loss: 0.0281 - acc: 0.9919 - val_loss: 0.0225 - val_acc: 0.9932\n",
            "Epoch 20/20\n",
            "\n",
            "Epoch 00020: LearningRateScheduler setting learning rate to 0.000424869.\n",
            "60000/60000 [==============================] - 16s 260us/step - loss: 0.0277 - acc: 0.9924 - val_loss: 0.0201 - val_acc: 0.9941\n"
          ],
          "name": "stdout"
        },
        {
          "output_type": "execute_result",
          "data": {
            "text/plain": [
              "<keras.callbacks.History at 0x7f0f8ade0c18>"
            ]
          },
          "metadata": {
            "tags": []
          },
          "execution_count": 128
        }
      ]
    },
    {
      "cell_type": "markdown",
      "metadata": {
        "id": "Er9U4ut2J045",
        "colab_type": "text"
      },
      "source": [
        "# 1: Training with just Image Normalization"
      ]
    },
    {
      "cell_type": "code",
      "metadata": {
        "id": "P2tNSOZ_KNAf",
        "colab_type": "code",
        "colab": {
          "base_uri": "https://localhost:8080/",
          "height": 1231
        },
        "outputId": "a64c5133-5d8d-42f7-908f-28de8b942ee2"
      },
      "source": [
        "from keras.layers import Activation, Conv2D, BatchNormalization, Dropout\n",
        "model = Sequential()\n",
        " \n",
        "model.add(Convolution2D(8, 3, 3, activation='relu', input_shape=(28,28,1))) #26\n",
        "model.add(BatchNormalization())\n",
        "\n",
        "model.add(Convolution2D(10, 3, 3, activation='relu')) #24\n",
        "model.add(BatchNormalization())\n",
        "model.add(Dropout(0.1))\n",
        "\n",
        "model.add(Convolution2D(12, 3, 3, activation='relu'))#22\n",
        "model.add(BatchNormalization())\n",
        "model.add(Dropout(0.1))\n",
        "\n",
        "model.add(Convolution2D(8, 1, 1, activation='relu')) #22\n",
        "model.add(MaxPooling2D(pool_size=(2, 2)))#11\n",
        "\n",
        "model.add(Convolution2D(10, 3, 3, activation='relu'))#9\n",
        "model.add(BatchNormalization())\n",
        "model.add(Dropout(0.1))\n",
        "\n",
        "model.add(Convolution2D(12, 3, 3, activation='relu'))#7\n",
        "model.add(BatchNormalization())\n",
        "model.add(Dropout(0.1))\n",
        "\n",
        "model.add(Convolution2D(16, 3, 3, activation='relu'))#5\n",
        "model.add(BatchNormalization())\n",
        "model.add(Dropout(0.1))\n",
        "\n",
        "model.add(Convolution2D(10, 5, 5))\n",
        "model.add(BatchNormalization())\n",
        "\n",
        "\n",
        "model.add(Flatten())\n",
        "model.add(Activation('softmax'))\n",
        "\n",
        "\n",
        "model.summary()"
      ],
      "execution_count": 135,
      "outputs": [
        {
          "output_type": "stream",
          "text": [
            "/usr/local/lib/python3.6/dist-packages/ipykernel_launcher.py:4: UserWarning: Update your `Conv2D` call to the Keras 2 API: `Conv2D(8, (3, 3), activation=\"relu\", input_shape=(28, 28, 1...)`\n",
            "  after removing the cwd from sys.path.\n",
            "/usr/local/lib/python3.6/dist-packages/ipykernel_launcher.py:7: UserWarning: Update your `Conv2D` call to the Keras 2 API: `Conv2D(10, (3, 3), activation=\"relu\")`\n",
            "  import sys\n",
            "/usr/local/lib/python3.6/dist-packages/ipykernel_launcher.py:11: UserWarning: Update your `Conv2D` call to the Keras 2 API: `Conv2D(12, (3, 3), activation=\"relu\")`\n",
            "  # This is added back by InteractiveShellApp.init_path()\n",
            "/usr/local/lib/python3.6/dist-packages/ipykernel_launcher.py:15: UserWarning: Update your `Conv2D` call to the Keras 2 API: `Conv2D(8, (1, 1), activation=\"relu\")`\n",
            "  from ipykernel import kernelapp as app\n",
            "/usr/local/lib/python3.6/dist-packages/ipykernel_launcher.py:18: UserWarning: Update your `Conv2D` call to the Keras 2 API: `Conv2D(10, (3, 3), activation=\"relu\")`\n",
            "/usr/local/lib/python3.6/dist-packages/ipykernel_launcher.py:22: UserWarning: Update your `Conv2D` call to the Keras 2 API: `Conv2D(12, (3, 3), activation=\"relu\")`\n",
            "/usr/local/lib/python3.6/dist-packages/ipykernel_launcher.py:26: UserWarning: Update your `Conv2D` call to the Keras 2 API: `Conv2D(16, (3, 3), activation=\"relu\")`\n",
            "/usr/local/lib/python3.6/dist-packages/ipykernel_launcher.py:30: UserWarning: Update your `Conv2D` call to the Keras 2 API: `Conv2D(10, (5, 5))`\n"
          ],
          "name": "stderr"
        },
        {
          "output_type": "stream",
          "text": [
            "_________________________________________________________________\n",
            "Layer (type)                 Output Shape              Param #   \n",
            "=================================================================\n",
            "conv2d_413 (Conv2D)          (None, 26, 26, 8)         80        \n",
            "_________________________________________________________________\n",
            "batch_normalization_326 (Bat (None, 26, 26, 8)         32        \n",
            "_________________________________________________________________\n",
            "conv2d_414 (Conv2D)          (None, 24, 24, 10)        730       \n",
            "_________________________________________________________________\n",
            "batch_normalization_327 (Bat (None, 24, 24, 10)        40        \n",
            "_________________________________________________________________\n",
            "dropout_256 (Dropout)        (None, 24, 24, 10)        0         \n",
            "_________________________________________________________________\n",
            "conv2d_415 (Conv2D)          (None, 22, 22, 12)        1092      \n",
            "_________________________________________________________________\n",
            "batch_normalization_328 (Bat (None, 22, 22, 12)        48        \n",
            "_________________________________________________________________\n",
            "dropout_257 (Dropout)        (None, 22, 22, 12)        0         \n",
            "_________________________________________________________________\n",
            "conv2d_416 (Conv2D)          (None, 22, 22, 8)         104       \n",
            "_________________________________________________________________\n",
            "max_pooling2d_55 (MaxPooling (None, 11, 11, 8)         0         \n",
            "_________________________________________________________________\n",
            "conv2d_417 (Conv2D)          (None, 9, 9, 10)          730       \n",
            "_________________________________________________________________\n",
            "batch_normalization_329 (Bat (None, 9, 9, 10)          40        \n",
            "_________________________________________________________________\n",
            "dropout_258 (Dropout)        (None, 9, 9, 10)          0         \n",
            "_________________________________________________________________\n",
            "conv2d_418 (Conv2D)          (None, 7, 7, 12)          1092      \n",
            "_________________________________________________________________\n",
            "batch_normalization_330 (Bat (None, 7, 7, 12)          48        \n",
            "_________________________________________________________________\n",
            "dropout_259 (Dropout)        (None, 7, 7, 12)          0         \n",
            "_________________________________________________________________\n",
            "conv2d_419 (Conv2D)          (None, 5, 5, 16)          1744      \n",
            "_________________________________________________________________\n",
            "batch_normalization_331 (Bat (None, 5, 5, 16)          64        \n",
            "_________________________________________________________________\n",
            "dropout_260 (Dropout)        (None, 5, 5, 16)          0         \n",
            "_________________________________________________________________\n",
            "conv2d_420 (Conv2D)          (None, 1, 1, 10)          4010      \n",
            "_________________________________________________________________\n",
            "batch_normalization_332 (Bat (None, 1, 1, 10)          40        \n",
            "_________________________________________________________________\n",
            "flatten_49 (Flatten)         (None, 10)                0         \n",
            "_________________________________________________________________\n",
            "activation_49 (Activation)   (None, 10)                0         \n",
            "=================================================================\n",
            "Total params: 9,894\n",
            "Trainable params: 9,738\n",
            "Non-trainable params: 156\n",
            "_________________________________________________________________\n"
          ],
          "name": "stdout"
        }
      ]
    },
    {
      "cell_type": "code",
      "metadata": {
        "id": "g3Mz5YGD4JVi",
        "colab_type": "code",
        "colab": {}
      },
      "source": [
        "#Creating normalized data for train and test\n",
        "datagen = keras.preprocessing.image.ImageDataGenerator(featurewise_center=True,featurewise_std_normalization=True)\n",
        "datagen.fit(X_train)\n",
        "datagen.fit(X_test)\n",
        "\n",
        "train_iterator = datagen.flow(X_train, Y_train, batch_size=64)\n",
        "test_iterator = datagen.flow(X_test, Y_test, batch_size=64)\n"
      ],
      "execution_count": 0,
      "outputs": []
    },
    {
      "cell_type": "code",
      "metadata": {
        "id": "Zp6SuGrL9M3h",
        "colab_type": "code",
        "colab": {
          "base_uri": "https://localhost:8080/",
          "height": 1505
        },
        "outputId": "42c30a06-b82c-4ed9-8cc3-e311d6b5af1a"
      },
      "source": [
        "model.compile(loss='categorical_crossentropy',\n",
        "             optimizer='adam',\n",
        "             metrics=['accuracy'])\n",
        "\n",
        "from keras.callbacks import LearningRateScheduler\n",
        "def lr_schedule(epoch):\n",
        "  return round(0.003 * 1/(1 + 0.319 * epoch), 10)\n",
        "\n",
        "model.fit_generator(train_iterator,\n",
        "                    steps_per_epoch=len(train_iterator),\n",
        "                    epochs=20, verbose=1,\n",
        "                    validation_data=test_iterator,\n",
        "                    validation_steps=len(test_iterator),\n",
        "                    callbacks=[LearningRateScheduler(lr_schedule, verbose=1)],\n",
        "                   )"
      ],
      "execution_count": 137,
      "outputs": [
        {
          "output_type": "stream",
          "text": [
            "Epoch 1/20\n",
            "\n",
            "Epoch 00001: LearningRateScheduler setting learning rate to 0.003.\n",
            "938/938 [==============================] - 52s 56ms/step - loss: 0.3289 - acc: 0.9334 - val_loss: 0.0911 - val_acc: 0.9784\n",
            "Epoch 2/20\n",
            "\n",
            "Epoch 00002: LearningRateScheduler setting learning rate to 0.0022744503.\n",
            "938/938 [==============================] - 17s 19ms/step - loss: 0.1029 - acc: 0.9761 - val_loss: 0.0526 - val_acc: 0.9863\n",
            "Epoch 3/20\n",
            "\n",
            "Epoch 00003: LearningRateScheduler setting learning rate to 0.0018315018.\n",
            "938/938 [==============================] - 18s 19ms/step - loss: 0.0772 - acc: 0.9799 - val_loss: 0.0404 - val_acc: 0.9890\n",
            "Epoch 4/20\n",
            "\n",
            "Epoch 00004: LearningRateScheduler setting learning rate to 0.0015329586.\n",
            "938/938 [==============================] - 17s 19ms/step - loss: 0.0639 - acc: 0.9829 - val_loss: 0.0337 - val_acc: 0.9905\n",
            "Epoch 5/20\n",
            "\n",
            "Epoch 00005: LearningRateScheduler setting learning rate to 0.0013181019.\n",
            "938/938 [==============================] - 17s 19ms/step - loss: 0.0557 - acc: 0.9850 - val_loss: 0.0305 - val_acc: 0.9911\n",
            "Epoch 6/20\n",
            "\n",
            "Epoch 00006: LearningRateScheduler setting learning rate to 0.0011560694.\n",
            "938/938 [==============================] - 17s 18ms/step - loss: 0.0512 - acc: 0.9857 - val_loss: 0.0267 - val_acc: 0.9933\n",
            "Epoch 7/20\n",
            "\n",
            "Epoch 00007: LearningRateScheduler setting learning rate to 0.0010295127.\n",
            "938/938 [==============================] - 18s 19ms/step - loss: 0.0474 - acc: 0.9864 - val_loss: 0.0285 - val_acc: 0.9916\n",
            "Epoch 8/20\n",
            "\n",
            "Epoch 00008: LearningRateScheduler setting learning rate to 0.0009279307.\n",
            "938/938 [==============================] - 18s 19ms/step - loss: 0.0443 - acc: 0.9873 - val_loss: 0.0253 - val_acc: 0.9931\n",
            "Epoch 9/20\n",
            "\n",
            "Epoch 00009: LearningRateScheduler setting learning rate to 0.0008445946.\n",
            "938/938 [==============================] - 17s 18ms/step - loss: 0.0401 - acc: 0.9887 - val_loss: 0.0236 - val_acc: 0.9931\n",
            "Epoch 10/20\n",
            "\n",
            "Epoch 00010: LearningRateScheduler setting learning rate to 0.0007749935.\n",
            "938/938 [==============================] - 17s 19ms/step - loss: 0.0378 - acc: 0.9892 - val_loss: 0.0234 - val_acc: 0.9929\n",
            "Epoch 11/20\n",
            "\n",
            "Epoch 00011: LearningRateScheduler setting learning rate to 0.0007159905.\n",
            "938/938 [==============================] - 17s 19ms/step - loss: 0.0352 - acc: 0.9904 - val_loss: 0.0238 - val_acc: 0.9928\n",
            "Epoch 12/20\n",
            "\n",
            "Epoch 00012: LearningRateScheduler setting learning rate to 0.000665336.\n",
            "938/938 [==============================] - 18s 19ms/step - loss: 0.0345 - acc: 0.9902 - val_loss: 0.0208 - val_acc: 0.9945\n",
            "Epoch 13/20\n",
            "\n",
            "Epoch 00013: LearningRateScheduler setting learning rate to 0.0006213753.\n",
            "938/938 [==============================] - 17s 19ms/step - loss: 0.0321 - acc: 0.9911 - val_loss: 0.0195 - val_acc: 0.9938\n",
            "Epoch 14/20\n",
            "\n",
            "Epoch 00014: LearningRateScheduler setting learning rate to 0.0005828638.\n",
            "938/938 [==============================] - 17s 18ms/step - loss: 0.0341 - acc: 0.9901 - val_loss: 0.0212 - val_acc: 0.9935\n",
            "Epoch 15/20\n",
            "\n",
            "Epoch 00015: LearningRateScheduler setting learning rate to 0.0005488474.\n",
            "938/938 [==============================] - 18s 19ms/step - loss: 0.0314 - acc: 0.9915 - val_loss: 0.0205 - val_acc: 0.9941\n",
            "Epoch 16/20\n",
            "\n",
            "Epoch 00016: LearningRateScheduler setting learning rate to 0.0005185825.\n",
            "938/938 [==============================] - 17s 19ms/step - loss: 0.0297 - acc: 0.9916 - val_loss: 0.0196 - val_acc: 0.9943\n",
            "Epoch 17/20\n",
            "\n",
            "Epoch 00017: LearningRateScheduler setting learning rate to 0.000491481.\n",
            "938/938 [==============================] - 18s 19ms/step - loss: 0.0304 - acc: 0.9913 - val_loss: 0.0203 - val_acc: 0.9936\n",
            "Epoch 18/20\n",
            "\n",
            "Epoch 00018: LearningRateScheduler setting learning rate to 0.0004670715.\n",
            "938/938 [==============================] - 17s 18ms/step - loss: 0.0287 - acc: 0.9921 - val_loss: 0.0191 - val_acc: 0.9944\n",
            "Epoch 19/20\n",
            "\n",
            "Epoch 00019: LearningRateScheduler setting learning rate to 0.0004449718.\n",
            "938/938 [==============================] - 17s 18ms/step - loss: 0.0293 - acc: 0.9915 - val_loss: 0.0208 - val_acc: 0.9937\n",
            "Epoch 20/20\n",
            "\n",
            "Epoch 00020: LearningRateScheduler setting learning rate to 0.000424869.\n",
            "938/938 [==============================] - 17s 18ms/step - loss: 0.0275 - acc: 0.9921 - val_loss: 0.0213 - val_acc: 0.9931\n"
          ],
          "name": "stdout"
        },
        {
          "output_type": "execute_result",
          "data": {
            "text/plain": [
              "<keras.callbacks.History at 0x7f0f8358e710>"
            ]
          },
          "metadata": {
            "tags": []
          },
          "execution_count": 137
        }
      ]
    },
    {
      "cell_type": "markdown",
      "metadata": {
        "id": "wUYfksw5nd24",
        "colab_type": "text"
      },
      "source": [
        "# 2: Image Normalization + ReLU after BN"
      ]
    },
    {
      "cell_type": "code",
      "metadata": {
        "id": "1vt6xaJE8E1y",
        "colab_type": "code",
        "colab": {
          "base_uri": "https://localhost:8080/",
          "height": 1211
        },
        "outputId": "599130a4-cfd5-4edd-c97d-592c33dcd8b4"
      },
      "source": [
        "from keras.layers import Activation, Conv2D, BatchNormalization, Dropout\n",
        "\n",
        "model = Sequential()\n",
        " \n",
        "model.add(Conv2D(8, (3, 3), input_shape=(28,28,1))) #26\n",
        "model.add(BatchNormalization())\n",
        "model.add(Activation('relu'))\n",
        "\n",
        "model.add(Conv2D(10, (3, 3))) #24\n",
        "model.add(BatchNormalization())\n",
        "model.add(Activation('relu'))\n",
        "model.add(Dropout(0.1))\n",
        "\n",
        "\n",
        "model.add(Conv2D(12, (3, 3)))#22\n",
        "model.add(BatchNormalization())\n",
        "model.add(Activation('relu'))\n",
        "model.add(Dropout(0.1))\n",
        "\n",
        "\n",
        "model.add(Conv2D(8, (1, 1), activation='relu')) #22\n",
        "model.add(MaxPooling2D(pool_size=(2, 2)))#11\n",
        "\n",
        "model.add(Conv2D(10, (3, 3)))#9\n",
        "model.add(BatchNormalization())\n",
        "model.add(Activation('relu'))\n",
        "model.add(Dropout(0.1))\n",
        "\n",
        "model.add(Conv2D(12, (3, 3)))#7\n",
        "model.add(BatchNormalization())\n",
        "model.add(Activation('relu'))\n",
        "model.add(Dropout(0.1))\n",
        "\n",
        "model.add(Conv2D(16, (3, 3)))#5\n",
        "model.add(BatchNormalization())\n",
        "model.add(Activation('relu'))\n",
        "model.add(Dropout(0.1))\n",
        "\n",
        "model.add(Conv2D(10, (5, 5)))\n",
        "model.add(BatchNormalization())\n",
        "\n",
        "\n",
        "model.add(Flatten())\n",
        "model.add(Activation('softmax'))\n",
        "\n",
        "\n",
        "model.summary()"
      ],
      "execution_count": 138,
      "outputs": [
        {
          "output_type": "stream",
          "text": [
            "_________________________________________________________________\n",
            "Layer (type)                 Output Shape              Param #   \n",
            "=================================================================\n",
            "conv2d_421 (Conv2D)          (None, 26, 26, 8)         80        \n",
            "_________________________________________________________________\n",
            "batch_normalization_333 (Bat (None, 26, 26, 8)         32        \n",
            "_________________________________________________________________\n",
            "activation_50 (Activation)   (None, 26, 26, 8)         0         \n",
            "_________________________________________________________________\n",
            "conv2d_422 (Conv2D)          (None, 24, 24, 10)        730       \n",
            "_________________________________________________________________\n",
            "batch_normalization_334 (Bat (None, 24, 24, 10)        40        \n",
            "_________________________________________________________________\n",
            "activation_51 (Activation)   (None, 24, 24, 10)        0         \n",
            "_________________________________________________________________\n",
            "dropout_261 (Dropout)        (None, 24, 24, 10)        0         \n",
            "_________________________________________________________________\n",
            "conv2d_423 (Conv2D)          (None, 22, 22, 12)        1092      \n",
            "_________________________________________________________________\n",
            "batch_normalization_335 (Bat (None, 22, 22, 12)        48        \n",
            "_________________________________________________________________\n",
            "activation_52 (Activation)   (None, 22, 22, 12)        0         \n",
            "_________________________________________________________________\n",
            "dropout_262 (Dropout)        (None, 22, 22, 12)        0         \n",
            "_________________________________________________________________\n",
            "conv2d_424 (Conv2D)          (None, 22, 22, 8)         104       \n",
            "_________________________________________________________________\n",
            "max_pooling2d_56 (MaxPooling (None, 11, 11, 8)         0         \n",
            "_________________________________________________________________\n",
            "conv2d_425 (Conv2D)          (None, 9, 9, 10)          730       \n",
            "_________________________________________________________________\n",
            "batch_normalization_336 (Bat (None, 9, 9, 10)          40        \n",
            "_________________________________________________________________\n",
            "activation_53 (Activation)   (None, 9, 9, 10)          0         \n",
            "_________________________________________________________________\n",
            "dropout_263 (Dropout)        (None, 9, 9, 10)          0         \n",
            "_________________________________________________________________\n",
            "conv2d_426 (Conv2D)          (None, 7, 7, 12)          1092      \n",
            "_________________________________________________________________\n",
            "batch_normalization_337 (Bat (None, 7, 7, 12)          48        \n",
            "_________________________________________________________________\n",
            "activation_54 (Activation)   (None, 7, 7, 12)          0         \n",
            "_________________________________________________________________\n",
            "dropout_264 (Dropout)        (None, 7, 7, 12)          0         \n",
            "_________________________________________________________________\n",
            "conv2d_427 (Conv2D)          (None, 5, 5, 16)          1744      \n",
            "_________________________________________________________________\n",
            "batch_normalization_338 (Bat (None, 5, 5, 16)          64        \n",
            "_________________________________________________________________\n",
            "activation_55 (Activation)   (None, 5, 5, 16)          0         \n",
            "_________________________________________________________________\n",
            "dropout_265 (Dropout)        (None, 5, 5, 16)          0         \n",
            "_________________________________________________________________\n",
            "conv2d_428 (Conv2D)          (None, 1, 1, 10)          4010      \n",
            "_________________________________________________________________\n",
            "batch_normalization_339 (Bat (None, 1, 1, 10)          40        \n",
            "_________________________________________________________________\n",
            "flatten_50 (Flatten)         (None, 10)                0         \n",
            "_________________________________________________________________\n",
            "activation_56 (Activation)   (None, 10)                0         \n",
            "=================================================================\n",
            "Total params: 9,894\n",
            "Trainable params: 9,738\n",
            "Non-trainable params: 156\n",
            "_________________________________________________________________\n"
          ],
          "name": "stdout"
        }
      ]
    },
    {
      "cell_type": "code",
      "metadata": {
        "id": "_BjNGiIC9uhG",
        "colab_type": "code",
        "colab": {}
      },
      "source": [
        "#Creating normalized data for train and test\n",
        "datagen = keras.preprocessing.image.ImageDataGenerator(featurewise_center=True,featurewise_std_normalization=True)\n",
        "datagen.fit(X_train)\n",
        "datagen.fit(X_test)\n",
        "\n",
        "train_iterator = datagen.flow(X_train, Y_train, batch_size=64)\n",
        "test_iterator = datagen.flow(X_test, Y_test, batch_size=64)\n"
      ],
      "execution_count": 0,
      "outputs": []
    },
    {
      "cell_type": "code",
      "metadata": {
        "id": "KJxhr8rd9wkc",
        "colab_type": "code",
        "colab": {
          "base_uri": "https://localhost:8080/",
          "height": 1505
        },
        "outputId": "01d2def3-3909-4f85-b7e5-34b7b880dfe8"
      },
      "source": [
        "model.compile(loss='categorical_crossentropy',\n",
        "             optimizer='adam',\n",
        "             metrics=['accuracy'])\n",
        "\n",
        "from keras.callbacks import LearningRateScheduler\n",
        "def lr_schedule(epoch):\n",
        "  return round(0.003 * 1/(1 + 0.319 * epoch), 10)\n",
        "\n",
        "model.fit_generator(train_iterator,\n",
        "                    steps_per_epoch=len(train_iterator),\n",
        "                    epochs=20, verbose=1,\n",
        "                    validation_data=test_iterator,\n",
        "                    validation_steps=len(test_iterator),\n",
        "                    callbacks=[LearningRateScheduler(lr_schedule, verbose=1)],\n",
        "                   )"
      ],
      "execution_count": 140,
      "outputs": [
        {
          "output_type": "stream",
          "text": [
            "Epoch 1/20\n",
            "\n",
            "Epoch 00001: LearningRateScheduler setting learning rate to 0.003.\n",
            "938/938 [==============================] - 54s 57ms/step - loss: 0.3155 - acc: 0.9380 - val_loss: 0.0963 - val_acc: 0.9785\n",
            "Epoch 2/20\n",
            "\n",
            "Epoch 00002: LearningRateScheduler setting learning rate to 0.0022744503.\n",
            "938/938 [==============================] - 18s 19ms/step - loss: 0.1088 - acc: 0.9745 - val_loss: 0.0565 - val_acc: 0.9850\n",
            "Epoch 3/20\n",
            "\n",
            "Epoch 00003: LearningRateScheduler setting learning rate to 0.0018315018.\n",
            "938/938 [==============================] - 17s 19ms/step - loss: 0.0813 - acc: 0.9791 - val_loss: 0.0447 - val_acc: 0.9877\n",
            "Epoch 4/20\n",
            "\n",
            "Epoch 00004: LearningRateScheduler setting learning rate to 0.0015329586.\n",
            "938/938 [==============================] - 18s 19ms/step - loss: 0.0674 - acc: 0.9821 - val_loss: 0.0425 - val_acc: 0.9877\n",
            "Epoch 5/20\n",
            "\n",
            "Epoch 00005: LearningRateScheduler setting learning rate to 0.0013181019.\n",
            "938/938 [==============================] - 18s 19ms/step - loss: 0.0619 - acc: 0.9835 - val_loss: 0.0379 - val_acc: 0.9895\n",
            "Epoch 6/20\n",
            "\n",
            "Epoch 00006: LearningRateScheduler setting learning rate to 0.0011560694.\n",
            "938/938 [==============================] - 18s 19ms/step - loss: 0.0533 - acc: 0.9853 - val_loss: 0.0351 - val_acc: 0.9904\n",
            "Epoch 7/20\n",
            "\n",
            "Epoch 00007: LearningRateScheduler setting learning rate to 0.0010295127.\n",
            "938/938 [==============================] - 18s 19ms/step - loss: 0.0492 - acc: 0.9860 - val_loss: 0.0305 - val_acc: 0.9914\n",
            "Epoch 8/20\n",
            "\n",
            "Epoch 00008: LearningRateScheduler setting learning rate to 0.0009279307.\n",
            "938/938 [==============================] - 18s 19ms/step - loss: 0.0478 - acc: 0.9864 - val_loss: 0.0288 - val_acc: 0.9907\n",
            "Epoch 9/20\n",
            "\n",
            "Epoch 00009: LearningRateScheduler setting learning rate to 0.0008445946.\n",
            "938/938 [==============================] - 18s 19ms/step - loss: 0.0430 - acc: 0.9881 - val_loss: 0.0266 - val_acc: 0.9923\n",
            "Epoch 10/20\n",
            "\n",
            "Epoch 00010: LearningRateScheduler setting learning rate to 0.0007749935.\n",
            "938/938 [==============================] - 18s 19ms/step - loss: 0.0421 - acc: 0.9880 - val_loss: 0.0249 - val_acc: 0.9930\n",
            "Epoch 11/20\n",
            "\n",
            "Epoch 00011: LearningRateScheduler setting learning rate to 0.0007159905.\n",
            "938/938 [==============================] - 18s 19ms/step - loss: 0.0387 - acc: 0.9887 - val_loss: 0.0266 - val_acc: 0.9917\n",
            "Epoch 12/20\n",
            "\n",
            "Epoch 00012: LearningRateScheduler setting learning rate to 0.000665336.\n",
            "938/938 [==============================] - 18s 19ms/step - loss: 0.0377 - acc: 0.9892 - val_loss: 0.0236 - val_acc: 0.9930\n",
            "Epoch 13/20\n",
            "\n",
            "Epoch 00013: LearningRateScheduler setting learning rate to 0.0006213753.\n",
            "938/938 [==============================] - 18s 19ms/step - loss: 0.0372 - acc: 0.9893 - val_loss: 0.0251 - val_acc: 0.9921\n",
            "Epoch 14/20\n",
            "\n",
            "Epoch 00014: LearningRateScheduler setting learning rate to 0.0005828638.\n",
            "938/938 [==============================] - 18s 19ms/step - loss: 0.0354 - acc: 0.9903 - val_loss: 0.0270 - val_acc: 0.9924\n",
            "Epoch 15/20\n",
            "\n",
            "Epoch 00015: LearningRateScheduler setting learning rate to 0.0005488474.\n",
            "938/938 [==============================] - 18s 19ms/step - loss: 0.0339 - acc: 0.9908 - val_loss: 0.0244 - val_acc: 0.9928\n",
            "Epoch 16/20\n",
            "\n",
            "Epoch 00016: LearningRateScheduler setting learning rate to 0.0005185825.\n",
            "938/938 [==============================] - 18s 19ms/step - loss: 0.0332 - acc: 0.9903 - val_loss: 0.0232 - val_acc: 0.9936\n",
            "Epoch 17/20\n",
            "\n",
            "Epoch 00017: LearningRateScheduler setting learning rate to 0.000491481.\n",
            "938/938 [==============================] - 18s 19ms/step - loss: 0.0331 - acc: 0.9900 - val_loss: 0.0245 - val_acc: 0.9928\n",
            "Epoch 18/20\n",
            "\n",
            "Epoch 00018: LearningRateScheduler setting learning rate to 0.0004670715.\n",
            "938/938 [==============================] - 18s 19ms/step - loss: 0.0319 - acc: 0.9908 - val_loss: 0.0244 - val_acc: 0.9932\n",
            "Epoch 19/20\n",
            "\n",
            "Epoch 00019: LearningRateScheduler setting learning rate to 0.0004449718.\n",
            "938/938 [==============================] - 18s 19ms/step - loss: 0.0315 - acc: 0.9909 - val_loss: 0.0231 - val_acc: 0.9931\n",
            "Epoch 20/20\n",
            "\n",
            "Epoch 00020: LearningRateScheduler setting learning rate to 0.000424869.\n",
            "938/938 [==============================] - 18s 19ms/step - loss: 0.0304 - acc: 0.9911 - val_loss: 0.0233 - val_acc: 0.9933\n"
          ],
          "name": "stdout"
        },
        {
          "output_type": "execute_result",
          "data": {
            "text/plain": [
              "<keras.callbacks.History at 0x7f0f85f3c9e8>"
            ]
          },
          "metadata": {
            "tags": []
          },
          "execution_count": 140
        }
      ]
    },
    {
      "cell_type": "markdown",
      "metadata": {
        "id": "XDSnwaIA92qk",
        "colab_type": "text"
      },
      "source": [
        "# 3: Image Normalization + ReLU after BN + L2 Regularization\n",
        "\n",
        "Have Increased the batch size to run it faster"
      ]
    },
    {
      "cell_type": "code",
      "metadata": {
        "id": "RSkhC7UN916t",
        "colab_type": "code",
        "colab": {
          "base_uri": "https://localhost:8080/",
          "height": 1211
        },
        "outputId": "558dcc94-30ff-49ce-89df-6c59f0c35f70"
      },
      "source": [
        "from keras.layers import Activation, Conv2D, BatchNormalization, Dropout\n",
        "from keras.regularizers import l2\n",
        "\n",
        "model = Sequential()\n",
        " \n",
        "model.add(Conv2D(8, (3, 3), input_shape=(28,28,1))) #26\n",
        "model.add(BatchNormalization())\n",
        "model.add(Activation('relu'))\n",
        "\n",
        "model.add(Conv2D(10, (3, 3), kernel_regularizer=l2(0.01))) #24\n",
        "model.add(BatchNormalization())\n",
        "model.add(Activation('relu'))\n",
        "model.add(Dropout(0.1))\n",
        "\n",
        "\n",
        "model.add(Conv2D(12, (3, 3), kernel_regularizer=l2(0.01)))#22\n",
        "model.add(BatchNormalization())\n",
        "model.add(Activation('relu'))\n",
        "model.add(Dropout(0.1))\n",
        "\n",
        "\n",
        "model.add(Conv2D(8, (1, 1), activation='relu')) #22\n",
        "model.add(MaxPooling2D(pool_size=(2, 2)))#11\n",
        "\n",
        "model.add(Conv2D(10, (3, 3), kernel_regularizer=l2(0.01)))#9\n",
        "model.add(BatchNormalization())\n",
        "model.add(Activation('relu'))\n",
        "model.add(Dropout(0.1))\n",
        "\n",
        "model.add(Conv2D(12, (3, 3), kernel_regularizer=l2(0.01)))#7\n",
        "model.add(BatchNormalization())\n",
        "model.add(Activation('relu'))\n",
        "model.add(Dropout(0.1))\n",
        "\n",
        "model.add(Conv2D(16, (3, 3), kernel_regularizer=l2(0.01)))#5\n",
        "model.add(BatchNormalization())\n",
        "model.add(Activation('relu'))\n",
        "model.add(Dropout(0.1))\n",
        "\n",
        "model.add(Conv2D(10, (5, 5), kernel_regularizer=l2(0.01))) #1\n",
        "model.add(BatchNormalization())\n",
        "\n",
        "\n",
        "model.add(Flatten())\n",
        "model.add(Activation('softmax'))\n",
        "\n",
        "\n",
        "model.summary()"
      ],
      "execution_count": 152,
      "outputs": [
        {
          "output_type": "stream",
          "text": [
            "_________________________________________________________________\n",
            "Layer (type)                 Output Shape              Param #   \n",
            "=================================================================\n",
            "conv2d_453 (Conv2D)          (None, 26, 26, 8)         80        \n",
            "_________________________________________________________________\n",
            "batch_normalization_361 (Bat (None, 26, 26, 8)         32        \n",
            "_________________________________________________________________\n",
            "activation_78 (Activation)   (None, 26, 26, 8)         0         \n",
            "_________________________________________________________________\n",
            "conv2d_454 (Conv2D)          (None, 24, 24, 10)        730       \n",
            "_________________________________________________________________\n",
            "batch_normalization_362 (Bat (None, 24, 24, 10)        40        \n",
            "_________________________________________________________________\n",
            "activation_79 (Activation)   (None, 24, 24, 10)        0         \n",
            "_________________________________________________________________\n",
            "dropout_281 (Dropout)        (None, 24, 24, 10)        0         \n",
            "_________________________________________________________________\n",
            "conv2d_455 (Conv2D)          (None, 22, 22, 12)        1092      \n",
            "_________________________________________________________________\n",
            "batch_normalization_363 (Bat (None, 22, 22, 12)        48        \n",
            "_________________________________________________________________\n",
            "activation_80 (Activation)   (None, 22, 22, 12)        0         \n",
            "_________________________________________________________________\n",
            "dropout_282 (Dropout)        (None, 22, 22, 12)        0         \n",
            "_________________________________________________________________\n",
            "conv2d_456 (Conv2D)          (None, 22, 22, 8)         104       \n",
            "_________________________________________________________________\n",
            "max_pooling2d_60 (MaxPooling (None, 11, 11, 8)         0         \n",
            "_________________________________________________________________\n",
            "conv2d_457 (Conv2D)          (None, 9, 9, 10)          730       \n",
            "_________________________________________________________________\n",
            "batch_normalization_364 (Bat (None, 9, 9, 10)          40        \n",
            "_________________________________________________________________\n",
            "activation_81 (Activation)   (None, 9, 9, 10)          0         \n",
            "_________________________________________________________________\n",
            "dropout_283 (Dropout)        (None, 9, 9, 10)          0         \n",
            "_________________________________________________________________\n",
            "conv2d_458 (Conv2D)          (None, 7, 7, 12)          1092      \n",
            "_________________________________________________________________\n",
            "batch_normalization_365 (Bat (None, 7, 7, 12)          48        \n",
            "_________________________________________________________________\n",
            "activation_82 (Activation)   (None, 7, 7, 12)          0         \n",
            "_________________________________________________________________\n",
            "dropout_284 (Dropout)        (None, 7, 7, 12)          0         \n",
            "_________________________________________________________________\n",
            "conv2d_459 (Conv2D)          (None, 5, 5, 16)          1744      \n",
            "_________________________________________________________________\n",
            "batch_normalization_366 (Bat (None, 5, 5, 16)          64        \n",
            "_________________________________________________________________\n",
            "activation_83 (Activation)   (None, 5, 5, 16)          0         \n",
            "_________________________________________________________________\n",
            "dropout_285 (Dropout)        (None, 5, 5, 16)          0         \n",
            "_________________________________________________________________\n",
            "conv2d_460 (Conv2D)          (None, 1, 1, 10)          4010      \n",
            "_________________________________________________________________\n",
            "batch_normalization_367 (Bat (None, 1, 1, 10)          40        \n",
            "_________________________________________________________________\n",
            "flatten_54 (Flatten)         (None, 10)                0         \n",
            "_________________________________________________________________\n",
            "activation_84 (Activation)   (None, 10)                0         \n",
            "=================================================================\n",
            "Total params: 9,894\n",
            "Trainable params: 9,738\n",
            "Non-trainable params: 156\n",
            "_________________________________________________________________\n"
          ],
          "name": "stdout"
        }
      ]
    },
    {
      "cell_type": "code",
      "metadata": {
        "id": "c81MLNzv_TAU",
        "colab_type": "code",
        "colab": {}
      },
      "source": [
        "#Creating normalized data for train and test\n",
        "datagen = keras.preprocessing.image.ImageDataGenerator(featurewise_center=True,featurewise_std_normalization=True)\n",
        "datagen.fit(X_train)\n",
        "datagen.fit(X_test)\n",
        "\n",
        "train_iterator = datagen.flow(X_train, Y_train, batch_size=256)\n",
        "test_iterator = datagen.flow(X_test, Y_test, batch_size=256)\n"
      ],
      "execution_count": 0,
      "outputs": []
    },
    {
      "cell_type": "code",
      "metadata": {
        "id": "akVG_4lK_VL_",
        "colab_type": "code",
        "colab": {
          "base_uri": "https://localhost:8080/",
          "height": 4443
        },
        "outputId": "85add41d-7b76-4def-afc7-b54ce7c6962f"
      },
      "source": [
        "model.compile(loss='categorical_crossentropy',\n",
        "             optimizer='adam',\n",
        "             metrics=['accuracy'])\n",
        "\n",
        "from keras.callbacks import LearningRateScheduler\n",
        "def lr_schedule(epoch):\n",
        "  return round(0.003 * 1/(1 + 0.319 * epoch), 10)\n",
        "lrs= LearningRateScheduler(lr_schedule, verbose=1)\n",
        "\n",
        "\n",
        "filepath=\"/content/BestModel.hdf5\"\n",
        "checkpoint = keras.callbacks.ModelCheckpoint(filepath, monitor='val_acc',\n",
        "                                             verbose=1, mode='auto',\n",
        "                                             save_best_only=True, save_weights_only=False)\n",
        "\n",
        "\n",
        "model.fit_generator(train_iterator,\n",
        "                    steps_per_epoch=len(train_iterator),\n",
        "                    epochs=40, verbose=1,\n",
        "                    validation_data=test_iterator,\n",
        "                    validation_steps=len(test_iterator),\n",
        "                    callbacks=[lrs, checkpoint],\n",
        "                   )"
      ],
      "execution_count": 154,
      "outputs": [
        {
          "output_type": "stream",
          "text": [
            "Epoch 1/40\n",
            "\n",
            "Epoch 00001: LearningRateScheduler setting learning rate to 0.003.\n",
            "235/235 [==============================] - 47s 200ms/step - loss: 0.7856 - acc: 0.9129 - val_loss: 2.5755 - val_acc: 0.1171\n",
            "\n",
            "Epoch 00001: val_acc improved from -inf to 0.11710, saving model to /content/BestModel.hdf5\n",
            "Epoch 2/40\n",
            "\n",
            "Epoch 00002: LearningRateScheduler setting learning rate to 0.0022744503.\n",
            "235/235 [==============================] - 6s 25ms/step - loss: 0.2196 - acc: 0.9785 - val_loss: 0.9237 - val_acc: 0.7370\n",
            "\n",
            "Epoch 00002: val_acc improved from 0.11710 to 0.73700, saving model to /content/BestModel.hdf5\n",
            "Epoch 3/40\n",
            "\n",
            "Epoch 00003: LearningRateScheduler setting learning rate to 0.0018315018.\n",
            "235/235 [==============================] - 6s 24ms/step - loss: 0.1597 - acc: 0.9812 - val_loss: 0.1870 - val_acc: 0.9812\n",
            "\n",
            "Epoch 00003: val_acc improved from 0.73700 to 0.98120, saving model to /content/BestModel.hdf5\n",
            "Epoch 4/40\n",
            "\n",
            "Epoch 00004: LearningRateScheduler setting learning rate to 0.0015329586.\n",
            "235/235 [==============================] - 6s 25ms/step - loss: 0.1345 - acc: 0.9830 - val_loss: 0.1903 - val_acc: 0.9678\n",
            "\n",
            "Epoch 00004: val_acc did not improve from 0.98120\n",
            "Epoch 5/40\n",
            "\n",
            "Epoch 00005: LearningRateScheduler setting learning rate to 0.0013181019.\n",
            "235/235 [==============================] - 6s 25ms/step - loss: 0.1182 - acc: 0.9843 - val_loss: 0.1257 - val_acc: 0.9832\n",
            "\n",
            "Epoch 00005: val_acc improved from 0.98120 to 0.98320, saving model to /content/BestModel.hdf5\n",
            "Epoch 6/40\n",
            "\n",
            "Epoch 00006: LearningRateScheduler setting learning rate to 0.0011560694.\n",
            "235/235 [==============================] - 6s 24ms/step - loss: 0.1068 - acc: 0.9850 - val_loss: 0.1063 - val_acc: 0.9851\n",
            "\n",
            "Epoch 00006: val_acc improved from 0.98320 to 0.98510, saving model to /content/BestModel.hdf5\n",
            "Epoch 7/40\n",
            "\n",
            "Epoch 00007: LearningRateScheduler setting learning rate to 0.0010295127.\n",
            "235/235 [==============================] - 6s 25ms/step - loss: 0.0972 - acc: 0.9860 - val_loss: 0.1134 - val_acc: 0.9785\n",
            "\n",
            "Epoch 00007: val_acc did not improve from 0.98510\n",
            "Epoch 8/40\n",
            "\n",
            "Epoch 00008: LearningRateScheduler setting learning rate to 0.0009279307.\n",
            "235/235 [==============================] - 6s 25ms/step - loss: 0.0906 - acc: 0.9868 - val_loss: 0.0964 - val_acc: 0.9821\n",
            "\n",
            "Epoch 00008: val_acc did not improve from 0.98510\n",
            "Epoch 9/40\n",
            "\n",
            "Epoch 00009: LearningRateScheduler setting learning rate to 0.0008445946.\n",
            "235/235 [==============================] - 6s 25ms/step - loss: 0.0840 - acc: 0.9873 - val_loss: 0.1010 - val_acc: 0.9819\n",
            "\n",
            "Epoch 00009: val_acc did not improve from 0.98510\n",
            "Epoch 10/40\n",
            "\n",
            "Epoch 00010: LearningRateScheduler setting learning rate to 0.0007749935.\n",
            "235/235 [==============================] - 6s 25ms/step - loss: 0.0813 - acc: 0.9874 - val_loss: 0.0729 - val_acc: 0.9900\n",
            "\n",
            "Epoch 00010: val_acc improved from 0.98510 to 0.99000, saving model to /content/BestModel.hdf5\n",
            "Epoch 11/40\n",
            "\n",
            "Epoch 00011: LearningRateScheduler setting learning rate to 0.0007159905.\n",
            "235/235 [==============================] - 6s 26ms/step - loss: 0.0773 - acc: 0.9878 - val_loss: 0.0698 - val_acc: 0.9895\n",
            "\n",
            "Epoch 00011: val_acc did not improve from 0.99000\n",
            "Epoch 12/40\n",
            "\n",
            "Epoch 00012: LearningRateScheduler setting learning rate to 0.000665336.\n",
            "235/235 [==============================] - 6s 24ms/step - loss: 0.0738 - acc: 0.9881 - val_loss: 0.0645 - val_acc: 0.9895\n",
            "\n",
            "Epoch 00012: val_acc did not improve from 0.99000\n",
            "Epoch 13/40\n",
            "\n",
            "Epoch 00013: LearningRateScheduler setting learning rate to 0.0006213753.\n",
            "235/235 [==============================] - 6s 25ms/step - loss: 0.0706 - acc: 0.9885 - val_loss: 0.0626 - val_acc: 0.9911\n",
            "\n",
            "Epoch 00013: val_acc improved from 0.99000 to 0.99110, saving model to /content/BestModel.hdf5\n",
            "Epoch 14/40\n",
            "\n",
            "Epoch 00014: LearningRateScheduler setting learning rate to 0.0005828638.\n",
            "235/235 [==============================] - 6s 25ms/step - loss: 0.0691 - acc: 0.9892 - val_loss: 0.0751 - val_acc: 0.9848\n",
            "\n",
            "Epoch 00014: val_acc did not improve from 0.99110\n",
            "Epoch 15/40\n",
            "\n",
            "Epoch 00015: LearningRateScheduler setting learning rate to 0.0005488474.\n",
            "235/235 [==============================] - 6s 25ms/step - loss: 0.0652 - acc: 0.9893 - val_loss: 0.0605 - val_acc: 0.9900\n",
            "\n",
            "Epoch 00015: val_acc did not improve from 0.99110\n",
            "Epoch 16/40\n",
            "\n",
            "Epoch 00016: LearningRateScheduler setting learning rate to 0.0005185825.\n",
            "235/235 [==============================] - 6s 25ms/step - loss: 0.0633 - acc: 0.9891 - val_loss: 0.0576 - val_acc: 0.9917\n",
            "\n",
            "Epoch 00016: val_acc improved from 0.99110 to 0.99170, saving model to /content/BestModel.hdf5\n",
            "Epoch 17/40\n",
            "\n",
            "Epoch 00017: LearningRateScheduler setting learning rate to 0.000491481.\n",
            "235/235 [==============================] - 6s 25ms/step - loss: 0.0605 - acc: 0.9901 - val_loss: 0.0620 - val_acc: 0.9873\n",
            "\n",
            "Epoch 00017: val_acc did not improve from 0.99170\n",
            "Epoch 18/40\n",
            "\n",
            "Epoch 00018: LearningRateScheduler setting learning rate to 0.0004670715.\n",
            "235/235 [==============================] - 6s 25ms/step - loss: 0.0602 - acc: 0.9899 - val_loss: 0.0534 - val_acc: 0.9919\n",
            "\n",
            "Epoch 00018: val_acc improved from 0.99170 to 0.99190, saving model to /content/BestModel.hdf5\n",
            "Epoch 19/40\n",
            "\n",
            "Epoch 00019: LearningRateScheduler setting learning rate to 0.0004449718.\n",
            "235/235 [==============================] - 6s 25ms/step - loss: 0.0574 - acc: 0.9898 - val_loss: 0.0463 - val_acc: 0.9927\n",
            "\n",
            "Epoch 00019: val_acc improved from 0.99190 to 0.99270, saving model to /content/BestModel.hdf5\n",
            "Epoch 20/40\n",
            "\n",
            "Epoch 00020: LearningRateScheduler setting learning rate to 0.000424869.\n",
            "235/235 [==============================] - 6s 25ms/step - loss: 0.0566 - acc: 0.9900 - val_loss: 0.0535 - val_acc: 0.9902\n",
            "\n",
            "Epoch 00020: val_acc did not improve from 0.99270\n",
            "Epoch 21/40\n",
            "\n",
            "Epoch 00021: LearningRateScheduler setting learning rate to 0.0004065041.\n",
            "235/235 [==============================] - 6s 25ms/step - loss: 0.0538 - acc: 0.9905 - val_loss: 0.0583 - val_acc: 0.9900\n",
            "\n",
            "Epoch 00021: val_acc did not improve from 0.99270\n",
            "Epoch 22/40\n",
            "\n",
            "Epoch 00022: LearningRateScheduler setting learning rate to 0.000389661.\n",
            "235/235 [==============================] - 6s 24ms/step - loss: 0.0537 - acc: 0.9905 - val_loss: 0.0566 - val_acc: 0.9893\n",
            "\n",
            "Epoch 00022: val_acc did not improve from 0.99270\n",
            "Epoch 23/40\n",
            "\n",
            "Epoch 00023: LearningRateScheduler setting learning rate to 0.0003741581.\n",
            "235/235 [==============================] - 6s 25ms/step - loss: 0.0521 - acc: 0.9907 - val_loss: 0.0532 - val_acc: 0.9907\n",
            "\n",
            "Epoch 00023: val_acc did not improve from 0.99270\n",
            "Epoch 24/40\n",
            "\n",
            "Epoch 00024: LearningRateScheduler setting learning rate to 0.0003598417.\n",
            "235/235 [==============================] - 6s 25ms/step - loss: 0.0511 - acc: 0.9909 - val_loss: 0.0451 - val_acc: 0.9921\n",
            "\n",
            "Epoch 00024: val_acc did not improve from 0.99270\n",
            "Epoch 25/40\n",
            "\n",
            "Epoch 00025: LearningRateScheduler setting learning rate to 0.0003465804.\n",
            "235/235 [==============================] - 6s 25ms/step - loss: 0.0496 - acc: 0.9912 - val_loss: 0.0479 - val_acc: 0.9903\n",
            "\n",
            "Epoch 00025: val_acc did not improve from 0.99270\n",
            "Epoch 26/40\n",
            "\n",
            "Epoch 00026: LearningRateScheduler setting learning rate to 0.0003342618.\n",
            "235/235 [==============================] - 6s 25ms/step - loss: 0.0483 - acc: 0.9914 - val_loss: 0.0474 - val_acc: 0.9915\n",
            "\n",
            "Epoch 00026: val_acc did not improve from 0.99270\n",
            "Epoch 27/40\n",
            "\n",
            "Epoch 00027: LearningRateScheduler setting learning rate to 0.0003227889.\n",
            "235/235 [==============================] - 6s 25ms/step - loss: 0.0491 - acc: 0.9909 - val_loss: 0.0439 - val_acc: 0.9909\n",
            "\n",
            "Epoch 00027: val_acc did not improve from 0.99270\n",
            "Epoch 28/40\n",
            "\n",
            "Epoch 00028: LearningRateScheduler setting learning rate to 0.0003120774.\n",
            "235/235 [==============================] - 6s 25ms/step - loss: 0.0477 - acc: 0.9914 - val_loss: 0.0443 - val_acc: 0.9909\n",
            "\n",
            "Epoch 00028: val_acc did not improve from 0.99270\n",
            "Epoch 29/40\n",
            "\n",
            "Epoch 00029: LearningRateScheduler setting learning rate to 0.000302054.\n",
            "235/235 [==============================] - 6s 25ms/step - loss: 0.0463 - acc: 0.9917 - val_loss: 0.0434 - val_acc: 0.9921\n",
            "\n",
            "Epoch 00029: val_acc did not improve from 0.99270\n",
            "Epoch 30/40\n",
            "\n",
            "Epoch 00030: LearningRateScheduler setting learning rate to 0.0002926544.\n",
            "235/235 [==============================] - 6s 25ms/step - loss: 0.0455 - acc: 0.9921 - val_loss: 0.0386 - val_acc: 0.9933\n",
            "\n",
            "Epoch 00030: val_acc improved from 0.99270 to 0.99330, saving model to /content/BestModel.hdf5\n",
            "Epoch 31/40\n",
            "\n",
            "Epoch 00031: LearningRateScheduler setting learning rate to 0.0002838221.\n",
            "235/235 [==============================] - 6s 25ms/step - loss: 0.0432 - acc: 0.9925 - val_loss: 0.0496 - val_acc: 0.9905\n",
            "\n",
            "Epoch 00031: val_acc did not improve from 0.99330\n",
            "Epoch 32/40\n",
            "\n",
            "Epoch 00032: LearningRateScheduler setting learning rate to 0.0002755074.\n",
            "235/235 [==============================] - 6s 24ms/step - loss: 0.0445 - acc: 0.9922 - val_loss: 0.0399 - val_acc: 0.9924\n",
            "\n",
            "Epoch 00032: val_acc did not improve from 0.99330\n",
            "Epoch 33/40\n",
            "\n",
            "Epoch 00033: LearningRateScheduler setting learning rate to 0.000267666.\n",
            "235/235 [==============================] - 6s 25ms/step - loss: 0.0443 - acc: 0.9917 - val_loss: 0.0393 - val_acc: 0.9928\n",
            "\n",
            "Epoch 00033: val_acc did not improve from 0.99330\n",
            "Epoch 34/40\n",
            "\n",
            "Epoch 00034: LearningRateScheduler setting learning rate to 0.0002602585.\n",
            "235/235 [==============================] - 6s 24ms/step - loss: 0.0443 - acc: 0.9919 - val_loss: 0.0451 - val_acc: 0.9912\n",
            "\n",
            "Epoch 00034: val_acc did not improve from 0.99330\n",
            "Epoch 35/40\n",
            "\n",
            "Epoch 00035: LearningRateScheduler setting learning rate to 0.00025325.\n",
            "235/235 [==============================] - 6s 25ms/step - loss: 0.0416 - acc: 0.9926 - val_loss: 0.0416 - val_acc: 0.9929\n",
            "\n",
            "Epoch 00035: val_acc did not improve from 0.99330\n",
            "Epoch 36/40\n",
            "\n",
            "Epoch 00036: LearningRateScheduler setting learning rate to 0.0002466091.\n",
            "235/235 [==============================] - 6s 25ms/step - loss: 0.0418 - acc: 0.9923 - val_loss: 0.0498 - val_acc: 0.9896\n",
            "\n",
            "Epoch 00036: val_acc did not improve from 0.99330\n",
            "Epoch 37/40\n",
            "\n",
            "Epoch 00037: LearningRateScheduler setting learning rate to 0.0002403076.\n",
            "235/235 [==============================] - 6s 25ms/step - loss: 0.0407 - acc: 0.9925 - val_loss: 0.0376 - val_acc: 0.9925\n",
            "\n",
            "Epoch 00037: val_acc did not improve from 0.99330\n",
            "Epoch 38/40\n",
            "\n",
            "Epoch 00038: LearningRateScheduler setting learning rate to 0.0002343201.\n",
            "235/235 [==============================] - 6s 24ms/step - loss: 0.0400 - acc: 0.9930 - val_loss: 0.0363 - val_acc: 0.9927\n",
            "\n",
            "Epoch 00038: val_acc did not improve from 0.99330\n",
            "Epoch 39/40\n",
            "\n",
            "Epoch 00039: LearningRateScheduler setting learning rate to 0.0002286237.\n",
            "235/235 [==============================] - 6s 25ms/step - loss: 0.0391 - acc: 0.9927 - val_loss: 0.0400 - val_acc: 0.9927\n",
            "\n",
            "Epoch 00039: val_acc did not improve from 0.99330\n",
            "Epoch 40/40\n",
            "\n",
            "Epoch 00040: LearningRateScheduler setting learning rate to 0.0002231977.\n",
            "235/235 [==============================] - 6s 24ms/step - loss: 0.0396 - acc: 0.9926 - val_loss: 0.0394 - val_acc: 0.9918\n",
            "\n",
            "Epoch 00040: val_acc did not improve from 0.99330\n"
          ],
          "name": "stdout"
        },
        {
          "output_type": "execute_result",
          "data": {
            "text/plain": [
              "<keras.callbacks.History at 0x7f0f7bf3f978>"
            ]
          },
          "metadata": {
            "tags": []
          },
          "execution_count": 154
        }
      ]
    },
    {
      "cell_type": "markdown",
      "metadata": {
        "id": "etbtGb1TXIfP",
        "colab_type": "text"
      },
      "source": [
        "## Loding the model at best val Accuracy"
      ]
    },
    {
      "cell_type": "code",
      "metadata": {
        "id": "U43CNEwnAWq_",
        "colab_type": "code",
        "colab": {}
      },
      "source": [
        "from keras.models import load_model\n",
        "#load model back\n",
        "model = load_model(filepath)"
      ],
      "execution_count": 0,
      "outputs": []
    },
    {
      "cell_type": "markdown",
      "metadata": {
        "id": "-IQ9834iAe--",
        "colab_type": "text"
      },
      "source": [
        "## Predictions and confusion matrix"
      ]
    },
    {
      "cell_type": "code",
      "metadata": {
        "id": "SQ11htjDAmCJ",
        "colab_type": "code",
        "colab": {
          "base_uri": "https://localhost:8080/",
          "height": 256
        },
        "outputId": "b1bdf7bd-4f8e-46ef-d43c-05d4d394fea8"
      },
      "source": [
        "y_pred = model.predict(X_test)\n",
        "y_pred_label=np.argmax(y_pred,axis=1)\n",
        "y_test_label=np.argmax(Y_test,axis=1)\n",
        "print(y_pred)"
      ],
      "execution_count": 156,
      "outputs": [
        {
          "output_type": "stream",
          "text": [
            "[[3.6642476e-04 5.7574571e-04 6.2896824e-04 ... 9.9747604e-01\n",
            "  1.2575640e-04 5.7730744e-05]\n",
            " [9.2182569e-03 1.3272075e-01 7.7717364e-01 ... 1.9615772e-03\n",
            "  1.8736840e-03 2.5625835e-04]\n",
            " [2.3865313e-04 9.9769419e-01 1.1357604e-04 ... 2.7079150e-04\n",
            "  2.1471191e-04 8.3554900e-05]\n",
            " ...\n",
            " [7.3096692e-04 8.5102029e-02 1.9506706e-04 ... 4.5274459e-03\n",
            "  1.2408567e-03 3.9169221e-04]\n",
            " [1.0844677e-03 6.5993792e-03 7.7876431e-04 ... 2.5887077e-03\n",
            "  2.3931783e-04 1.0164646e-04]\n",
            " [1.4707976e-04 9.5284148e-04 1.1573800e-04 ... 1.7117223e-04\n",
            "  1.2990349e-05 6.7960136e-05]]\n"
          ],
          "name": "stdout"
        }
      ]
    },
    {
      "cell_type": "code",
      "metadata": {
        "id": "-_nA7Yp0AmJC",
        "colab_type": "code",
        "colab": {
          "base_uri": "https://localhost:8080/",
          "height": 201
        },
        "outputId": "e3d40b73-5d00-4dfb-f7ff-6fe2da328a03"
      },
      "source": [
        "from sklearn.metrics import confusion_matrix\n",
        "cm=confusion_matrix(y_pred_label,y_test_label)\n",
        "cm"
      ],
      "execution_count": 157,
      "outputs": [
        {
          "output_type": "execute_result",
          "data": {
            "text/plain": [
              "array([[ 950,    0,    3,    0,    0,    0,    4,    0,   24,    3],\n",
              "       [  19, 1135,   42,    3,   88,    8,   46,   56,   80,   77],\n",
              "       [   0,    0,  976,    0,    1,    0,    0,    7,    6,    1],\n",
              "       [   0,    0,    1,  998,    0,    3,    0,    0,   22,   16],\n",
              "       [   0,    0,    0,    0,  890,    0,    0,    0,    1,  102],\n",
              "       [   0,    0,    0,    2,    0,  873,    7,    0,   24,   10],\n",
              "       [   5,    0,    2,    0,    1,    2,  901,    0,   19,    2],\n",
              "       [   6,    0,    8,    7,    2,    6,    0,  965,    6,  139],\n",
              "       [   0,    0,    0,    0,    0,    0,    0,    0,  792,    3],\n",
              "       [   0,    0,    0,    0,    0,    0,    0,    0,    0,  656]])"
            ]
          },
          "metadata": {
            "tags": []
          },
          "execution_count": 157
        }
      ]
    },
    {
      "cell_type": "code",
      "metadata": {
        "id": "OfO7MS65Amf2",
        "colab_type": "code",
        "colab": {
          "base_uri": "https://localhost:8080/",
          "height": 35
        },
        "outputId": "9e7aa355-f8d0-483c-c6f4-f32eac78c492"
      },
      "source": [
        "# #correctly classified\n",
        "np.sum(np.diagonal(cm))"
      ],
      "execution_count": 158,
      "outputs": [
        {
          "output_type": "execute_result",
          "data": {
            "text/plain": [
              "9136"
            ]
          },
          "metadata": {
            "tags": []
          },
          "execution_count": 158
        }
      ]
    },
    {
      "cell_type": "code",
      "metadata": {
        "id": "LCS4ziqYAu80",
        "colab_type": "code",
        "colab": {
          "base_uri": "https://localhost:8080/",
          "height": 35
        },
        "outputId": "14913aea-07fd-435d-a875-35e149230908"
      },
      "source": [
        "#number of misclassified\n",
        "np.sum(cm)-np.sum(np.diagonal(cm))"
      ],
      "execution_count": 159,
      "outputs": [
        {
          "output_type": "execute_result",
          "data": {
            "text/plain": [
              "864"
            ]
          },
          "metadata": {
            "tags": []
          },
          "execution_count": 159
        }
      ]
    },
    {
      "cell_type": "markdown",
      "metadata": {
        "id": "si_dnKw9A4JV",
        "colab_type": "text"
      },
      "source": [
        "# Plotting a couple of Wrong Predictions"
      ]
    },
    {
      "cell_type": "code",
      "metadata": {
        "id": "eUnUcC9OA3rF",
        "colab_type": "code",
        "colab": {
          "base_uri": "https://localhost:8080/",
          "height": 1042
        },
        "outputId": "8253ae3a-f478-4b52-f474-69215b72e5c5"
      },
      "source": [
        "#Plotting misclassified examples\n",
        "plt.figure(figsize=(18,18))\n",
        "k = 0\n",
        "for i in range(len(X_test)):\n",
        "  if (y_pred_label[i] != y_test_label[i]):\n",
        "    ax = plt.subplot(5,5,k+1)\n",
        "    ax.set_title(\"pred: {}   actu: {}\".format(y_pred_label[i], y_test_label[i]), color='r')\n",
        "    plt.imshow(np.reshape(X_test[i], (28,28)), cmap=plt.cm.gray)\n",
        "    k += 1\n",
        "  if k>24:\n",
        "    break"
      ],
      "execution_count": 160,
      "outputs": [
        {
          "output_type": "display_data",
          "data": {
            "image/png": "[encoded data removed]",
            "text/plain": [
              "<Figure size 1296x1296 with 25 Axes>"
            ]
          },
          "metadata": {
            "tags": []
          }
        }
      ]
    },
    {
      "cell_type": "markdown",
      "metadata": {
        "id": "UvfP7plmAvib",
        "colab_type": "text"
      },
      "source": [
        "# Old stuff"
      ]
    },
    {
      "cell_type": "code",
      "metadata": {
        "id": "AtsH-lLk-eLb",
        "colab_type": "code",
        "colab": {}
      },
      "source": [
        "score = model.evaluate(X_test, Y_test, verbose=0)"
      ],
      "execution_count": 0,
      "outputs": []
    },
    {
      "cell_type": "code",
      "metadata": {
        "id": "mkX8JMv79q9r",
        "colab_type": "code",
        "colab": {}
      },
      "source": [
        "print(score)"
      ],
      "execution_count": 0,
      "outputs": []
    },
    {
      "cell_type": "code",
      "metadata": {
        "id": "OCWoJkwE9suh",
        "colab_type": "code",
        "colab": {}
      },
      "source": [
        "y_pred = model.predict(X_test)"
      ],
      "execution_count": 0,
      "outputs": []
    },
    {
      "cell_type": "code",
      "metadata": {
        "id": "Ym7iCFBm9uBs",
        "colab_type": "code",
        "outputId": "63105130-a938-481a-982d-795f6a299ddc",
        "colab": {
          "base_uri": "https://localhost:8080/",
          "height": 340
        }
      },
      "source": [
        "print(y_pred[:9])\n",
        "print(y_test[:9])"
      ],
      "execution_count": 0,
      "outputs": [
        {
          "output_type": "stream",
          "text": [
            "[[2.0593689e-17 6.3046323e-17 8.9005447e-13 1.8406407e-10 8.0754371e-19\n",
            "  8.0671096e-15 1.1510667e-24 1.0000000e+00 2.1262439e-10 2.7205176e-11]\n",
            " [2.5421015e-15 5.1460576e-12 1.0000000e+00 1.7606363e-12 6.3726551e-23\n",
            "  3.3248325e-16 4.4326671e-09 1.8222993e-27 1.8873889e-12 3.6800765e-21]\n",
            " [3.7568029e-08 9.9987435e-01 6.9531761e-06 6.3134886e-10 9.9738187e-05\n",
            "  5.2485571e-08 1.0483473e-07 1.0138228e-06 1.7757657e-05 1.9014761e-10]\n",
            " [1.0000000e+00 2.2739057e-15 6.6718070e-10 5.6225624e-15 4.5025926e-16\n",
            "  2.7407175e-13 1.3530634e-09 3.9892802e-13 5.8574483e-14 4.0855683e-12]\n",
            " [1.0115652e-12 6.9521903e-14 1.3467061e-13 1.9833676e-13 9.9999976e-01\n",
            "  4.2785103e-16 1.6022580e-12 5.5436229e-11 6.7551126e-10 2.2112354e-07]\n",
            " [2.3979660e-10 9.9982810e-01 3.5553690e-08 3.5910691e-11 1.0332796e-05\n",
            "  1.4169725e-10 2.0029900e-11 1.5314015e-04 8.3647601e-06 3.8377021e-10]\n",
            " [1.4182455e-19 9.8074493e-11 5.7774190e-09 2.3251079e-13 9.9966061e-01\n",
            "  6.0978769e-09 2.3871165e-16 2.2344653e-09 3.3876873e-04 5.9758122e-07]\n",
            " [7.2593749e-24 1.0864400e-09 7.5089712e-11 6.4676060e-12 5.3071453e-06\n",
            "  3.0447264e-08 5.8216405e-18 1.4018439e-14 9.3028554e-09 9.9999464e-01]\n",
            " [5.8572938e-11 5.5615773e-23 4.0553398e-19 1.0435163e-14 7.1205892e-15\n",
            "  3.1688964e-01 6.8311024e-01 4.5070697e-21 8.7986400e-08 1.6301742e-10]]\n",
            "[7 2 1 0 4 1 4 9 5]\n"
          ],
          "name": "stdout"
        }
      ]
    },
    {
      "cell_type": "code",
      "metadata": {
        "id": "CT--y98_dr2T",
        "colab_type": "code",
        "colab": {}
      },
      "source": [
        "layer_dict = dict([(layer.name, layer) for layer in model.layers])"
      ],
      "execution_count": 0,
      "outputs": []
    },
    {
      "cell_type": "code",
      "metadata": {
        "id": "2GY4Upv4dsUR",
        "colab_type": "code",
        "outputId": "3a2e0c8a-cafa-41dd-95af-a906d7d91393",
        "colab": {
          "base_uri": "https://localhost:8080/",
          "height": 839
        }
      },
      "source": [
        "import numpy as np\n",
        "from matplotlib import pyplot as plt\n",
        "from keras import backend as K\n",
        "%matplotlib inline\n",
        "# util function to convert a tensor into a valid image\n",
        "def deprocess_image(x):\n",
        "    # normalize tensor: center on 0., ensure std is 0.1\n",
        "    x -= x.mean()\n",
        "    x /= (x.std() + 1e-5)\n",
        "    x *= 0.1\n",
        "\n",
        "    # clip to [0, 1]\n",
        "    x += 0.5\n",
        "    x = np.clip(x, 0, 1)\n",
        "\n",
        "    # convert to RGB array\n",
        "    x *= 255\n",
        "    #x = x.transpose((1, 2, 0))\n",
        "    x = np.clip(x, 0, 255).astype('uint8')\n",
        "    return x\n",
        "\n",
        "def vis_img_in_filter(img = np.array(X_train[2]).reshape((1, 28, 28, 1)).astype(np.float64), \n",
        "                      layer_name = 'conv2d_14'):\n",
        "    layer_output = layer_dict[layer_name].output\n",
        "    img_ascs = list()\n",
        "    for filter_index in range(layer_output.shape[3]):\n",
        "        # build a loss function that maximizes the activation\n",
        "        # of the nth filter of the layer considered\n",
        "        loss = K.mean(layer_output[:, :, :, filter_index])\n",
        "\n",
        "        # compute the gradient of the input picture wrt this loss\n",
        "        grads = K.gradients(loss, model.input)[0]\n",
        "\n",
        "        # normalization trick: we normalize the gradient\n",
        "        grads /= (K.sqrt(K.mean(K.square(grads))) + 1e-5)\n",
        "\n",
        "        # this function returns the loss and grads given the input picture\n",
        "        iterate = K.function([model.input], [loss, grads])\n",
        "\n",
        "        # step size for gradient ascent\n",
        "        step = 5.\n",
        "\n",
        "        img_asc = np.array(img)\n",
        "        # run gradient ascent for 20 steps\n",
        "        for i in range(20):\n",
        "            loss_value, grads_value = iterate([img_asc])\n",
        "            img_asc += grads_value * step\n",
        "\n",
        "        img_asc = img_asc[0]\n",
        "        img_ascs.append(deprocess_image(img_asc).reshape((28, 28)))\n",
        "        \n",
        "    if layer_output.shape[3] >= 35:\n",
        "        plot_x, plot_y = 6, 6\n",
        "    elif layer_output.shape[3] >= 23:\n",
        "        plot_x, plot_y = 4, 6\n",
        "    elif layer_output.shape[3] >= 11:\n",
        "        plot_x, plot_y = 2, 6\n",
        "    else:\n",
        "        plot_x, plot_y = 1, 2\n",
        "    fig, ax = plt.subplots(plot_x, plot_y, figsize = (12, 12))\n",
        "    ax[0, 0].imshow(img.reshape((28, 28)), cmap = 'gray')\n",
        "    ax[0, 0].set_title('Input image')\n",
        "    fig.suptitle('Input image and %s filters' % (layer_name,))\n",
        "    fig.tight_layout(pad = 0.3, rect = [0, 0, 0.9, 0.9])\n",
        "    for (x, y) in [(i, j) for i in range(plot_x) for j in range(plot_y)]:\n",
        "        if x == 0 and y == 0:\n",
        "            continue\n",
        "        ax[x, y].imshow(img_ascs[x * plot_y + y - 1], cmap = 'gray')\n",
        "        ax[x, y].set_title('filter %d' % (x * plot_y + y - 1))\n",
        "\n",
        "vis_img_in_filter()"
      ],
      "execution_count": 0,
      "outputs": [
        {
          "output_type": "display_data",
          "data": {
            "image/png": "[encoded data removed]",
            "text/plain": [
              "<matplotlib.figure.Figure at 0x7fa5dc144e48>"
            ]
          },
          "metadata": {
            "tags": []
          }
        }
      ]
    },
    {
      "cell_type": "code",
      "metadata": {
        "id": "9tvptcn8dxvp",
        "colab_type": "code",
        "colab": {}
      },
      "source": [
        ""
      ],
      "execution_count": 0,
      "outputs": []
    }
  ]
}