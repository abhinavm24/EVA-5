{
  "nbformat": 4,
  "nbformat_minor": 0,
  "metadata": {
    "colab": {
      "name": "EVA Assignment_9A.ipynb",
      "version": "0.3.2",
      "provenance": [],
      "collapsed_sections": [],
      "include_colab_link": true
    },
    "kernelspec": {
      "name": "python3",
      "display_name": "Python 3"
    },
    "accelerator": "GPU"
  },
  "cells": [
    {
      "cell_type": "markdown",
      "metadata": {
        "id": "view-in-github",
        "colab_type": "text"
      },
      "source": [
        "<a href=\"https://colab.research.google.com/github/bhuvnk/EVA/blob/master/Assignment9/EVA_Assignment_9A.ipynb\" target=\"_parent\"><img src=\"https://colab.research.google.com/assets/colab-badge.svg\" alt=\"Open In Colab\"/></a>"
      ]
    },
    {
      "cell_type": "markdown",
      "metadata": {
        "id": "-g2DmFfpf6I6",
        "colab_type": "text"
      },
      "source": [
        "# Imports and Preprocessing"
      ]
    },
    {
      "cell_type": "code",
      "metadata": {
        "id": "KkwXnw9OfHZl",
        "colab_type": "code",
        "colab": {}
      },
      "source": [
        "from keras import backend as K\n",
        "import time\n",
        "import matplotlib.pyplot as plt\n",
        "import numpy as np\n",
        "% matplotlib inline\n",
        "np.random.seed(2017) \n",
        "from keras.models import Sequential, Model\n",
        "from keras.layers.convolutional import Convolution2D, MaxPooling2D, Conv2D, SeparableConv2D\n",
        "from keras.layers import Activation, Flatten, Dense, Dropout, Concatenate, GlobalAveragePooling2D, Input, Lambda, SpatialDropout2D\n",
        "from keras.layers.advanced_activations import ReLU, Softmax\n",
        "from keras.layers.normalization import BatchNormalization\n",
        "from keras.callbacks import ModelCheckpoint, LearningRateScheduler\n",
        "from keras import regularizers\n",
        "from keras.utils import np_utils\n",
        "import keras\n",
        "from keras.preprocessing.image import ImageDataGenerator\n",
        "\n",
        "\n",
        "import tensorflow as tf"
      ],
      "execution_count": 0,
      "outputs": []
    },
    {
      "cell_type": "code",
      "metadata": {
        "id": "NHpnoCHZfO8g",
        "colab_type": "code",
        "colab": {}
      },
      "source": [
        "from keras.datasets import cifar10\n",
        "(train_features, train_labels), (test_features, test_labels) = cifar10.load_data()\n",
        "num_train, img_channels, img_rows, img_cols =  train_features.shape\n",
        "num_test, _, _, _ =  test_features.shape\n",
        "num_classes = len(np.unique(train_labels))"
      ],
      "execution_count": 0,
      "outputs": []
    },
    {
      "cell_type": "code",
      "metadata": {
        "id": "14HyBUXdfS6G",
        "colab_type": "code",
        "colab": {}
      },
      "source": [
        "class_names = ['airplane','automobile','bird','cat','deer',\n",
        "               'dog','frog','horse','ship','truck']\n",
        "fig = plt.figure(figsize=(8,3))\n",
        "for i in range(num_classes):\n",
        "    ax = fig.add_subplot(2, 5, 1 + i, xticks=[], yticks=[])\n",
        "    idx = np.where(train_labels[:]==i)[0]\n",
        "    features_idx = train_features[idx,::]\n",
        "    img_num = np.random.randint(features_idx.shape[0])\n",
        "    im = features_idx[img_num]\n",
        "    ax.set_title(class_names[i])\n",
        "    plt.imshow(im)\n",
        "plt.show()"
      ],
      "execution_count": 0,
      "outputs": []
    },
    {
      "cell_type": "code",
      "metadata": {
        "id": "bmfsk76-fadV",
        "colab_type": "code",
        "colab": {}
      },
      "source": [
        "def plot_model_history(model_history):\n",
        "    fig, axs = plt.subplots(1,2,figsize=(15,5))\n",
        "    # summarize history for accuracy\n",
        "    axs[0].plot(range(1,len(model_history.history['acc'])+1),model_history.history['acc'])\n",
        "    axs[0].plot(range(1,len(model_history.history['val_acc'])+1),model_history.history['val_acc'])\n",
        "    axs[0].set_title('Model Accuracy')\n",
        "    axs[0].set_ylabel('Accuracy')\n",
        "    axs[0].set_xlabel('Epoch')\n",
        "    axs[0].set_xticks(np.arange(1,len(model_history.history['acc'])+1),len(model_history.history['acc'])/10)\n",
        "    axs[0].legend(['train', 'val'], loc='best')\n",
        "    # summarize history for loss\n",
        "    axs[1].plot(range(1,len(model_history.history['loss'])+1),model_history.history['loss'])\n",
        "    axs[1].plot(range(1,len(model_history.history['val_loss'])+1),model_history.history['val_loss'])\n",
        "    axs[1].set_title('Model Loss')\n",
        "    axs[1].set_ylabel('Loss')\n",
        "    axs[1].set_xlabel('Epoch')\n",
        "    axs[1].set_xticks(np.arange(1,len(model_history.history['loss'])+1),len(model_history.history['loss'])/10)\n",
        "    axs[1].legend(['train', 'val'], loc='best')\n",
        "    plt.show()"
      ],
      "execution_count": 0,
      "outputs": []
    },
    {
      "cell_type": "code",
      "metadata": {
        "id": "YJMT4rjgfdZz",
        "colab_type": "code",
        "colab": {}
      },
      "source": [
        "def accuracy(test_x, test_y, model):\n",
        "    result = model.predict(test_x)\n",
        "    predicted_class = np.argmax(result, axis=1)\n",
        "    true_class = np.argmax(test_y, axis=1)\n",
        "    num_correct = np.sum(predicted_class == true_class) \n",
        "    accuracy = float(num_correct)/result.shape[0]\n",
        "    return (accuracy * 100)"
      ],
      "execution_count": 0,
      "outputs": []
    },
    {
      "cell_type": "code",
      "metadata": {
        "id": "T5c5nDvxm6zR",
        "colab_type": "code",
        "colab": {}
      },
      "source": [
        "train_features = train_features.astype('float32')/255\n",
        "test_features = test_features.astype('float32')/255\n",
        "# convert class labels to binary class labels\n",
        "train_labels = np_utils.to_categorical(train_labels, num_classes)\n",
        "test_labels = np_utils.to_categorical(test_labels, num_classes)"
      ],
      "execution_count": 0,
      "outputs": []
    },
    {
      "cell_type": "markdown",
      "metadata": {
        "id": "r8Qj-4Hsf3hY",
        "colab_type": "text"
      },
      "source": [
        "# Mount google drive"
      ]
    },
    {
      "cell_type": "code",
      "metadata": {
        "id": "TW8wkhZSbMcp",
        "colab_type": "code",
        "outputId": "afde964e-4af7-4e2e-ed95-4c09adbad11c",
        "colab": {
          "base_uri": "https://localhost:8080/",
          "height": 129
        }
      },
      "source": [
        "# Run this cell to mount your Google Drive.\n",
        "from google.colab import drive\n",
        "drive.mount('/content/gdrive')"
      ],
      "execution_count": 8,
      "outputs": [
        {
          "output_type": "stream",
          "text": [
            "Go to this URL in a browser: https://accounts.google.com/o/oauth2/auth?client_id=947318989803-6bn6qk8qdgf4n4g3pfee6491hc0brc4i.apps.googleusercontent.com&redirect_uri=urn%3Aietf%3Awg%3Aoauth%3A2.0%3Aoob&scope=email%20https%3A%2F%2Fwww.googleapis.com%2Fauth%2Fdocs.test%20https%3A%2F%2Fwww.googleapis.com%2Fauth%2Fdrive%20https%3A%2F%2Fwww.googleapis.com%2Fauth%2Fdrive.photos.readonly%20https%3A%2F%2Fwww.googleapis.com%2Fauth%2Fpeopleapi.readonly&response_type=code\n",
            "\n",
            "Enter your authorization code:\n",
            "··········\n",
            "Mounted at /content/gdrive\n"
          ],
          "name": "stdout"
        }
      ]
    },
    {
      "cell_type": "markdown",
      "metadata": {
        "id": "mNkwsdjb4ndU",
        "colab_type": "text"
      },
      "source": [
        "# Model Without Cutout"
      ]
    },
    {
      "cell_type": "code",
      "metadata": {
        "id": "cvxLUNqD4tBo",
        "colab_type": "code",
        "outputId": "cbbd1c9d-f9d5-4d5c-f6da-3d03de4fa9e1",
        "colab": {
          "base_uri": "https://localhost:8080/",
          "height": 1000
        }
      },
      "source": [
        "input = Input(shape=(32, 32, 3,))\n",
        "\n",
        "#Normal Convoltion\n",
        "c1 = Conv2D(64, (3,3), padding='same', use_bias=False)(input)\n",
        "c1 = BatchNormalization()(c1)\n",
        "c1 = ReLU()(c1)\n",
        "# c1 = SpatialDropout2D(0.1)(c1)\n",
        "\n",
        "#######################\n",
        "# Block1\n",
        "#######################\n",
        "\n",
        "b1_c1 = Conv2D(64, (3,3), padding='same', use_bias=False)(c1)\n",
        "b1_c1 = BatchNormalization()(b1_c1)\n",
        "b1_c1 = ReLU()(b1_c1)\n",
        "b1_c1 = SpatialDropout2D(0.1)(b1_c1)\n",
        "\n",
        "b1_c2 = Conv2D(128, (3,3), padding='same', use_bias=False)(c1)\n",
        "b1_c2 = BatchNormalization()(b1_c2)\n",
        "b1_c2 = ReLU()(b1_c2)\n",
        "b1_c2 = SpatialDropout2D(0.1)(b1_c2)\n",
        "\n",
        "\n",
        "#########\n",
        "# Trans1\n",
        "#########\n",
        "t1 = Concatenate(axis=-1)([c1, b1_c2])\n",
        "\n",
        "t1 = MaxPooling2D(pool_size=(2, 2))(t1)\n",
        "\n",
        "t1 = Conv2D(64, (1,1), padding='same', use_bias=False)(t1)\n",
        "t1 = BatchNormalization()(t1)\n",
        "t1 = ReLU()(t1)\n",
        "t1 = SpatialDropout2D(0.1)(t1)\n",
        "\n",
        "#######################\n",
        "# Block2\n",
        "#######################\n",
        "\n",
        "b2_c1 = Conv2D(64, (3,3), padding='same', use_bias=False)(t1)\n",
        "b2_c1 = BatchNormalization()(b2_c1)\n",
        "b2_c1 = ReLU()(b2_c1)\n",
        "b2_c1 = SpatialDropout2D(0.1)(b2_c1)\n",
        "\n",
        "b2_c2 = Conv2D(128, (3,3), padding='same', use_bias=False)(b2_c1)\n",
        "b2_c2 = BatchNormalization()(b2_c2)\n",
        "b2_c2 = ReLU()(b2_c2)\n",
        "b2_c2 = SpatialDropout2D(0.1)(b2_c2)\n",
        "#########\n",
        "# Trans2\n",
        "#########\n",
        "t2 = Concatenate(axis=-1)([t1, b2_c2])\n",
        "t2 = MaxPooling2D(pool_size=(2, 2))(t2)\n",
        "\n",
        "t2 = Conv2D(64, (1,1), padding='same', use_bias=False)(t2)\n",
        "t2 = BatchNormalization()(t2)\n",
        "t2 = ReLU()(t2)\n",
        "t2 = SpatialDropout2D(0.1)(t2)\n",
        "#######################\n",
        "# Block3\n",
        "#######################\n",
        "b3_c1 = Conv2D(64, (3,3), padding='same',  use_bias=False)(t2)\n",
        "b3_c1 = BatchNormalization()(b3_c1)\n",
        "b3_c1 = ReLU()(b3_c1)\n",
        "b3_c1 = SpatialDropout2D(0.1)(b3_c1)\n",
        "\n",
        "b3_c2 = Conv2D(128, (3,3), padding='same', use_bias=False)(b3_c1)\n",
        "b3_c2 = BatchNormalization()(b3_c2)\n",
        "b3_c2 = ReLU()(b3_c2)\n",
        "b3_c2 = SpatialDropout2D(0.1)(b3_c2)\n",
        "#########\n",
        "# Trans3\n",
        "#########\n",
        "t3 = Concatenate(axis=-1)([t2, b3_c2])\n",
        "# t3 = MaxPooling2D(pool_size=(2, 2))(t3)\n",
        "\n",
        "# t3 = Conv2D(64, (1,1), padding='same', use_bias=False)(t3)\n",
        "# t3 = BatchNormalization()(t3)\n",
        "# t3 = ReLU()(t3)\n",
        "# t3 = SpatialDropout2D(0.1)(t3)\n",
        "\n",
        "# #######################\n",
        "# # Block4\n",
        "# #######################\n",
        "# b4_c1 = Conv2D(64, (3,3), padding='same', use_bias=False, name = 'b4_c1')(t3)\n",
        "# b4_c1 = BatchNormalization()(b4_c1)\n",
        "# b4_c1 = ReLU()(b4_c1)\n",
        "# b4_c1 = SpatialDropout2D(0.1)(b4_c1)\n",
        "\n",
        "# b4_c2 = Conv2D(128, (3,3), padding='same', use_bias=False, name = 'b4_c2')(b4_c1)\n",
        "# b4_c2 = BatchNormalization()(b4_c2)\n",
        "# b4_c2 = ReLU()(b4_c2)\n",
        "# b4_c2 = SpatialDropout2D(0.1)(b4_c2)\n",
        "# ############\n",
        "# t4 = Concatenate(axis=-1)([t3, b4_c2])\n",
        "\n",
        "c_final = Conv2D(256, (3,3), padding='same', use_bias=False, name = 'c_final')(t3)\n",
        "\n",
        "reduce_ch = Conv2D(10, (1,1), name = 'to_numclass', use_bias=False)(c_final)\n",
        "avg_pool = GlobalAveragePooling2D()(reduce_ch)\n",
        "output = Softmax()(avg_pool)\n",
        "\n",
        "\n",
        "model = Model(inputs=[input], outputs=[output])\n",
        "model.summary()"
      ],
      "execution_count": 0,
      "outputs": [
        {
          "output_type": "stream",
          "text": [
            "__________________________________________________________________________________________________\n",
            "Layer (type)                    Output Shape         Param #     Connected to                     \n",
            "==================================================================================================\n",
            "input_9 (InputLayer)            (None, 32, 32, 3)    0                                            \n",
            "__________________________________________________________________________________________________\n",
            "conv2d_83 (Conv2D)              (None, 32, 32, 64)   1728        input_9[0][0]                    \n",
            "__________________________________________________________________________________________________\n",
            "batch_normalization_88 (BatchNo (None, 32, 32, 64)   256         conv2d_83[0][0]                  \n",
            "__________________________________________________________________________________________________\n",
            "re_lu_88 (ReLU)                 (None, 32, 32, 64)   0           batch_normalization_88[0][0]     \n",
            "__________________________________________________________________________________________________\n",
            "conv2d_85 (Conv2D)              (None, 32, 32, 128)  73728       re_lu_88[0][0]                   \n",
            "__________________________________________________________________________________________________\n",
            "batch_normalization_90 (BatchNo (None, 32, 32, 128)  512         conv2d_85[0][0]                  \n",
            "__________________________________________________________________________________________________\n",
            "re_lu_90 (ReLU)                 (None, 32, 32, 128)  0           batch_normalization_90[0][0]     \n",
            "__________________________________________________________________________________________________\n",
            "spatial_dropout2d_81 (SpatialDr (None, 32, 32, 128)  0           re_lu_90[0][0]                   \n",
            "__________________________________________________________________________________________________\n",
            "concatenate_27 (Concatenate)    (None, 32, 32, 192)  0           re_lu_88[0][0]                   \n",
            "                                                                 spatial_dropout2d_81[0][0]       \n",
            "__________________________________________________________________________________________________\n",
            "max_pooling2d_22 (MaxPooling2D) (None, 16, 16, 192)  0           concatenate_27[0][0]             \n",
            "__________________________________________________________________________________________________\n",
            "conv2d_86 (Conv2D)              (None, 16, 16, 64)   12288       max_pooling2d_22[0][0]           \n",
            "__________________________________________________________________________________________________\n",
            "batch_normalization_91 (BatchNo (None, 16, 16, 64)   256         conv2d_86[0][0]                  \n",
            "__________________________________________________________________________________________________\n",
            "re_lu_91 (ReLU)                 (None, 16, 16, 64)   0           batch_normalization_91[0][0]     \n",
            "__________________________________________________________________________________________________\n",
            "spatial_dropout2d_82 (SpatialDr (None, 16, 16, 64)   0           re_lu_91[0][0]                   \n",
            "__________________________________________________________________________________________________\n",
            "conv2d_87 (Conv2D)              (None, 16, 16, 64)   36864       spatial_dropout2d_82[0][0]       \n",
            "__________________________________________________________________________________________________\n",
            "batch_normalization_92 (BatchNo (None, 16, 16, 64)   256         conv2d_87[0][0]                  \n",
            "__________________________________________________________________________________________________\n",
            "re_lu_92 (ReLU)                 (None, 16, 16, 64)   0           batch_normalization_92[0][0]     \n",
            "__________________________________________________________________________________________________\n",
            "spatial_dropout2d_83 (SpatialDr (None, 16, 16, 64)   0           re_lu_92[0][0]                   \n",
            "__________________________________________________________________________________________________\n",
            "conv2d_88 (Conv2D)              (None, 16, 16, 128)  73728       spatial_dropout2d_83[0][0]       \n",
            "__________________________________________________________________________________________________\n",
            "batch_normalization_93 (BatchNo (None, 16, 16, 128)  512         conv2d_88[0][0]                  \n",
            "__________________________________________________________________________________________________\n",
            "re_lu_93 (ReLU)                 (None, 16, 16, 128)  0           batch_normalization_93[0][0]     \n",
            "__________________________________________________________________________________________________\n",
            "spatial_dropout2d_84 (SpatialDr (None, 16, 16, 128)  0           re_lu_93[0][0]                   \n",
            "__________________________________________________________________________________________________\n",
            "concatenate_28 (Concatenate)    (None, 16, 16, 192)  0           spatial_dropout2d_82[0][0]       \n",
            "                                                                 spatial_dropout2d_84[0][0]       \n",
            "__________________________________________________________________________________________________\n",
            "max_pooling2d_23 (MaxPooling2D) (None, 8, 8, 192)    0           concatenate_28[0][0]             \n",
            "__________________________________________________________________________________________________\n",
            "conv2d_89 (Conv2D)              (None, 8, 8, 64)     12288       max_pooling2d_23[0][0]           \n",
            "__________________________________________________________________________________________________\n",
            "batch_normalization_94 (BatchNo (None, 8, 8, 64)     256         conv2d_89[0][0]                  \n",
            "__________________________________________________________________________________________________\n",
            "re_lu_94 (ReLU)                 (None, 8, 8, 64)     0           batch_normalization_94[0][0]     \n",
            "__________________________________________________________________________________________________\n",
            "spatial_dropout2d_85 (SpatialDr (None, 8, 8, 64)     0           re_lu_94[0][0]                   \n",
            "__________________________________________________________________________________________________\n",
            "conv2d_90 (Conv2D)              (None, 8, 8, 64)     36864       spatial_dropout2d_85[0][0]       \n",
            "__________________________________________________________________________________________________\n",
            "batch_normalization_95 (BatchNo (None, 8, 8, 64)     256         conv2d_90[0][0]                  \n",
            "__________________________________________________________________________________________________\n",
            "re_lu_95 (ReLU)                 (None, 8, 8, 64)     0           batch_normalization_95[0][0]     \n",
            "__________________________________________________________________________________________________\n",
            "spatial_dropout2d_86 (SpatialDr (None, 8, 8, 64)     0           re_lu_95[0][0]                   \n",
            "__________________________________________________________________________________________________\n",
            "conv2d_91 (Conv2D)              (None, 8, 8, 128)    73728       spatial_dropout2d_86[0][0]       \n",
            "__________________________________________________________________________________________________\n",
            "batch_normalization_96 (BatchNo (None, 8, 8, 128)    512         conv2d_91[0][0]                  \n",
            "__________________________________________________________________________________________________\n",
            "re_lu_96 (ReLU)                 (None, 8, 8, 128)    0           batch_normalization_96[0][0]     \n",
            "__________________________________________________________________________________________________\n",
            "spatial_dropout2d_87 (SpatialDr (None, 8, 8, 128)    0           re_lu_96[0][0]                   \n",
            "__________________________________________________________________________________________________\n",
            "concatenate_29 (Concatenate)    (None, 8, 8, 192)    0           spatial_dropout2d_85[0][0]       \n",
            "                                                                 spatial_dropout2d_87[0][0]       \n",
            "__________________________________________________________________________________________________\n",
            "c_final (Conv2D)                (None, 8, 8, 256)    442368      concatenate_29[0][0]             \n",
            "__________________________________________________________________________________________________\n",
            "to_numclass (Conv2D)            (None, 8, 8, 10)     2560        c_final[0][0]                    \n",
            "__________________________________________________________________________________________________\n",
            "global_average_pooling2d_9 (Glo (None, 10)           0           to_numclass[0][0]                \n",
            "__________________________________________________________________________________________________\n",
            "softmax_9 (Softmax)             (None, 10)           0           global_average_pooling2d_9[0][0] \n",
            "==================================================================================================\n",
            "Total params: 768,960\n",
            "Trainable params: 767,552\n",
            "Non-trainable params: 1,408\n",
            "__________________________________________________________________________________________________\n"
          ],
          "name": "stdout"
        }
      ]
    },
    {
      "cell_type": "code",
      "metadata": {
        "id": "uSUnu7VsOOGf",
        "colab_type": "code",
        "outputId": "74e8df1c-6b86-4b8a-f06a-014919f2ef32",
        "colab": {
          "base_uri": "https://localhost:8080/",
          "height": 1000
        }
      },
      "source": [
        "model.compile(optimizer='adam', loss='categorical_crossentropy', metrics=['accuracy'])\n",
        "\n",
        "from keras.preprocessing.image import ImageDataGenerator\n",
        "\n",
        "datagen = ImageDataGenerator(featurewise_center=True,featurewise_std_normalization=True,\n",
        "                             shear_range=0.2,\n",
        "                             zoom_range=0.2,\n",
        "                             horizontal_flip=True)\n",
        "\n",
        "\n",
        "# train the model\n",
        "start = time.time()\n",
        "# Train the model\n",
        "model_info = model.fit_generator(datagen.flow(train_features, train_labels, batch_size = 128),\n",
        "                                 samples_per_epoch = train_features.shape[0], nb_epoch = 100, \n",
        "                                 validation_data = (test_features, test_labels),\n",
        "#                                  callbacks=[lr_scheduler],\n",
        "                                 verbose=1)\n",
        "end = time.time()\n",
        "print (\"Model took %0.2f seconds to train\"%(end - start))\n",
        "# plot model history\n",
        "plot_model_history(model_info)\n",
        "# compute test accuracy\n",
        "print (\"Accuracy on test data is: %0.2f\"%accuracy(test_features, test_labels, model))"
      ],
      "execution_count": 0,
      "outputs": [
        {
          "output_type": "stream",
          "text": [
            "/usr/local/lib/python3.6/dist-packages/ipykernel_launcher.py:50: UserWarning: The semantics of the Keras 2 argument `steps_per_epoch` is not the same as the Keras 1 argument `samples_per_epoch`. `steps_per_epoch` is the number of batches to draw from the generator at each epoch. Basically steps_per_epoch = samples_per_epoch/batch_size. Similarly `nb_val_samples`->`validation_steps` and `val_samples`->`steps` arguments have changed. Update your method calls accordingly.\n",
            "/usr/local/lib/python3.6/dist-packages/ipykernel_launcher.py:50: UserWarning: Update your `fit_generator` call to the Keras 2 API: `fit_generator(<keras_pre..., validation_data=(array([[[..., verbose=1, steps_per_epoch=390, epochs=100)`\n"
          ],
          "name": "stderr"
        },
        {
          "output_type": "stream",
          "text": [
            "Epoch 1/100\n"
          ],
          "name": "stdout"
        },
        {
          "output_type": "stream",
          "text": [
            "/usr/local/lib/python3.6/dist-packages/keras_preprocessing/image/image_data_generator.py:716: UserWarning: This ImageDataGenerator specifies `featurewise_center`, but it hasn't been fit on any training data. Fit it first by calling `.fit(numpy_data)`.\n",
            "  warnings.warn('This ImageDataGenerator specifies '\n",
            "/usr/local/lib/python3.6/dist-packages/keras_preprocessing/image/image_data_generator.py:724: UserWarning: This ImageDataGenerator specifies `featurewise_std_normalization`, but it hasn't been fit on any training data. Fit it first by calling `.fit(numpy_data)`.\n",
            "  warnings.warn('This ImageDataGenerator specifies '\n"
          ],
          "name": "stderr"
        },
        {
          "output_type": "stream",
          "text": [
            "390/390 [==============================] - 29s 76ms/step - loss: 1.7335 - acc: 0.3649 - val_loss: 1.7435 - val_acc: 0.3931\n",
            "Epoch 2/100\n",
            "390/390 [==============================] - 25s 64ms/step - loss: 1.3616 - acc: 0.5002 - val_loss: 1.1313 - val_acc: 0.5976\n",
            "Epoch 3/100\n",
            "390/390 [==============================] - 25s 64ms/step - loss: 1.2020 - acc: 0.5657 - val_loss: 1.1168 - val_acc: 0.6108\n",
            "Epoch 4/100\n",
            "390/390 [==============================] - 25s 64ms/step - loss: 1.0913 - acc: 0.6078 - val_loss: 0.9334 - val_acc: 0.6650\n",
            "Epoch 5/100\n",
            "390/390 [==============================] - 25s 64ms/step - loss: 1.0155 - acc: 0.6373 - val_loss: 0.9408 - val_acc: 0.6668\n",
            "Epoch 6/100\n",
            "390/390 [==============================] - 25s 65ms/step - loss: 0.9509 - acc: 0.6607 - val_loss: 0.9059 - val_acc: 0.6775\n",
            "Epoch 7/100\n",
            "390/390 [==============================] - 25s 65ms/step - loss: 0.9009 - acc: 0.6826 - val_loss: 0.7669 - val_acc: 0.7280\n",
            "Epoch 8/100\n",
            "390/390 [==============================] - 25s 64ms/step - loss: 0.8437 - acc: 0.7037 - val_loss: 0.8554 - val_acc: 0.6901\n",
            "Epoch 9/100\n",
            "390/390 [==============================] - 25s 64ms/step - loss: 0.8085 - acc: 0.7181 - val_loss: 0.7447 - val_acc: 0.7397\n",
            "Epoch 10/100\n",
            "390/390 [==============================] - 25s 64ms/step - loss: 0.7659 - acc: 0.7330 - val_loss: 0.7140 - val_acc: 0.7503\n",
            "Epoch 11/100\n",
            "390/390 [==============================] - 25s 64ms/step - loss: 0.7335 - acc: 0.7445 - val_loss: 0.8595 - val_acc: 0.7106\n",
            "Epoch 12/100\n",
            "390/390 [==============================] - 25s 64ms/step - loss: 0.7017 - acc: 0.7557 - val_loss: 0.6043 - val_acc: 0.7909\n",
            "Epoch 13/100\n",
            "390/390 [==============================] - 25s 64ms/step - loss: 0.6773 - acc: 0.7665 - val_loss: 0.6616 - val_acc: 0.7718\n",
            "Epoch 14/100\n",
            "390/390 [==============================] - 25s 64ms/step - loss: 0.6586 - acc: 0.7719 - val_loss: 0.6684 - val_acc: 0.7701\n",
            "Epoch 15/100\n",
            "390/390 [==============================] - 25s 64ms/step - loss: 0.6395 - acc: 0.7797 - val_loss: 0.5533 - val_acc: 0.8113\n",
            "Epoch 16/100\n",
            "390/390 [==============================] - 25s 64ms/step - loss: 0.6206 - acc: 0.7830 - val_loss: 0.5865 - val_acc: 0.7974\n",
            "Epoch 17/100\n",
            "390/390 [==============================] - 25s 64ms/step - loss: 0.6085 - acc: 0.7895 - val_loss: 0.5408 - val_acc: 0.8122\n",
            "Epoch 18/100\n",
            "390/390 [==============================] - 25s 64ms/step - loss: 0.5940 - acc: 0.7935 - val_loss: 0.5779 - val_acc: 0.8032\n",
            "Epoch 19/100\n",
            "390/390 [==============================] - 25s 64ms/step - loss: 0.5732 - acc: 0.8011 - val_loss: 0.5149 - val_acc: 0.8272\n",
            "Epoch 20/100\n",
            "390/390 [==============================] - 25s 65ms/step - loss: 0.5662 - acc: 0.8046 - val_loss: 0.4863 - val_acc: 0.8348\n",
            "Epoch 21/100\n",
            "390/390 [==============================] - 25s 64ms/step - loss: 0.5543 - acc: 0.8090 - val_loss: 0.4880 - val_acc: 0.8327\n",
            "Epoch 22/100\n",
            "390/390 [==============================] - 25s 64ms/step - loss: 0.5478 - acc: 0.8086 - val_loss: 0.4867 - val_acc: 0.8353\n",
            "Epoch 23/100\n",
            "390/390 [==============================] - 25s 64ms/step - loss: 0.5317 - acc: 0.8153 - val_loss: 0.5553 - val_acc: 0.8122\n",
            "Epoch 24/100\n",
            "390/390 [==============================] - 25s 64ms/step - loss: 0.5326 - acc: 0.8151 - val_loss: 0.5379 - val_acc: 0.8219\n",
            "Epoch 25/100\n",
            "390/390 [==============================] - 25s 64ms/step - loss: 0.5207 - acc: 0.8168 - val_loss: 0.5559 - val_acc: 0.8118\n",
            "Epoch 26/100\n",
            "390/390 [==============================] - 25s 64ms/step - loss: 0.5087 - acc: 0.8244 - val_loss: 0.4363 - val_acc: 0.8547\n",
            "Epoch 27/100\n",
            "390/390 [==============================] - 25s 64ms/step - loss: 0.4949 - acc: 0.8301 - val_loss: 0.4943 - val_acc: 0.8364\n",
            "Epoch 28/100\n",
            "390/390 [==============================] - 25s 65ms/step - loss: 0.4977 - acc: 0.8295 - val_loss: 0.4442 - val_acc: 0.8513\n",
            "Epoch 29/100\n",
            "390/390 [==============================] - 25s 64ms/step - loss: 0.4901 - acc: 0.8321 - val_loss: 0.4356 - val_acc: 0.8548\n",
            "Epoch 30/100\n",
            "390/390 [==============================] - 25s 64ms/step - loss: 0.4818 - acc: 0.8327 - val_loss: 0.4116 - val_acc: 0.8593\n",
            "Epoch 31/100\n",
            "390/390 [==============================] - 25s 64ms/step - loss: 0.4755 - acc: 0.8374 - val_loss: 0.4446 - val_acc: 0.8493\n",
            "Epoch 32/100\n",
            "390/390 [==============================] - 25s 65ms/step - loss: 0.4703 - acc: 0.8367 - val_loss: 0.4305 - val_acc: 0.8531\n",
            "Epoch 33/100\n",
            "390/390 [==============================] - 25s 64ms/step - loss: 0.4677 - acc: 0.8374 - val_loss: 0.4335 - val_acc: 0.8531\n",
            "Epoch 34/100\n",
            "390/390 [==============================] - 25s 64ms/step - loss: 0.4648 - acc: 0.8392 - val_loss: 0.4257 - val_acc: 0.8574\n",
            "Epoch 35/100\n",
            "390/390 [==============================] - 25s 64ms/step - loss: 0.4507 - acc: 0.8430 - val_loss: 0.4083 - val_acc: 0.8655\n",
            "Epoch 36/100\n",
            "390/390 [==============================] - 25s 64ms/step - loss: 0.4487 - acc: 0.8446 - val_loss: 0.4935 - val_acc: 0.8364\n",
            "Epoch 37/100\n",
            "390/390 [==============================] - 25s 64ms/step - loss: 0.4449 - acc: 0.8452 - val_loss: 0.4741 - val_acc: 0.8421\n",
            "Epoch 38/100\n",
            "390/390 [==============================] - 25s 64ms/step - loss: 0.4395 - acc: 0.8471 - val_loss: 0.4099 - val_acc: 0.8625\n",
            "Epoch 39/100\n",
            "390/390 [==============================] - 25s 64ms/step - loss: 0.4338 - acc: 0.8495 - val_loss: 0.3974 - val_acc: 0.8639\n",
            "Epoch 40/100\n",
            "390/390 [==============================] - 25s 64ms/step - loss: 0.4323 - acc: 0.8513 - val_loss: 0.4518 - val_acc: 0.8459\n",
            "Epoch 41/100\n",
            "390/390 [==============================] - 25s 65ms/step - loss: 0.4314 - acc: 0.8507 - val_loss: 0.4080 - val_acc: 0.8642\n",
            "Epoch 42/100\n",
            "390/390 [==============================] - 25s 64ms/step - loss: 0.4231 - acc: 0.8524 - val_loss: 0.4024 - val_acc: 0.8646\n",
            "Epoch 43/100\n",
            "390/390 [==============================] - 25s 64ms/step - loss: 0.4201 - acc: 0.8548 - val_loss: 0.3880 - val_acc: 0.8705\n",
            "Epoch 44/100\n",
            "390/390 [==============================] - 25s 65ms/step - loss: 0.4108 - acc: 0.8566 - val_loss: 0.4028 - val_acc: 0.8655\n",
            "Epoch 45/100\n",
            "390/390 [==============================] - 25s 64ms/step - loss: 0.4137 - acc: 0.8564 - val_loss: 0.4252 - val_acc: 0.8612\n",
            "Epoch 46/100\n",
            "390/390 [==============================] - 25s 64ms/step - loss: 0.4051 - acc: 0.8609 - val_loss: 0.3902 - val_acc: 0.8681\n",
            "Epoch 47/100\n",
            "390/390 [==============================] - 25s 64ms/step - loss: 0.4073 - acc: 0.8575 - val_loss: 0.3736 - val_acc: 0.8743\n",
            "Epoch 48/100\n",
            "390/390 [==============================] - 25s 64ms/step - loss: 0.4039 - acc: 0.8601 - val_loss: 0.4433 - val_acc: 0.8516\n",
            "Epoch 49/100\n",
            "390/390 [==============================] - 25s 64ms/step - loss: 0.3955 - acc: 0.8635 - val_loss: 0.3635 - val_acc: 0.8776\n",
            "Epoch 50/100\n",
            "390/390 [==============================] - 25s 64ms/step - loss: 0.4030 - acc: 0.8610 - val_loss: 0.4643 - val_acc: 0.8433\n",
            "Epoch 51/100\n",
            "390/390 [==============================] - 25s 64ms/step - loss: 0.3930 - acc: 0.8641 - val_loss: 0.4115 - val_acc: 0.8604\n",
            "Epoch 52/100\n",
            "390/390 [==============================] - 25s 64ms/step - loss: 0.3898 - acc: 0.8644 - val_loss: 0.4252 - val_acc: 0.8601\n",
            "Epoch 53/100\n",
            "390/390 [==============================] - 25s 64ms/step - loss: 0.3888 - acc: 0.8637 - val_loss: 0.4088 - val_acc: 0.8616\n",
            "Epoch 54/100\n",
            "390/390 [==============================] - 25s 64ms/step - loss: 0.3853 - acc: 0.8670 - val_loss: 0.4193 - val_acc: 0.8609\n",
            "Epoch 55/100\n",
            "390/390 [==============================] - 25s 63ms/step - loss: 0.3830 - acc: 0.8652 - val_loss: 0.3746 - val_acc: 0.8746\n",
            "Epoch 56/100\n",
            "390/390 [==============================] - 25s 64ms/step - loss: 0.3814 - acc: 0.8675 - val_loss: 0.4659 - val_acc: 0.8447\n",
            "Epoch 57/100\n",
            "390/390 [==============================] - 25s 64ms/step - loss: 0.3829 - acc: 0.8680 - val_loss: 0.3839 - val_acc: 0.8727\n",
            "Epoch 58/100\n",
            "390/390 [==============================] - 25s 64ms/step - loss: 0.3726 - acc: 0.8690 - val_loss: 0.3808 - val_acc: 0.8692\n",
            "Epoch 59/100\n",
            "390/390 [==============================] - 25s 64ms/step - loss: 0.3706 - acc: 0.8725 - val_loss: 0.4170 - val_acc: 0.8638\n",
            "Epoch 60/100\n",
            "390/390 [==============================] - 25s 64ms/step - loss: 0.3728 - acc: 0.8715 - val_loss: 0.3913 - val_acc: 0.8705\n",
            "Epoch 61/100\n",
            "390/390 [==============================] - 25s 63ms/step - loss: 0.3712 - acc: 0.8714 - val_loss: 0.3604 - val_acc: 0.8832\n",
            "Epoch 62/100\n",
            "390/390 [==============================] - 25s 64ms/step - loss: 0.3684 - acc: 0.8722 - val_loss: 0.3471 - val_acc: 0.8818\n",
            "Epoch 63/100\n",
            "390/390 [==============================] - 25s 64ms/step - loss: 0.3616 - acc: 0.8743 - val_loss: 0.3894 - val_acc: 0.8727\n",
            "Epoch 64/100\n",
            "390/390 [==============================] - 25s 64ms/step - loss: 0.3578 - acc: 0.8750 - val_loss: 0.3757 - val_acc: 0.8739\n",
            "Epoch 65/100\n",
            "390/390 [==============================] - 25s 64ms/step - loss: 0.3624 - acc: 0.8745 - val_loss: 0.4064 - val_acc: 0.8661\n",
            "Epoch 66/100\n",
            "390/390 [==============================] - 25s 64ms/step - loss: 0.3535 - acc: 0.8770 - val_loss: 0.4654 - val_acc: 0.8504\n",
            "Epoch 67/100\n",
            "390/390 [==============================] - 25s 65ms/step - loss: 0.3625 - acc: 0.8755 - val_loss: 0.3638 - val_acc: 0.8781\n",
            "Epoch 68/100\n",
            "390/390 [==============================] - 25s 64ms/step - loss: 0.3540 - acc: 0.8759 - val_loss: 0.4081 - val_acc: 0.8626\n",
            "Epoch 69/100\n",
            "390/390 [==============================] - 25s 65ms/step - loss: 0.3507 - acc: 0.8769 - val_loss: 0.3564 - val_acc: 0.8829\n",
            "Epoch 70/100\n",
            "390/390 [==============================] - 25s 64ms/step - loss: 0.3466 - acc: 0.8787 - val_loss: 0.3635 - val_acc: 0.8790\n",
            "Epoch 71/100\n",
            "390/390 [==============================] - 25s 64ms/step - loss: 0.3463 - acc: 0.8799 - val_loss: 0.4015 - val_acc: 0.8664\n",
            "Epoch 72/100\n",
            "390/390 [==============================] - 25s 64ms/step - loss: 0.3456 - acc: 0.8805 - val_loss: 0.3784 - val_acc: 0.8765\n",
            "Epoch 73/100\n",
            "390/390 [==============================] - 25s 64ms/step - loss: 0.3416 - acc: 0.8812 - val_loss: 0.3655 - val_acc: 0.8786\n",
            "Epoch 74/100\n",
            "390/390 [==============================] - 25s 64ms/step - loss: 0.3493 - acc: 0.8773 - val_loss: 0.3788 - val_acc: 0.8739\n",
            "Epoch 75/100\n",
            "390/390 [==============================] - 25s 64ms/step - loss: 0.3423 - acc: 0.8814 - val_loss: 0.3770 - val_acc: 0.8727\n",
            "Epoch 76/100\n",
            "390/390 [==============================] - 25s 64ms/step - loss: 0.3420 - acc: 0.8804 - val_loss: 0.3932 - val_acc: 0.8685\n",
            "Epoch 77/100\n",
            "390/390 [==============================] - 25s 64ms/step - loss: 0.3328 - acc: 0.8840 - val_loss: 0.4836 - val_acc: 0.8469\n",
            "Epoch 78/100\n",
            "390/390 [==============================] - 25s 64ms/step - loss: 0.3412 - acc: 0.8820 - val_loss: 0.4105 - val_acc: 0.8617\n",
            "Epoch 79/100\n",
            "390/390 [==============================] - 25s 64ms/step - loss: 0.3355 - acc: 0.8821 - val_loss: 0.3482 - val_acc: 0.8849\n",
            "Epoch 80/100\n",
            "390/390 [==============================] - 25s 64ms/step - loss: 0.3345 - acc: 0.8821 - val_loss: 0.3603 - val_acc: 0.8810\n",
            "Epoch 81/100\n",
            "390/390 [==============================] - 25s 64ms/step - loss: 0.3325 - acc: 0.8832 - val_loss: 0.3537 - val_acc: 0.8821\n",
            "Epoch 82/100\n",
            "390/390 [==============================] - 25s 64ms/step - loss: 0.3304 - acc: 0.8845 - val_loss: 0.3548 - val_acc: 0.8835\n",
            "Epoch 83/100\n",
            "390/390 [==============================] - 25s 64ms/step - loss: 0.3323 - acc: 0.8836 - val_loss: 0.3706 - val_acc: 0.8738\n",
            "Epoch 84/100\n",
            "390/390 [==============================] - 25s 64ms/step - loss: 0.3349 - acc: 0.8835 - val_loss: 0.3724 - val_acc: 0.8748\n",
            "Epoch 85/100\n",
            "390/390 [==============================] - 25s 64ms/step - loss: 0.3244 - acc: 0.8876 - val_loss: 0.3434 - val_acc: 0.8873\n",
            "Epoch 86/100\n",
            "390/390 [==============================] - 25s 64ms/step - loss: 0.3233 - acc: 0.8881 - val_loss: 0.3490 - val_acc: 0.8845\n",
            "Epoch 87/100\n",
            "390/390 [==============================] - 25s 64ms/step - loss: 0.3274 - acc: 0.8848 - val_loss: 0.3416 - val_acc: 0.8849\n",
            "Epoch 88/100\n",
            "390/390 [==============================] - 25s 64ms/step - loss: 0.3221 - acc: 0.8881 - val_loss: 0.3727 - val_acc: 0.8743\n",
            "Epoch 89/100\n",
            "390/390 [==============================] - 25s 64ms/step - loss: 0.3217 - acc: 0.8896 - val_loss: 0.3509 - val_acc: 0.8858\n",
            "Epoch 90/100\n",
            "390/390 [==============================] - 25s 64ms/step - loss: 0.3265 - acc: 0.8863 - val_loss: 0.3462 - val_acc: 0.8855\n",
            "Epoch 91/100\n",
            "390/390 [==============================] - 25s 64ms/step - loss: 0.3131 - acc: 0.8912 - val_loss: 0.3628 - val_acc: 0.8824\n",
            "Epoch 92/100\n",
            "390/390 [==============================] - 25s 64ms/step - loss: 0.3221 - acc: 0.8862 - val_loss: 0.3308 - val_acc: 0.8897\n",
            "Epoch 93/100\n",
            "390/390 [==============================] - 25s 64ms/step - loss: 0.3095 - acc: 0.8907 - val_loss: 0.3812 - val_acc: 0.8768\n",
            "Epoch 94/100\n",
            "390/390 [==============================] - 25s 65ms/step - loss: 0.3228 - acc: 0.8863 - val_loss: 0.3782 - val_acc: 0.8782\n",
            "Epoch 95/100\n",
            "390/390 [==============================] - 25s 64ms/step - loss: 0.3116 - acc: 0.8910 - val_loss: 0.3425 - val_acc: 0.8894\n",
            "Epoch 96/100\n",
            "390/390 [==============================] - 25s 64ms/step - loss: 0.3168 - acc: 0.8897 - val_loss: 0.3337 - val_acc: 0.8902\n",
            "Epoch 97/100\n",
            "390/390 [==============================] - 25s 64ms/step - loss: 0.3086 - acc: 0.8920 - val_loss: 0.3520 - val_acc: 0.8844\n",
            "Epoch 98/100\n",
            "390/390 [==============================] - 25s 64ms/step - loss: 0.3114 - acc: 0.8912 - val_loss: 0.3521 - val_acc: 0.8847\n",
            "Epoch 99/100\n",
            "390/390 [==============================] - 25s 64ms/step - loss: 0.3128 - acc: 0.8910 - val_loss: 0.3477 - val_acc: 0.8840\n",
            "Epoch 100/100\n",
            "390/390 [==============================] - 25s 64ms/step - loss: 0.3122 - acc: 0.8917 - val_loss: 0.3668 - val_acc: 0.8801\n",
            "Model took 2506.07 seconds to train\n"
          ],
          "name": "stdout"
        },
        {
          "output_type": "display_data",
          "data": {
            "image/png": "[encoded data removed]",
            "text/plain": [
              "<Figure size 1080x360 with 2 Axes>"
            ]
          },
          "metadata": {
            "tags": []
          }
        },
        {
          "output_type": "stream",
          "text": [
            "Accuracy on test data is: 88.01\n"
          ],
          "name": "stdout"
        }
      ]
    },
    {
      "cell_type": "code",
      "metadata": {
        "id": "1ScARw6ha3ZN",
        "colab_type": "code",
        "colab": {
          "base_uri": "https://localhost:8080/",
          "height": 459
        },
        "outputId": "e46e4abd-4b68-478e-c2cb-d8d219ef4eed"
      },
      "source": [
        "# save model\n",
        "# model.save('/content/gdrive/My Drive/EVA2019/Session6/Assignment6A_final.h5')\n",
        "\n",
        "from keras.models import load_model\n",
        "# load model back\n",
        "model = load_model('/content/gdrive/My Drive/EVA2019/Session6/Assignment6A_final.h5')"
      ],
      "execution_count": 7,
      "outputs": [
        {
          "output_type": "stream",
          "text": [
            "WARNING: Logging before flag parsing goes to stderr.\n",
            "W0629 13:29:11.209835 140283352868736 deprecation_wrapper.py:119] From /usr/local/lib/python3.6/dist-packages/keras/backend/tensorflow_backend.py:517: The name tf.placeholder is deprecated. Please use tf.compat.v1.placeholder instead.\n",
            "\n",
            "W0629 13:29:11.241762 140283352868736 deprecation_wrapper.py:119] From /usr/local/lib/python3.6/dist-packages/keras/backend/tensorflow_backend.py:4138: The name tf.random_uniform is deprecated. Please use tf.random.uniform instead.\n",
            "\n",
            "W0629 13:29:11.271577 140283352868736 deprecation_wrapper.py:119] From /usr/local/lib/python3.6/dist-packages/keras/backend/tensorflow_backend.py:245: The name tf.get_default_graph is deprecated. Please use tf.compat.v1.get_default_graph instead.\n",
            "\n",
            "W0629 13:29:11.272703 140283352868736 deprecation_wrapper.py:119] From /usr/local/lib/python3.6/dist-packages/keras/backend/tensorflow_backend.py:174: The name tf.get_default_session is deprecated. Please use tf.compat.v1.get_default_session instead.\n",
            "\n",
            "W0629 13:29:11.273889 140283352868736 deprecation_wrapper.py:119] From /usr/local/lib/python3.6/dist-packages/keras/backend/tensorflow_backend.py:181: The name tf.ConfigProto is deprecated. Please use tf.compat.v1.ConfigProto instead.\n",
            "\n",
            "W0629 13:29:11.845840 140283352868736 deprecation_wrapper.py:119] From /usr/local/lib/python3.6/dist-packages/keras/backend/tensorflow_backend.py:1834: The name tf.nn.fused_batch_norm is deprecated. Please use tf.compat.v1.nn.fused_batch_norm instead.\n",
            "\n",
            "W0629 13:29:12.121310 140283352868736 deprecation.py:506] From /usr/local/lib/python3.6/dist-packages/keras/backend/tensorflow_backend.py:3445: calling dropout (from tensorflow.python.ops.nn_ops) with keep_prob is deprecated and will be removed in a future version.\n",
            "Instructions for updating:\n",
            "Please use `rate` instead of `keep_prob`. Rate should be set to `rate = 1 - keep_prob`.\n",
            "W0629 13:29:12.145810 140283352868736 deprecation_wrapper.py:119] From /usr/local/lib/python3.6/dist-packages/keras/backend/tensorflow_backend.py:3976: The name tf.nn.max_pool is deprecated. Please use tf.nn.max_pool2d instead.\n",
            "\n",
            "W0629 13:29:13.424846 140283352868736 deprecation_wrapper.py:119] From /usr/local/lib/python3.6/dist-packages/keras/optimizers.py:790: The name tf.train.Optimizer is deprecated. Please use tf.compat.v1.train.Optimizer instead.\n",
            "\n",
            "W0629 13:29:13.561391 140283352868736 deprecation.py:323] From /usr/local/lib/python3.6/dist-packages/tensorflow/python/ops/math_grad.py:1250: add_dispatch_support.<locals>.wrapper (from tensorflow.python.ops.array_ops) is deprecated and will be removed in a future version.\n",
            "Instructions for updating:\n",
            "Use tf.where in 2.0, which has the same broadcast rule as np.where\n"
          ],
          "name": "stderr"
        }
      ]
    },
    {
      "cell_type": "markdown",
      "metadata": {
        "id": "LI0wJeRvgoui",
        "colab_type": "text"
      },
      "source": [
        "## Gradcam without cutout"
      ]
    },
    {
      "cell_type": "code",
      "metadata": {
        "id": "APPXeIZ5grek",
        "colab_type": "code",
        "colab": {}
      },
      "source": [
        "from keras.preprocessing import image\n",
        "import keras.backend as K\n",
        "import numpy as np\n",
        "import cv2\n",
        "import sys"
      ],
      "execution_count": 0,
      "outputs": []
    },
    {
      "cell_type": "code",
      "metadata": {
        "id": "1jjSSGocOsMX",
        "colab_type": "code",
        "colab": {}
      },
      "source": [
        "import cv2\n",
        "from google.colab.patches import cv2_imshow"
      ],
      "execution_count": 0,
      "outputs": []
    },
    {
      "cell_type": "code",
      "metadata": {
        "id": "VxaXuyPeOIRz",
        "colab_type": "code",
        "colab": {
          "base_uri": "https://localhost:8080/",
          "height": 266
        },
        "outputId": "ad55660f-54f4-4072-a36a-b7ea5acf69f0"
      },
      "source": [
        "image_idx = [208,490,327,559]\n",
        "\n",
        "for j in image_idx:\n",
        "  x = test_features[j]\n",
        "  x = np.expand_dims(x, axis=0)\n",
        "  preds = model.predict(x,batch_size=1)\n",
        "  class_idx = np.argmax(preds[0])\n",
        "  class_output = model.output[:, class_idx]\n",
        "  last_conv_layer = model.get_layer(\"c_final\")\n",
        "\n",
        "  grads = K.gradients(class_output, last_conv_layer.output)[0]\n",
        "  pooled_grads = K.mean(grads, axis=(0, 1, 2))\n",
        "  iterate = K.function([model.input], [pooled_grads, last_conv_layer.output[0]])\n",
        "  pooled_grads_value, conv_layer_output_value = iterate([x])\n",
        "  for i in range(256):\n",
        "    conv_layer_output_value[:, :, i] *= pooled_grads_value[i]\n",
        "  \n",
        "  heatmap = np.mean(conv_layer_output_value, axis=-1)\n",
        "  heatmap = np.maximum(heatmap, 0)\n",
        "  heatmap /= np.max(heatmap)\n",
        "  img = (test_features[j])\n",
        "  heatmap = cv2.resize(heatmap, (img.shape[1], img.shape[0]))\n",
        "  heatmap = np.uint8(255 * heatmap)\n",
        "  heatmap = cv2.applyColorMap(heatmap, cv2.COLORMAP_JET)\n",
        "  superimposed_img = cv2.addWeighted(img, 0.6, heatmap, 0.4, 0, dtype=1)\n",
        "  #cv2_imshow(img)\n",
        "  #cv2_imshow(superimposed_img)\n",
        "  concatimg = cv2.hconcat([img,superimposed_img])\n",
        "  # Display the concatenated image\n",
        "  print (j)\n",
        "  cv2_imshow(concatimg)\n",
        "  cv2.waitKey(0)\n",
        "  print (\" \")\n",
        "  j = j + 1"
      ],
      "execution_count": 14,
      "outputs": [
        {
          "output_type": "error",
          "ename": "error",
          "evalue": "ignored",
          "traceback": [
            "\u001b[0;31m---------------------------------------------------------------------------\u001b[0m",
            "\u001b[0;31merror\u001b[0m                                     Traceback (most recent call last)",
            "\u001b[0;32m<ipython-input-14-8678434a557b>\u001b[0m in \u001b[0;36m<module>\u001b[0;34m()\u001b[0m\n\u001b[1;32m     26\u001b[0m   \u001b[0;31m#cv2_imshow(img)\u001b[0m\u001b[0;34m\u001b[0m\u001b[0;34m\u001b[0m\u001b[0;34m\u001b[0m\u001b[0m\n\u001b[1;32m     27\u001b[0m   \u001b[0;31m#cv2_imshow(superimposed_img)\u001b[0m\u001b[0;34m\u001b[0m\u001b[0;34m\u001b[0m\u001b[0;34m\u001b[0m\u001b[0m\n\u001b[0;32m---> 28\u001b[0;31m   \u001b[0mconcatimg\u001b[0m \u001b[0;34m=\u001b[0m \u001b[0mcv2\u001b[0m\u001b[0;34m.\u001b[0m\u001b[0mhconcat\u001b[0m\u001b[0;34m(\u001b[0m\u001b[0;34m[\u001b[0m\u001b[0mimg\u001b[0m\u001b[0;34m,\u001b[0m\u001b[0msuperimposed_img\u001b[0m\u001b[0;34m]\u001b[0m\u001b[0;34m)\u001b[0m\u001b[0;34m\u001b[0m\u001b[0;34m\u001b[0m\u001b[0m\n\u001b[0m\u001b[1;32m     29\u001b[0m   \u001b[0;31m# Display the concatenated image\u001b[0m\u001b[0;34m\u001b[0m\u001b[0;34m\u001b[0m\u001b[0;34m\u001b[0m\u001b[0m\n\u001b[1;32m     30\u001b[0m   \u001b[0mprint\u001b[0m \u001b[0;34m(\u001b[0m\u001b[0mj\u001b[0m\u001b[0;34m)\u001b[0m\u001b[0;34m\u001b[0m\u001b[0;34m\u001b[0m\u001b[0m\n",
            "\u001b[0;31merror\u001b[0m: OpenCV(3.4.3) /io/opencv/modules/core/src/matrix_operations.cpp:63: error: (-215:Assertion failed) src[i].dims <= 2 && src[i].rows == src[0].rows && src[i].type() == src[0].type() in function 'hconcat'\n"
          ]
        }
      ]
    },
    {
      "cell_type": "code",
      "metadata": {
        "id": "tRRIRJ4VcGdM",
        "colab_type": "code",
        "colab": {}
      },
      "source": [
        "??cv2.addWeighted"
      ],
      "execution_count": 0,
      "outputs": []
    },
    {
      "cell_type": "code",
      "metadata": {
        "id": "vQw5_6-wEP5b",
        "colab_type": "code",
        "colab": {}
      },
      "source": [
        "import cv2\n",
        "# from google.colab.patches import cv2_imshow\n",
        "def whatchyalookingat(j):\n",
        "  x = test_features[j]\n",
        "  x = np.expand_dims(x, axis=0)\n",
        "  preds = model.predict(x,batch_size=1)\n",
        "  class_idx = np.argmax(preds[0])\n",
        "  class_output = model.output[:, class_idx]\n",
        "  last_conv_layer = model.get_layer(\"c_final\")\n",
        "\n",
        "  grads = K.gradients(class_output, last_conv_layer.output)[0]\n",
        "  pooled_grads = K.mean(grads, axis=(0, 1, 2))\n",
        "  iterate = K.function([model.input], [pooled_grads, last_conv_layer.output[0]])\n",
        "  pooled_grads_value, conv_layer_output_value = iterate([x])\n",
        "  for i in range(256):\n",
        "    conv_layer_output_value[:, :, i] *= pooled_grads_value[i]\n",
        "  \n",
        "  heatmap = np.mean(conv_layer_output_value, axis=-1)\n",
        "  heatmap = np.maximum(heatmap, 0)\n",
        "  heatmap /= np.max(heatmap)\n",
        "  \n",
        "  img = (test_features[j])\n",
        "  heatmap = cv2.resize(heatmap, (img.shape[1], img.shape[0]))\n",
        "  heatmap = np.uint8(255 * heatmap)\n",
        "  heatmap = cv2.applyColorMap(heatmap, cv2.COLORMAP_JET)\n",
        "  superimposed_img = cv2.addWeighted(img, 0.8, heatmap, 0.2, 0, dtype=cv2.CV_32F)\n",
        "\n",
        "  concatimg = cv2.hconcat([img,superimposed_img])\n",
        "  \n",
        "  return( concatimg)"
      ],
      "execution_count": 0,
      "outputs": []
    },
    {
      "cell_type": "code",
      "metadata": {
        "id": "sTgdviiwCw9X",
        "colab_type": "code",
        "colab": {
          "base_uri": "https://localhost:8080/",
          "height": 579
        },
        "outputId": "9a10a041-855f-4ac3-dc20-14cc881bc481"
      },
      "source": [
        "image_idx = [208,490,327,559]\n",
        "fig = plt.figure(figsize=(8,8))\n",
        "for i,j in enumerate(image_idx):\n",
        "  im = whatchyalookingat(j)\n",
        "  \n",
        "  ax = fig.add_subplot(4, 1, 1 + i) \n",
        "  plt.imshow(im)\n",
        "\n",
        "  \n",
        "plt.show()"
      ],
      "execution_count": 21,
      "outputs": [
        {
          "output_type": "stream",
          "text": [
            "W0629 13:38:11.180705 140283352868736 image.py:648] Clipping input data to the valid range for imshow with RGB data ([0..1] for floats or [0..255] for integers).\n",
            "W0629 13:38:11.540669 140283352868736 image.py:648] Clipping input data to the valid range for imshow with RGB data ([0..1] for floats or [0..255] for integers).\n",
            "W0629 13:38:11.977224 140283352868736 image.py:648] Clipping input data to the valid range for imshow with RGB data ([0..1] for floats or [0..255] for integers).\n",
            "W0629 13:38:12.345722 140283352868736 image.py:648] Clipping input data to the valid range for imshow with RGB data ([0..1] for floats or [0..255] for integers).\n"
          ],
          "name": "stderr"
        },
        {
          "output_type": "display_data",
          "data": {
            "image/png": "[encoded data removed]",
            "text/plain": [
              "<Figure size 576x576 with 4 Axes>"
            ]
          },
          "metadata": {
            "tags": []
          }
        }
      ]
    },
    {
      "cell_type": "markdown",
      "metadata": {
        "id": "I9YsULSrEp5A",
        "colab_type": "text"
      },
      "source": [
        "# Retrain model with cutout"
      ]
    },
    {
      "cell_type": "code",
      "metadata": {
        "id": "obIzxxrC3tEZ",
        "colab_type": "code",
        "colab": {}
      },
      "source": [
        "from keras.models import load_model\n",
        "# load model back\n",
        "model = load_model('/content/drive/My Drive/EVA2019/Session6/Assignment6A_final.h5')"
      ],
      "execution_count": 0,
      "outputs": []
    },
    {
      "cell_type": "code",
      "metadata": {
        "id": "M-j-NM-3FZWB",
        "colab_type": "code",
        "colab": {
          "base_uri": "https://localhost:8080/",
          "height": 1000
        },
        "outputId": "e7a548f9-18b5-4974-d52d-ae22e7a811b7"
      },
      "source": [
        "model.summary()"
      ],
      "execution_count": 233,
      "outputs": [
        {
          "output_type": "stream",
          "text": [
            "__________________________________________________________________________________________________\n",
            "Layer (type)                    Output Shape         Param #     Connected to                     \n",
            "==================================================================================================\n",
            "input_9 (InputLayer)            (None, 32, 32, 3)    0                                            \n",
            "__________________________________________________________________________________________________\n",
            "conv2d_83 (Conv2D)              (None, 32, 32, 64)   1728        input_9[0][0]                    \n",
            "__________________________________________________________________________________________________\n",
            "batch_normalization_88 (BatchNo (None, 32, 32, 64)   256         conv2d_83[0][0]                  \n",
            "__________________________________________________________________________________________________\n",
            "re_lu_88 (ReLU)                 (None, 32, 32, 64)   0           batch_normalization_88[0][0]     \n",
            "__________________________________________________________________________________________________\n",
            "conv2d_85 (Conv2D)              (None, 32, 32, 128)  73728       re_lu_88[0][0]                   \n",
            "__________________________________________________________________________________________________\n",
            "batch_normalization_90 (BatchNo (None, 32, 32, 128)  512         conv2d_85[0][0]                  \n",
            "__________________________________________________________________________________________________\n",
            "re_lu_90 (ReLU)                 (None, 32, 32, 128)  0           batch_normalization_90[0][0]     \n",
            "__________________________________________________________________________________________________\n",
            "spatial_dropout2d_81 (SpatialDr (None, 32, 32, 128)  0           re_lu_90[0][0]                   \n",
            "__________________________________________________________________________________________________\n",
            "concatenate_27 (Concatenate)    (None, 32, 32, 192)  0           re_lu_88[0][0]                   \n",
            "                                                                 spatial_dropout2d_81[0][0]       \n",
            "__________________________________________________________________________________________________\n",
            "max_pooling2d_22 (MaxPooling2D) (None, 16, 16, 192)  0           concatenate_27[0][0]             \n",
            "__________________________________________________________________________________________________\n",
            "conv2d_86 (Conv2D)              (None, 16, 16, 64)   12288       max_pooling2d_22[0][0]           \n",
            "__________________________________________________________________________________________________\n",
            "batch_normalization_91 (BatchNo (None, 16, 16, 64)   256         conv2d_86[0][0]                  \n",
            "__________________________________________________________________________________________________\n",
            "re_lu_91 (ReLU)                 (None, 16, 16, 64)   0           batch_normalization_91[0][0]     \n",
            "__________________________________________________________________________________________________\n",
            "spatial_dropout2d_82 (SpatialDr (None, 16, 16, 64)   0           re_lu_91[0][0]                   \n",
            "__________________________________________________________________________________________________\n",
            "conv2d_87 (Conv2D)              (None, 16, 16, 64)   36864       spatial_dropout2d_82[0][0]       \n",
            "__________________________________________________________________________________________________\n",
            "batch_normalization_92 (BatchNo (None, 16, 16, 64)   256         conv2d_87[0][0]                  \n",
            "__________________________________________________________________________________________________\n",
            "re_lu_92 (ReLU)                 (None, 16, 16, 64)   0           batch_normalization_92[0][0]     \n",
            "__________________________________________________________________________________________________\n",
            "spatial_dropout2d_83 (SpatialDr (None, 16, 16, 64)   0           re_lu_92[0][0]                   \n",
            "__________________________________________________________________________________________________\n",
            "conv2d_88 (Conv2D)              (None, 16, 16, 128)  73728       spatial_dropout2d_83[0][0]       \n",
            "__________________________________________________________________________________________________\n",
            "batch_normalization_93 (BatchNo (None, 16, 16, 128)  512         conv2d_88[0][0]                  \n",
            "__________________________________________________________________________________________________\n",
            "re_lu_93 (ReLU)                 (None, 16, 16, 128)  0           batch_normalization_93[0][0]     \n",
            "__________________________________________________________________________________________________\n",
            "spatial_dropout2d_84 (SpatialDr (None, 16, 16, 128)  0           re_lu_93[0][0]                   \n",
            "__________________________________________________________________________________________________\n",
            "concatenate_28 (Concatenate)    (None, 16, 16, 192)  0           spatial_dropout2d_82[0][0]       \n",
            "                                                                 spatial_dropout2d_84[0][0]       \n",
            "__________________________________________________________________________________________________\n",
            "max_pooling2d_23 (MaxPooling2D) (None, 8, 8, 192)    0           concatenate_28[0][0]             \n",
            "__________________________________________________________________________________________________\n",
            "conv2d_89 (Conv2D)              (None, 8, 8, 64)     12288       max_pooling2d_23[0][0]           \n",
            "__________________________________________________________________________________________________\n",
            "batch_normalization_94 (BatchNo (None, 8, 8, 64)     256         conv2d_89[0][0]                  \n",
            "__________________________________________________________________________________________________\n",
            "re_lu_94 (ReLU)                 (None, 8, 8, 64)     0           batch_normalization_94[0][0]     \n",
            "__________________________________________________________________________________________________\n",
            "spatial_dropout2d_85 (SpatialDr (None, 8, 8, 64)     0           re_lu_94[0][0]                   \n",
            "__________________________________________________________________________________________________\n",
            "conv2d_90 (Conv2D)              (None, 8, 8, 64)     36864       spatial_dropout2d_85[0][0]       \n",
            "__________________________________________________________________________________________________\n",
            "batch_normalization_95 (BatchNo (None, 8, 8, 64)     256         conv2d_90[0][0]                  \n",
            "__________________________________________________________________________________________________\n",
            "re_lu_95 (ReLU)                 (None, 8, 8, 64)     0           batch_normalization_95[0][0]     \n",
            "__________________________________________________________________________________________________\n",
            "spatial_dropout2d_86 (SpatialDr (None, 8, 8, 64)     0           re_lu_95[0][0]                   \n",
            "__________________________________________________________________________________________________\n",
            "conv2d_91 (Conv2D)              (None, 8, 8, 128)    73728       spatial_dropout2d_86[0][0]       \n",
            "__________________________________________________________________________________________________\n",
            "batch_normalization_96 (BatchNo (None, 8, 8, 128)    512         conv2d_91[0][0]                  \n",
            "__________________________________________________________________________________________________\n",
            "re_lu_96 (ReLU)                 (None, 8, 8, 128)    0           batch_normalization_96[0][0]     \n",
            "__________________________________________________________________________________________________\n",
            "spatial_dropout2d_87 (SpatialDr (None, 8, 8, 128)    0           re_lu_96[0][0]                   \n",
            "__________________________________________________________________________________________________\n",
            "concatenate_29 (Concatenate)    (None, 8, 8, 192)    0           spatial_dropout2d_85[0][0]       \n",
            "                                                                 spatial_dropout2d_87[0][0]       \n",
            "__________________________________________________________________________________________________\n",
            "c_final (Conv2D)                (None, 8, 8, 256)    442368      concatenate_29[0][0]             \n",
            "__________________________________________________________________________________________________\n",
            "to_numclass (Conv2D)            (None, 8, 8, 10)     2560        c_final[0][0]                    \n",
            "__________________________________________________________________________________________________\n",
            "global_average_pooling2d_9 (Glo (None, 10)           0           to_numclass[0][0]                \n",
            "__________________________________________________________________________________________________\n",
            "softmax_9 (Softmax)             (None, 10)           0           global_average_pooling2d_9[0][0] \n",
            "==================================================================================================\n",
            "Total params: 768,960\n",
            "Trainable params: 767,552\n",
            "Non-trainable params: 1,408\n",
            "__________________________________________________________________________________________________\n"
          ],
          "name": "stdout"
        }
      ]
    },
    {
      "cell_type": "code",
      "metadata": {
        "id": "fA_lvBlrHk2n",
        "colab_type": "code",
        "colab": {
          "base_uri": "https://localhost:8080/",
          "height": 1000
        },
        "outputId": "ec0fc804-92a4-4e9c-9595-daf1a907753e"
      },
      "source": [
        "input = Input(shape=(32, 32, 3,))\n",
        "\n",
        "#Normal Convoltion\n",
        "c1 = Conv2D(64, (3,3), padding='same', use_bias=False)(input)\n",
        "c1 = BatchNormalization()(c1)\n",
        "c1 = ReLU()(c1)\n",
        "# c1 = SpatialDropout2D(0.1)(c1)\n",
        "\n",
        "#######################\n",
        "# Block1\n",
        "#######################\n",
        "\n",
        "b1_c1 = Conv2D(64, (3,3), padding='same', use_bias=False)(c1)\n",
        "b1_c1 = BatchNormalization()(b1_c1)\n",
        "b1_c1 = ReLU()(b1_c1)\n",
        "b1_c1 = SpatialDropout2D(0.1)(b1_c1)\n",
        "\n",
        "b1_c2 = Conv2D(128, (3,3), padding='same', use_bias=False)(c1)\n",
        "b1_c2 = BatchNormalization()(b1_c2)\n",
        "b1_c2 = ReLU()(b1_c2)\n",
        "b1_c2 = SpatialDropout2D(0.1)(b1_c2)\n",
        "\n",
        "\n",
        "#########\n",
        "# Trans1\n",
        "#########\n",
        "t1 = Concatenate(axis=-1)([c1, b1_c2])\n",
        "\n",
        "t1 = MaxPooling2D(pool_size=(2, 2))(t1)\n",
        "\n",
        "t1 = Conv2D(64, (1,1), padding='same', use_bias=False)(t1)\n",
        "t1 = BatchNormalization()(t1)\n",
        "t1 = ReLU()(t1)\n",
        "t1 = SpatialDropout2D(0.1)(t1)\n",
        "\n",
        "#######################\n",
        "# Block2\n",
        "#######################\n",
        "\n",
        "b2_c1 = Conv2D(64, (3,3), padding='same', use_bias=False)(t1)\n",
        "b2_c1 = BatchNormalization()(b2_c1)\n",
        "b2_c1 = ReLU()(b2_c1)\n",
        "b2_c1 = SpatialDropout2D(0.1)(b2_c1)\n",
        "\n",
        "b2_c2 = Conv2D(128, (3,3), padding='same', use_bias=False)(b2_c1)\n",
        "b2_c2 = BatchNormalization()(b2_c2)\n",
        "b2_c2 = ReLU()(b2_c2)\n",
        "b2_c2 = SpatialDropout2D(0.1)(b2_c2)\n",
        "#########\n",
        "# Trans2\n",
        "#########\n",
        "t2 = Concatenate(axis=-1)([t1, b2_c2])\n",
        "t2 = MaxPooling2D(pool_size=(2, 2))(t2)\n",
        "\n",
        "t2 = Conv2D(64, (1,1), padding='same', use_bias=False)(t2)\n",
        "t2 = BatchNormalization()(t2)\n",
        "t2 = ReLU()(t2)\n",
        "t2 = SpatialDropout2D(0.1)(t2)\n",
        "#######################\n",
        "# Block3\n",
        "#######################\n",
        "b3_c1 = Conv2D(64, (3,3), padding='same',  use_bias=False)(t2)\n",
        "b3_c1 = BatchNormalization()(b3_c1)\n",
        "b3_c1 = ReLU()(b3_c1)\n",
        "b3_c1 = SpatialDropout2D(0.1)(b3_c1)\n",
        "\n",
        "b3_c2 = Conv2D(128, (3,3), padding='same', use_bias=False)(b3_c1)\n",
        "b3_c2 = BatchNormalization()(b3_c2)\n",
        "b3_c2 = ReLU()(b3_c2)\n",
        "b3_c2 = SpatialDropout2D(0.1)(b3_c2)\n",
        "#########\n",
        "# Trans3\n",
        "#########\n",
        "t3 = Concatenate(axis=-1)([t2, b3_c2])\n",
        "# t3 = MaxPooling2D(pool_size=(2, 2))(t3)\n",
        "\n",
        "# t3 = Conv2D(64, (1,1), padding='same', use_bias=False)(t3)\n",
        "# t3 = BatchNormalization()(t3)\n",
        "# t3 = ReLU()(t3)\n",
        "# t3 = SpatialDropout2D(0.1)(t3)\n",
        "\n",
        "# #######################\n",
        "# # Block4\n",
        "# #######################\n",
        "# b4_c1 = Conv2D(64, (3,3), padding='same', use_bias=False, name = 'b4_c1')(t3)\n",
        "# b4_c1 = BatchNormalization()(b4_c1)\n",
        "# b4_c1 = ReLU()(b4_c1)\n",
        "# b4_c1 = SpatialDropout2D(0.1)(b4_c1)\n",
        "\n",
        "# b4_c2 = Conv2D(128, (3,3), padding='same', use_bias=False, name = 'b4_c2')(b4_c1)\n",
        "# b4_c2 = BatchNormalization()(b4_c2)\n",
        "# b4_c2 = ReLU()(b4_c2)\n",
        "# b4_c2 = SpatialDropout2D(0.1)(b4_c2)\n",
        "# ############\n",
        "# t4 = Concatenate(axis=-1)([t3, b4_c2])\n",
        "\n",
        "c_final = Conv2D(256, (3,3), padding='same', use_bias=False, name = 'c_final')(t3)\n",
        "\n",
        "reduce_ch = Conv2D(10, (1,1), name = 'to_numclass', use_bias=False)(c_final)\n",
        "avg_pool = GlobalAveragePooling2D()(reduce_ch)\n",
        "output = Softmax()(avg_pool)\n",
        "\n",
        "\n",
        "model = Model(inputs=[input], outputs=[output])\n",
        "model.summary()"
      ],
      "execution_count": 236,
      "outputs": [
        {
          "output_type": "stream",
          "text": [
            "__________________________________________________________________________________________________\n",
            "Layer (type)                    Output Shape         Param #     Connected to                     \n",
            "==================================================================================================\n",
            "input_1 (InputLayer)            (None, 32, 32, 3)    0                                            \n",
            "__________________________________________________________________________________________________\n",
            "conv2d_1 (Conv2D)               (None, 32, 32, 64)   1728        input_1[0][0]                    \n",
            "__________________________________________________________________________________________________\n",
            "batch_normalization_1 (BatchNor (None, 32, 32, 64)   256         conv2d_1[0][0]                   \n",
            "__________________________________________________________________________________________________\n",
            "re_lu_1 (ReLU)                  (None, 32, 32, 64)   0           batch_normalization_1[0][0]      \n",
            "__________________________________________________________________________________________________\n",
            "conv2d_3 (Conv2D)               (None, 32, 32, 128)  73728       re_lu_1[0][0]                    \n",
            "__________________________________________________________________________________________________\n",
            "batch_normalization_3 (BatchNor (None, 32, 32, 128)  512         conv2d_3[0][0]                   \n",
            "__________________________________________________________________________________________________\n",
            "re_lu_3 (ReLU)                  (None, 32, 32, 128)  0           batch_normalization_3[0][0]      \n",
            "__________________________________________________________________________________________________\n",
            "spatial_dropout2d_2 (SpatialDro (None, 32, 32, 128)  0           re_lu_3[0][0]                    \n",
            "__________________________________________________________________________________________________\n",
            "concatenate_1 (Concatenate)     (None, 32, 32, 192)  0           re_lu_1[0][0]                    \n",
            "                                                                 spatial_dropout2d_2[0][0]        \n",
            "__________________________________________________________________________________________________\n",
            "max_pooling2d_1 (MaxPooling2D)  (None, 16, 16, 192)  0           concatenate_1[0][0]              \n",
            "__________________________________________________________________________________________________\n",
            "conv2d_4 (Conv2D)               (None, 16, 16, 64)   12288       max_pooling2d_1[0][0]            \n",
            "__________________________________________________________________________________________________\n",
            "batch_normalization_4 (BatchNor (None, 16, 16, 64)   256         conv2d_4[0][0]                   \n",
            "__________________________________________________________________________________________________\n",
            "re_lu_4 (ReLU)                  (None, 16, 16, 64)   0           batch_normalization_4[0][0]      \n",
            "__________________________________________________________________________________________________\n",
            "spatial_dropout2d_3 (SpatialDro (None, 16, 16, 64)   0           re_lu_4[0][0]                    \n",
            "__________________________________________________________________________________________________\n",
            "conv2d_5 (Conv2D)               (None, 16, 16, 64)   36864       spatial_dropout2d_3[0][0]        \n",
            "__________________________________________________________________________________________________\n",
            "batch_normalization_5 (BatchNor (None, 16, 16, 64)   256         conv2d_5[0][0]                   \n",
            "__________________________________________________________________________________________________\n",
            "re_lu_5 (ReLU)                  (None, 16, 16, 64)   0           batch_normalization_5[0][0]      \n",
            "__________________________________________________________________________________________________\n",
            "spatial_dropout2d_4 (SpatialDro (None, 16, 16, 64)   0           re_lu_5[0][0]                    \n",
            "__________________________________________________________________________________________________\n",
            "conv2d_6 (Conv2D)               (None, 16, 16, 128)  73728       spatial_dropout2d_4[0][0]        \n",
            "__________________________________________________________________________________________________\n",
            "batch_normalization_6 (BatchNor (None, 16, 16, 128)  512         conv2d_6[0][0]                   \n",
            "__________________________________________________________________________________________________\n",
            "re_lu_6 (ReLU)                  (None, 16, 16, 128)  0           batch_normalization_6[0][0]      \n",
            "__________________________________________________________________________________________________\n",
            "spatial_dropout2d_5 (SpatialDro (None, 16, 16, 128)  0           re_lu_6[0][0]                    \n",
            "__________________________________________________________________________________________________\n",
            "concatenate_2 (Concatenate)     (None, 16, 16, 192)  0           spatial_dropout2d_3[0][0]        \n",
            "                                                                 spatial_dropout2d_5[0][0]        \n",
            "__________________________________________________________________________________________________\n",
            "max_pooling2d_2 (MaxPooling2D)  (None, 8, 8, 192)    0           concatenate_2[0][0]              \n",
            "__________________________________________________________________________________________________\n",
            "conv2d_7 (Conv2D)               (None, 8, 8, 64)     12288       max_pooling2d_2[0][0]            \n",
            "__________________________________________________________________________________________________\n",
            "batch_normalization_7 (BatchNor (None, 8, 8, 64)     256         conv2d_7[0][0]                   \n",
            "__________________________________________________________________________________________________\n",
            "re_lu_7 (ReLU)                  (None, 8, 8, 64)     0           batch_normalization_7[0][0]      \n",
            "__________________________________________________________________________________________________\n",
            "spatial_dropout2d_6 (SpatialDro (None, 8, 8, 64)     0           re_lu_7[0][0]                    \n",
            "__________________________________________________________________________________________________\n",
            "conv2d_8 (Conv2D)               (None, 8, 8, 64)     36864       spatial_dropout2d_6[0][0]        \n",
            "__________________________________________________________________________________________________\n",
            "batch_normalization_8 (BatchNor (None, 8, 8, 64)     256         conv2d_8[0][0]                   \n",
            "__________________________________________________________________________________________________\n",
            "re_lu_8 (ReLU)                  (None, 8, 8, 64)     0           batch_normalization_8[0][0]      \n",
            "__________________________________________________________________________________________________\n",
            "spatial_dropout2d_7 (SpatialDro (None, 8, 8, 64)     0           re_lu_8[0][0]                    \n",
            "__________________________________________________________________________________________________\n",
            "conv2d_9 (Conv2D)               (None, 8, 8, 128)    73728       spatial_dropout2d_7[0][0]        \n",
            "__________________________________________________________________________________________________\n",
            "batch_normalization_9 (BatchNor (None, 8, 8, 128)    512         conv2d_9[0][0]                   \n",
            "__________________________________________________________________________________________________\n",
            "re_lu_9 (ReLU)                  (None, 8, 8, 128)    0           batch_normalization_9[0][0]      \n",
            "__________________________________________________________________________________________________\n",
            "spatial_dropout2d_8 (SpatialDro (None, 8, 8, 128)    0           re_lu_9[0][0]                    \n",
            "__________________________________________________________________________________________________\n",
            "concatenate_3 (Concatenate)     (None, 8, 8, 192)    0           spatial_dropout2d_6[0][0]        \n",
            "                                                                 spatial_dropout2d_8[0][0]        \n",
            "__________________________________________________________________________________________________\n",
            "c_final (Conv2D)                (None, 8, 8, 256)    442368      concatenate_3[0][0]              \n",
            "__________________________________________________________________________________________________\n",
            "to_numclass (Conv2D)            (None, 8, 8, 10)     2560        c_final[0][0]                    \n",
            "__________________________________________________________________________________________________\n",
            "global_average_pooling2d_1 (Glo (None, 10)           0           to_numclass[0][0]                \n",
            "__________________________________________________________________________________________________\n",
            "softmax_1 (Softmax)             (None, 10)           0           global_average_pooling2d_1[0][0] \n",
            "==================================================================================================\n",
            "Total params: 768,960\n",
            "Trainable params: 767,552\n",
            "Non-trainable params: 1,408\n",
            "__________________________________________________________________________________________________\n"
          ],
          "name": "stdout"
        }
      ]
    },
    {
      "cell_type": "code",
      "metadata": {
        "id": "wP2ZdNRaFuR-",
        "colab_type": "code",
        "colab": {}
      },
      "source": [
        "def get_random_eraser(p=0.5, s_l=0.02, s_h=0.4, r_1=0.3, r_2=1/0.3, v_l=0, v_h=255, pixel_level=False):\n",
        "    def eraser(input_img):\n",
        "        img_h, img_w, img_c = input_img.shape\n",
        "        p_1 = np.random.rand()\n",
        "\n",
        "        if p_1 > p:\n",
        "            return input_img\n",
        "\n",
        "        while True:\n",
        "            s = np.random.uniform(s_l, s_h) * img_h * img_w\n",
        "            r = np.random.uniform(r_1, r_2)\n",
        "            w = int(np.sqrt(s / r))\n",
        "            h = int(np.sqrt(s * r))\n",
        "            left = np.random.randint(0, img_w)\n",
        "            top = np.random.randint(0, img_h)\n",
        "\n",
        "            if left + w <= img_w and top + h <= img_h:\n",
        "                break\n",
        "\n",
        "        if pixel_level:\n",
        "            c = np.random.uniform(v_l, v_h, (h, w, img_c))\n",
        "        else:\n",
        "            c = np.random.uniform(v_l, v_h)\n",
        "\n",
        "        input_img[top:top + h, left:left + w, :] = c\n",
        "\n",
        "        return input_img\n",
        "\n",
        "    return eraser"
      ],
      "execution_count": 0,
      "outputs": []
    },
    {
      "cell_type": "code",
      "metadata": {
        "id": "vFhrzSp1FhYy",
        "colab_type": "code",
        "colab": {
          "base_uri": "https://localhost:8080/",
          "height": 1000
        },
        "outputId": "30843591-8e30-4aa5-fc16-dfd383ecfec8"
      },
      "source": [
        "model.compile(optimizer='adam', loss='categorical_crossentropy', metrics=['accuracy'])\n",
        "\n",
        "from keras.preprocessing.image import ImageDataGenerator\n",
        "\n",
        "datagen = ImageDataGenerator(featurewise_center=True,featurewise_std_normalization=True,\n",
        "                             shear_range=0.2,\n",
        "                             zoom_range=0.2,\n",
        "                             horizontal_flip=True,\n",
        "                             preprocessing_function=get_random_eraser(v_l=0, v_h=1, pixel_level=True))\n",
        "\n",
        "\n",
        "# train the model\n",
        "start = time.time()\n",
        "# Train the model\n",
        "model_info = model.fit_generator(datagen.flow(train_features, train_labels, batch_size = 128),\n",
        "                                 samples_per_epoch = train_features.shape[0], nb_epoch = 50, \n",
        "                                 validation_data = (test_features, test_labels),\n",
        "#                                  callbacks=[lr_scheduler],\n",
        "                                 verbose=1)\n",
        "end = time.time()\n",
        "print (\"Model took %0.2f seconds to train\"%(end - start))\n",
        "# plot model history\n",
        "plot_model_history(model_info)\n",
        "# compute test accuracy\n",
        "print (\"Accuracy on test data is: %0.2f\"%accuracy(test_features, test_labels, model))"
      ],
      "execution_count": 238,
      "outputs": [
        {
          "output_type": "stream",
          "text": [
            "/usr/local/lib/python3.6/dist-packages/ipykernel_launcher.py:19: UserWarning: The semantics of the Keras 2 argument `steps_per_epoch` is not the same as the Keras 1 argument `samples_per_epoch`. `steps_per_epoch` is the number of batches to draw from the generator at each epoch. Basically steps_per_epoch = samples_per_epoch/batch_size. Similarly `nb_val_samples`->`validation_steps` and `val_samples`->`steps` arguments have changed. Update your method calls accordingly.\n",
            "/usr/local/lib/python3.6/dist-packages/ipykernel_launcher.py:19: UserWarning: Update your `fit_generator` call to the Keras 2 API: `fit_generator(<keras_pre..., validation_data=(array([[[..., verbose=1, steps_per_epoch=390, epochs=50)`\n"
          ],
          "name": "stderr"
        },
        {
          "output_type": "stream",
          "text": [
            "Epoch 1/50\n"
          ],
          "name": "stdout"
        },
        {
          "output_type": "stream",
          "text": [
            "/usr/local/lib/python3.6/dist-packages/keras_preprocessing/image/image_data_generator.py:716: UserWarning: This ImageDataGenerator specifies `featurewise_center`, but it hasn't been fit on any training data. Fit it first by calling `.fit(numpy_data)`.\n",
            "  warnings.warn('This ImageDataGenerator specifies '\n",
            "/usr/local/lib/python3.6/dist-packages/keras_preprocessing/image/image_data_generator.py:724: UserWarning: This ImageDataGenerator specifies `featurewise_std_normalization`, but it hasn't been fit on any training data. Fit it first by calling `.fit(numpy_data)`.\n",
            "  warnings.warn('This ImageDataGenerator specifies '\n"
          ],
          "name": "stderr"
        },
        {
          "output_type": "stream",
          "text": [
            "390/390 [==============================] - 33s 84ms/step - loss: 1.8054 - acc: 0.3420 - val_loss: 1.7534 - val_acc: 0.3623\n",
            "Epoch 2/50\n",
            "390/390 [==============================] - 26s 68ms/step - loss: 1.4495 - acc: 0.4697 - val_loss: 1.5427 - val_acc: 0.5030\n",
            "Epoch 3/50\n",
            "390/390 [==============================] - 27s 68ms/step - loss: 1.2861 - acc: 0.5349 - val_loss: 1.3341 - val_acc: 0.5492\n",
            "Epoch 4/50\n",
            "390/390 [==============================] - 27s 68ms/step - loss: 1.1936 - acc: 0.5714 - val_loss: 1.1719 - val_acc: 0.5893\n",
            "Epoch 5/50\n",
            "390/390 [==============================] - 26s 68ms/step - loss: 1.1091 - acc: 0.6038 - val_loss: 0.9636 - val_acc: 0.6512\n",
            "Epoch 6/50\n",
            "390/390 [==============================] - 26s 68ms/step - loss: 1.0553 - acc: 0.6248 - val_loss: 0.9798 - val_acc: 0.6496\n",
            "Epoch 7/50\n",
            "390/390 [==============================] - 27s 68ms/step - loss: 0.9999 - acc: 0.6447 - val_loss: 0.8207 - val_acc: 0.7127\n",
            "Epoch 8/50\n",
            "390/390 [==============================] - 27s 69ms/step - loss: 0.9402 - acc: 0.6682 - val_loss: 0.8065 - val_acc: 0.7195\n",
            "Epoch 9/50\n",
            "390/390 [==============================] - 26s 68ms/step - loss: 0.9082 - acc: 0.6800 - val_loss: 0.7147 - val_acc: 0.7482\n",
            "Epoch 10/50\n",
            "390/390 [==============================] - 26s 68ms/step - loss: 0.8682 - acc: 0.6953 - val_loss: 0.7155 - val_acc: 0.7498\n",
            "Epoch 11/50\n",
            "390/390 [==============================] - 27s 68ms/step - loss: 0.8448 - acc: 0.7020 - val_loss: 0.7596 - val_acc: 0.7389\n",
            "Epoch 12/50\n",
            "390/390 [==============================] - 26s 68ms/step - loss: 0.8116 - acc: 0.7174 - val_loss: 0.6564 - val_acc: 0.7710\n",
            "Epoch 13/50\n",
            "390/390 [==============================] - 26s 68ms/step - loss: 0.7811 - acc: 0.7291 - val_loss: 0.6408 - val_acc: 0.7785\n",
            "Epoch 14/50\n",
            "390/390 [==============================] - 26s 67ms/step - loss: 0.7719 - acc: 0.7299 - val_loss: 0.6106 - val_acc: 0.7904\n",
            "Epoch 15/50\n",
            "390/390 [==============================] - 26s 68ms/step - loss: 0.7511 - acc: 0.7379 - val_loss: 0.6173 - val_acc: 0.7860\n",
            "Epoch 16/50\n",
            "390/390 [==============================] - 27s 68ms/step - loss: 0.7359 - acc: 0.7451 - val_loss: 0.5576 - val_acc: 0.8066\n",
            "Epoch 17/50\n",
            "390/390 [==============================] - 26s 67ms/step - loss: 0.7217 - acc: 0.7489 - val_loss: 0.5655 - val_acc: 0.8047\n",
            "Epoch 18/50\n",
            "390/390 [==============================] - 26s 68ms/step - loss: 0.7011 - acc: 0.7565 - val_loss: 0.5986 - val_acc: 0.7948\n",
            "Epoch 19/50\n",
            "390/390 [==============================] - 26s 68ms/step - loss: 0.6948 - acc: 0.7572 - val_loss: 0.5328 - val_acc: 0.8178\n",
            "Epoch 20/50\n",
            "390/390 [==============================] - 27s 68ms/step - loss: 0.6791 - acc: 0.7626 - val_loss: 0.5194 - val_acc: 0.8268\n",
            "Epoch 21/50\n",
            "390/390 [==============================] - 27s 68ms/step - loss: 0.6754 - acc: 0.7659 - val_loss: 0.5213 - val_acc: 0.8175\n",
            "Epoch 22/50\n",
            "390/390 [==============================] - 27s 68ms/step - loss: 0.6580 - acc: 0.7710 - val_loss: 0.5242 - val_acc: 0.8226\n",
            "Epoch 23/50\n",
            "390/390 [==============================] - 26s 68ms/step - loss: 0.6509 - acc: 0.7738 - val_loss: 0.6094 - val_acc: 0.7959\n",
            "Epoch 24/50\n",
            "390/390 [==============================] - 26s 68ms/step - loss: 0.6431 - acc: 0.7776 - val_loss: 0.5268 - val_acc: 0.8156\n",
            "Epoch 25/50\n",
            "390/390 [==============================] - 26s 68ms/step - loss: 0.6347 - acc: 0.7786 - val_loss: 0.5566 - val_acc: 0.8131\n",
            "Epoch 26/50\n",
            "390/390 [==============================] - 27s 68ms/step - loss: 0.6238 - acc: 0.7811 - val_loss: 0.4750 - val_acc: 0.8381\n",
            "Epoch 27/50\n",
            "390/390 [==============================] - 26s 68ms/step - loss: 0.6172 - acc: 0.7866 - val_loss: 0.5292 - val_acc: 0.8197\n",
            "Epoch 28/50\n",
            "390/390 [==============================] - 26s 68ms/step - loss: 0.6125 - acc: 0.7869 - val_loss: 0.4694 - val_acc: 0.8429\n",
            "Epoch 29/50\n",
            "390/390 [==============================] - 26s 68ms/step - loss: 0.6035 - acc: 0.7909 - val_loss: 0.4449 - val_acc: 0.8505\n",
            "Epoch 30/50\n",
            "390/390 [==============================] - 26s 67ms/step - loss: 0.5969 - acc: 0.7934 - val_loss: 0.4775 - val_acc: 0.8375\n",
            "Epoch 31/50\n",
            "390/390 [==============================] - 27s 68ms/step - loss: 0.5869 - acc: 0.7961 - val_loss: 0.4583 - val_acc: 0.8451\n",
            "Epoch 32/50\n",
            "390/390 [==============================] - 27s 69ms/step - loss: 0.5868 - acc: 0.7968 - val_loss: 0.5152 - val_acc: 0.8240\n",
            "Epoch 33/50\n",
            "390/390 [==============================] - 27s 68ms/step - loss: 0.5795 - acc: 0.7993 - val_loss: 0.4660 - val_acc: 0.8396\n",
            "Epoch 34/50\n",
            "390/390 [==============================] - 27s 68ms/step - loss: 0.5730 - acc: 0.8014 - val_loss: 0.5332 - val_acc: 0.8266\n",
            "Epoch 35/50\n",
            "390/390 [==============================] - 27s 68ms/step - loss: 0.5717 - acc: 0.7995 - val_loss: 0.4490 - val_acc: 0.8472\n",
            "Epoch 36/50\n",
            "390/390 [==============================] - 27s 68ms/step - loss: 0.5642 - acc: 0.8043 - val_loss: 0.4501 - val_acc: 0.8486\n",
            "Epoch 37/50\n",
            "390/390 [==============================] - 27s 68ms/step - loss: 0.5567 - acc: 0.8074 - val_loss: 0.4391 - val_acc: 0.8540\n",
            "Epoch 38/50\n",
            "390/390 [==============================] - 27s 68ms/step - loss: 0.5568 - acc: 0.8066 - val_loss: 0.4269 - val_acc: 0.8581\n",
            "Epoch 39/50\n",
            "390/390 [==============================] - 27s 68ms/step - loss: 0.5533 - acc: 0.8072 - val_loss: 0.3997 - val_acc: 0.8665\n",
            "Epoch 40/50\n",
            "390/390 [==============================] - 27s 68ms/step - loss: 0.5522 - acc: 0.8074 - val_loss: 0.4167 - val_acc: 0.8604\n",
            "Epoch 41/50\n",
            "390/390 [==============================] - 26s 68ms/step - loss: 0.5465 - acc: 0.8107 - val_loss: 0.4740 - val_acc: 0.8381\n",
            "Epoch 42/50\n",
            "390/390 [==============================] - 26s 68ms/step - loss: 0.5426 - acc: 0.8108 - val_loss: 0.4227 - val_acc: 0.8579\n",
            "Epoch 43/50\n",
            "390/390 [==============================] - 27s 68ms/step - loss: 0.5371 - acc: 0.8139 - val_loss: 0.4623 - val_acc: 0.8451\n",
            "Epoch 44/50\n",
            "390/390 [==============================] - 26s 67ms/step - loss: 0.5340 - acc: 0.8134 - val_loss: 0.3960 - val_acc: 0.8639\n",
            "Epoch 45/50\n",
            "390/390 [==============================] - 26s 67ms/step - loss: 0.5302 - acc: 0.8146 - val_loss: 0.3957 - val_acc: 0.8633\n",
            "Epoch 46/50\n",
            "390/390 [==============================] - 26s 68ms/step - loss: 0.5261 - acc: 0.8174 - val_loss: 0.4558 - val_acc: 0.8489\n",
            "Epoch 47/50\n",
            "390/390 [==============================] - 26s 67ms/step - loss: 0.5223 - acc: 0.8178 - val_loss: 0.3968 - val_acc: 0.8673\n",
            "Epoch 48/50\n",
            "390/390 [==============================] - 26s 68ms/step - loss: 0.5190 - acc: 0.8189 - val_loss: 0.3918 - val_acc: 0.8680\n",
            "Epoch 49/50\n",
            "390/390 [==============================] - 26s 68ms/step - loss: 0.5165 - acc: 0.8210 - val_loss: 0.3999 - val_acc: 0.8684\n",
            "Epoch 50/50\n",
            "390/390 [==============================] - 26s 68ms/step - loss: 0.5156 - acc: 0.8204 - val_loss: 0.3979 - val_acc: 0.8652\n",
            "Model took 1331.20 seconds to train\n"
          ],
          "name": "stdout"
        },
        {
          "output_type": "display_data",
          "data": {
            "image/png": "[encoded data removed]",
            "text/plain": [
              "<Figure size 1080x360 with 2 Axes>"
            ]
          },
          "metadata": {
            "tags": []
          }
        },
        {
          "output_type": "stream",
          "text": [
            "Accuracy on test data is: 86.52\n"
          ],
          "name": "stdout"
        }
      ]
    },
    {
      "cell_type": "markdown",
      "metadata": {
        "id": "agB8RBPoHuUK",
        "colab_type": "text"
      },
      "source": [
        "## Gradcam after cutout"
      ]
    },
    {
      "cell_type": "code",
      "metadata": {
        "id": "NTuZjMrSIcoI",
        "colab_type": "code",
        "colab": {}
      },
      "source": [
        "# save model\n",
        "# model.save('/content/drive/My Drive/EVA2019/Session9/Assignment9A_cutout.h5')\n",
        "\n",
        "from keras.models import load_model\n",
        "# load model back\n",
        "model = load_model('/content/gdrive/My Drive/EVA2019/Session9/Assignment9A_cutout.h5')"
      ],
      "execution_count": 0,
      "outputs": []
    },
    {
      "cell_type": "code",
      "metadata": {
        "id": "7-kc8eJHGAFw",
        "colab_type": "code",
        "colab": {
          "base_uri": "https://localhost:8080/",
          "height": 579
        },
        "outputId": "cef817d8-14d0-4cce-c83c-be9140127311"
      },
      "source": [
        "image_idx = [208,490,327,559]\n",
        "fig = plt.figure(figsize=(8,8))\n",
        "for i,j in enumerate(image_idx):\n",
        "  im = whatchyalookingat(j)\n",
        "  \n",
        "  ax = fig.add_subplot(4, 1, 1 + i) \n",
        "  plt.imshow(im)\n",
        "\n",
        "  \n",
        "plt.show()"
      ],
      "execution_count": 23,
      "outputs": [
        {
          "output_type": "stream",
          "text": [
            "W0629 13:38:42.085960 140283352868736 image.py:648] Clipping input data to the valid range for imshow with RGB data ([0..1] for floats or [0..255] for integers).\n",
            "W0629 13:38:42.622323 140283352868736 image.py:648] Clipping input data to the valid range for imshow with RGB data ([0..1] for floats or [0..255] for integers).\n",
            "W0629 13:38:43.104226 140283352868736 image.py:648] Clipping input data to the valid range for imshow with RGB data ([0..1] for floats or [0..255] for integers).\n",
            "W0629 13:38:43.604291 140283352868736 image.py:648] Clipping input data to the valid range for imshow with RGB data ([0..1] for floats or [0..255] for integers).\n"
          ],
          "name": "stderr"
        },
        {
          "output_type": "display_data",
          "data": {
            "image/png": "[encoded data removed]",
            "text/plain": [
              "<Figure size 576x576 with 4 Axes>"
            ]
          },
          "metadata": {
            "tags": []
          }
        }
      ]
    },
    {
      "cell_type": "code",
      "metadata": {
        "id": "zhIiSfeSKzv4",
        "colab_type": "code",
        "colab": {}
      },
      "source": [
        ""
      ],
      "execution_count": 0,
      "outputs": []
    }
  ]
}