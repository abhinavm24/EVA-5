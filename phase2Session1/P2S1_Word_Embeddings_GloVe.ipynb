{
  "nbformat": 4,
  "nbformat_minor": 0,
  "metadata": {
    "kernelspec": {
      "name": "python3",
      "display_name": "Python 3"
    },
    "language_info": {
      "codemirror_mode": {
        "name": "ipython",
        "version": 3
      },
      "file_extension": ".py",
      "mimetype": "text/x-python",
      "name": "python",
      "nbconvert_exporter": "python",
      "pygments_lexer": "ipython3",
      "version": "3.6.8"
    },
    "colab": {
      "name": "P2S1 Word Embeddings GloVe.ipynb",
      "provenance": [],
      "collapsed_sections": [],
      "include_colab_link": true
    },
    "accelerator": "GPU"
  },
  "cells": [
    {
      "cell_type": "markdown",
      "metadata": {
        "id": "view-in-github",
        "colab_type": "text"
      },
      "source": [
        "<a href=\"https://colab.research.google.com/github/bhuvnk/EVA/blob/master/phase2Session1/P2S1_Word_Embeddings_GloVe.ipynb\" target=\"_parent\"><img src=\"https://colab.research.google.com/assets/colab-badge.svg\" alt=\"Open In Colab\"/></a>"
      ]
    },
    {
      "cell_type": "markdown",
      "metadata": {
        "id": "8Qo4kciusjqu",
        "colab_type": "text"
      },
      "source": [
        "## Import Stuff"
      ]
    },
    {
      "cell_type": "code",
      "metadata": {
        "id": "l1AOxpiksjq2",
        "colab_type": "code",
        "outputId": "c03b7957-4b8e-495b-a3dd-2b4ed77cf15d",
        "colab": {
          "base_uri": "https://localhost:8080/",
          "height": 83
        }
      },
      "source": [
        "#Importing stuff\n",
        "import os\n",
        "import numpy as np\n",
        "import matplotlib.pyplot as plt\n",
        "\n",
        "from keras.preprocessing.text import Tokenizer\n",
        "from keras.preprocessing.sequence import pad_sequences"
      ],
      "execution_count": 1,
      "outputs": [
        {
          "output_type": "stream",
          "text": [
            "Using TensorFlow backend.\n"
          ],
          "name": "stderr"
        },
        {
          "output_type": "display_data",
          "data": {
            "text/html": [
              "<p style=\"color: red;\">\n",
              "The default version of TensorFlow in Colab will soon switch to TensorFlow 2.x.<br>\n",
              "We recommend you <a href=\"https://www.tensorflow.org/guide/migrate\" target=\"_blank\">upgrade</a> now \n",
              "or ensure your notebook will continue to use TensorFlow 1.x via the <code>%tensorflow_version 1.x</code> magic:\n",
              "<a href=\"https://colab.research.google.com/notebooks/tensorflow_version.ipynb\" target=\"_blank\">more info</a>.</p>\n"
            ],
            "text/plain": [
              "<IPython.core.display.HTML object>"
            ]
          },
          "metadata": {
            "tags": []
          }
        }
      ]
    },
    {
      "cell_type": "markdown",
      "metadata": {
        "id": "pxvVXxxgsjrs",
        "colab_type": "text"
      },
      "source": [
        "## Data Download and Preporcessing\n",
        "\n",
        "1. Download and uncompress the raw IMDB data.\n",
        "2. parse review and label into list with corresponding indices."
      ]
    },
    {
      "cell_type": "code",
      "metadata": {
        "id": "sQNstbvc5tsa",
        "colab_type": "code",
        "outputId": "318587f2-434d-4024-83b6-c0009f3847f1",
        "colab": {
          "base_uri": "https://localhost:8080/",
          "height": 219
        }
      },
      "source": [
        "# Download and extract the data\n",
        "!wget  https://ai.stanford.edu/~amaas/data/sentiment/aclImdb_v1.tar.gz\n",
        "!tar -xzf aclImdb_v1.tar.gz\n",
        "!rm -r aclImdb_v1.tar.gz"
      ],
      "execution_count": 8,
      "outputs": [
        {
          "output_type": "stream",
          "text": [
            "--2020-03-15 12:22:51--  https://ai.stanford.edu/~amaas/data/sentiment/aclImdb_v1.tar.gz\n",
            "Resolving ai.stanford.edu (ai.stanford.edu)... 171.64.68.10\n",
            "Connecting to ai.stanford.edu (ai.stanford.edu)|171.64.68.10|:443... connected.\n",
            "HTTP request sent, awaiting response... 200 OK\n",
            "Length: 84125825 (80M) [application/x-gzip]\n",
            "Saving to: ‘aclImdb_v1.tar.gz’\n",
            "\n",
            "aclImdb_v1.tar.gz   100%[===================>]  80.23M  20.8MB/s    in 7.4s    \n",
            "\n",
            "2020-03-15 12:22:59 (10.8 MB/s) - ‘aclImdb_v1.tar.gz’ saved [84125825/84125825]\n",
            "\n"
          ],
          "name": "stdout"
        }
      ]
    },
    {
      "cell_type": "code",
      "metadata": {
        "id": "w9yaeGjpsjrv",
        "colab_type": "code",
        "colab": {}
      },
      "source": [
        "# processing the labels of raw imdb data\n",
        "imdb_dir = 'aclImdb'\n",
        "train_dir = os.path.join(imdb_dir, 'train')\n",
        "\n",
        "labels = []\n",
        "texts = []\n",
        "for label_type in ['neg', 'pos']:\n",
        "    dir_name = os.path.join(train_dir, label_type)\n",
        "    for fname in os.listdir(dir_name):\n",
        "        if fname[-4:] == '.txt':\n",
        "            f = open(os.path.join(dir_name, fname))\n",
        "            texts.append(f.read())\n",
        "            f.close()\n",
        "            if label_type == 'neg':\n",
        "                labels.append(0)\n",
        "            else:\n",
        "                labels.append(1)"
      ],
      "execution_count": 0,
      "outputs": []
    },
    {
      "cell_type": "markdown",
      "metadata": {
        "id": "RxvHlvVBsjr5",
        "colab_type": "text"
      },
      "source": [
        "##### tokenizing the text of raw input data"
      ]
    },
    {
      "cell_type": "code",
      "metadata": {
        "id": "DrmBeiK0sjr7",
        "colab_type": "code",
        "outputId": "ea587753-c601-4de4-8205-df37b382538d",
        "colab": {
          "base_uri": "https://localhost:8080/",
          "height": 72
        }
      },
      "source": [
        "maxlen = 100                        # max lenght of document  = 100\n",
        "training_samples = 8000              # Number of samples/documents = 8000 as asked in assignment\n",
        "validation_samples = 10000          # Validates on 10,000 samples\n",
        "max_words = 10000                   # only top 10,000 words to be used based on magnitude of count\n",
        "\n",
        "# Tokenizing\n",
        "tokenizer = Tokenizer(num_words=max_words)\n",
        "tokenizer.fit_on_texts(texts)\n",
        "sequences = tokenizer.texts_to_sequences(texts)\n",
        "\n",
        "# Creating index values for the words\n",
        "word_index = tokenizer.word_index\n",
        "print('Found %s unique tokens.' % len(word_index))\n",
        "\n",
        "# Padding the sequences which fall short of lenght of words 100\n",
        "data = pad_sequences(sequences, maxlen=maxlen)\n",
        "\n",
        "# Converting label list into np array\n",
        "labels = np.asarray(labels)\n",
        "print('Shape of data tensor:', data.shape)\n",
        "print('Shape of label tensor:', labels.shape)"
      ],
      "execution_count": 10,
      "outputs": [
        {
          "output_type": "stream",
          "text": [
            "Found 88582 unique tokens.\n",
            "Shape of data tensor: (25000, 100)\n",
            "Shape of label tensor: (25000,)\n"
          ],
          "name": "stdout"
        }
      ]
    },
    {
      "cell_type": "markdown",
      "metadata": {
        "id": "qLJ3Ga1OsjsE",
        "colab_type": "text"
      },
      "source": [
        "### Data Split\n",
        "Split the data into a training set and a validation set.\n",
        "Shuffle the data before split."
      ]
    },
    {
      "cell_type": "code",
      "metadata": {
        "id": "zxHrmNt1sjsH",
        "colab_type": "code",
        "colab": {}
      },
      "source": [
        "# Random Shuffling\n",
        "indices = np.arange(data.shape[0])\n",
        "np.random.shuffle(indices)\n",
        "data = data[indices]\n",
        "labels = labels[indices]\n",
        "\n",
        "# Train and validation split\n",
        "x_train = data[:training_samples]\n",
        "y_train = labels[:training_samples]\n",
        "x_val = data[training_samples: training_samples + validation_samples]\n",
        "y_val = labels[training_samples: training_samples + validation_samples]"
      ],
      "execution_count": 0,
      "outputs": []
    },
    {
      "cell_type": "markdown",
      "metadata": {
        "id": "AtlBRsgfsjsT",
        "colab_type": "text"
      },
      "source": [
        "## EMBEDDINGS"
      ]
    },
    {
      "cell_type": "markdown",
      "metadata": {
        "id": "ZFED7HWVsjsQ",
        "colab_type": "text"
      },
      "source": [
        "### Download and unzip glove word embedding"
      ]
    },
    {
      "cell_type": "code",
      "metadata": {
        "id": "TtQwbsdGDFn4",
        "colab_type": "code",
        "colab": {
          "base_uri": "https://localhost:8080/",
          "height": 311
        },
        "outputId": "9f42322b-2f59-41c8-9832-9267b2aeeaf5"
      },
      "source": [
        "!wget https://github.com/allenai/spv2/raw/master/model/glove.6B.100d.txt.gz \n",
        "!gzip -d glove.6B.100d.txt.gz"
      ],
      "execution_count": 15,
      "outputs": [
        {
          "output_type": "stream",
          "text": [
            "--2020-03-15 12:24:14--  https://github.com/allenai/spv2/raw/master/model/glove.6B.100d.txt.gz\n",
            "Resolving github.com (github.com)... 140.82.118.4\n",
            "Connecting to github.com (github.com)|140.82.118.4|:443... connected.\n",
            "HTTP request sent, awaiting response... 302 Found\n",
            "Location: https://media.githubusercontent.com/media/allenai/spv2/master/model/glove.6B.100d.txt.gz [following]\n",
            "--2020-03-15 12:24:14--  https://media.githubusercontent.com/media/allenai/spv2/master/model/glove.6B.100d.txt.gz\n",
            "Resolving media.githubusercontent.com (media.githubusercontent.com)... 151.101.0.133, 151.101.64.133, 151.101.128.133, ...\n",
            "Connecting to media.githubusercontent.com (media.githubusercontent.com)|151.101.0.133|:443... connected.\n",
            "HTTP request sent, awaiting response... 200 OK\n",
            "Length: 134409071 (128M) [application/octet-stream]\n",
            "Saving to: ‘glove.6B.100d.txt.gz.1’\n",
            "\n",
            "\rglove.6B.100d.txt.g   0%[                    ]       0  --.-KB/s               \rglove.6B.100d.txt.g  32%[=====>              ]  41.28M   206MB/s               \rglove.6B.100d.txt.g  69%[============>       ]  89.00M   222MB/s               \rglove.6B.100d.txt.g 100%[===================>] 128.18M   230MB/s    in 0.6s    \n",
            "\n",
            "2020-03-15 12:24:15 (230 MB/s) - ‘glove.6B.100d.txt.gz.1’ saved [134409071/134409071]\n",
            "\n"
          ],
          "name": "stdout"
        }
      ]
    },
    {
      "cell_type": "code",
      "metadata": {
        "id": "Zm_XjRjnsjsW",
        "colab_type": "code",
        "outputId": "201dc5cb-391a-4a01-88c3-be2cd44f36ac",
        "colab": {
          "base_uri": "https://localhost:8080/",
          "height": 35
        }
      },
      "source": [
        "# Parsing the GloVe word-embeddings file\n",
        "glove_dir = ''\n",
        "embeddings_index = {}\n",
        "f = open(os.path.join(glove_dir, 'glove.6B.100d.txt'))\n",
        "for line in f:\n",
        "    values = line.split()\n",
        "    word = values[0]\n",
        "    coefs = np.asarray(values[1:], dtype='float32')\n",
        "    embeddings_index[word] = coefs\n",
        "f.close()\n",
        "print('Found %s word vectors.' % len(embeddings_index))"
      ],
      "execution_count": 16,
      "outputs": [
        {
          "output_type": "stream",
          "text": [
            "Found 400000 word vectors.\n"
          ],
          "name": "stdout"
        }
      ]
    },
    {
      "cell_type": "markdown",
      "metadata": {
        "id": "K4RrjDYcsjsi",
        "colab_type": "text"
      },
      "source": [
        "### Embedding matrix\n",
        "shape:  (max_words, embedding_dim)\n"
      ]
    },
    {
      "cell_type": "code",
      "metadata": {
        "id": "FepFxS-Lsjsl",
        "colab_type": "code",
        "colab": {}
      },
      "source": [
        "# GloVe word_embeddings matrix\n",
        "embedding_dim = 100\n",
        "embedding_matrix = np.zeros((max_words, embedding_dim))\n",
        "\n",
        "for word, i in word_index.items():\n",
        "    if i < max_words:\n",
        "        embedding_vector = embeddings_index.get(word)\n",
        "        if embedding_vector is not None:\n",
        "            embedding_matrix[i] = embedding_vector"
      ],
      "execution_count": 0,
      "outputs": []
    },
    {
      "cell_type": "code",
      "metadata": {
        "id": "Y6qr9iE7sjss",
        "colab_type": "code",
        "outputId": "28ef189e-5971-4881-fbc6-6bceaf51e2e2",
        "colab": {
          "base_uri": "https://localhost:8080/",
          "height": 311
        }
      },
      "source": [
        "from keras.models import Sequential\n",
        "from keras.layers import Embedding, Flatten, Dense\n",
        "from keras.callbacks import ModelCheckpoint\n",
        "\n",
        "# Defining simple model\n",
        "model = Sequential()\n",
        "model.add(Embedding(max_words, embedding_dim, input_length=maxlen))\n",
        "model.add(Flatten())\n",
        "model.add(Dense(32, activation='relu'))\n",
        "model.add(Dense(1, activation='sigmoid'))\n",
        "model.summary()"
      ],
      "execution_count": 22,
      "outputs": [
        {
          "output_type": "stream",
          "text": [
            "Model: \"sequential_2\"\n",
            "_________________________________________________________________\n",
            "Layer (type)                 Output Shape              Param #   \n",
            "=================================================================\n",
            "embedding_2 (Embedding)      (None, 100, 100)          1000000   \n",
            "_________________________________________________________________\n",
            "flatten_2 (Flatten)          (None, 10000)             0         \n",
            "_________________________________________________________________\n",
            "dense_3 (Dense)              (None, 32)                320032    \n",
            "_________________________________________________________________\n",
            "dense_4 (Dense)              (None, 1)                 33        \n",
            "=================================================================\n",
            "Total params: 1,320,065\n",
            "Trainable params: 1,320,065\n",
            "Non-trainable params: 0\n",
            "_________________________________________________________________\n"
          ],
          "name": "stdout"
        }
      ]
    },
    {
      "cell_type": "code",
      "metadata": {
        "id": "mC5X_J98sjs1",
        "colab_type": "code",
        "colab": {}
      },
      "source": [
        "# loading GLOVE EMBEDDINGS As weights in layer0// trainable==False\n",
        "model.layers[0].set_weights([embedding_matrix])\n",
        "model.layers[0].trainable = False"
      ],
      "execution_count": 0,
      "outputs": []
    },
    {
      "cell_type": "code",
      "metadata": {
        "id": "MuTsAOvqsjs8",
        "colab_type": "code",
        "outputId": "e28984d9-998a-4d74-bc30-82949486a0b7",
        "colab": {
          "base_uri": "https://localhost:8080/",
          "height": 1000
        }
      },
      "source": [
        "# training and evaluation\n",
        "model.compile(optimizer='rmsprop',\n",
        "              loss='binary_crossentropy',\n",
        "              metrics=['acc'])\n",
        "\n",
        "checkpoint = ModelCheckpoint('pre_trained_glove_model.h5', monitor='val_acc', verbose=1, save_best_only=True, mode='max')\n",
        "\n",
        "history = model.fit(x_train, y_train,\n",
        "                    epochs=40,\n",
        "                    batch_size=32,\n",
        "                    validation_data=(x_val, y_val),\n",
        "                    callbacks=[checkpoint])\n"
      ],
      "execution_count": 24,
      "outputs": [
        {
          "output_type": "stream",
          "text": [
            "WARNING:tensorflow:From /usr/local/lib/python3.6/dist-packages/keras/backend/tensorflow_backend.py:1033: The name tf.assign_add is deprecated. Please use tf.compat.v1.assign_add instead.\n",
            "\n",
            "WARNING:tensorflow:From /usr/local/lib/python3.6/dist-packages/keras/backend/tensorflow_backend.py:1020: The name tf.assign is deprecated. Please use tf.compat.v1.assign instead.\n",
            "\n",
            "Train on 8000 samples, validate on 10000 samples\n",
            "Epoch 1/40\n",
            "8000/8000 [==============================] - 3s 388us/step - loss: 0.7214 - acc: 0.5690 - val_loss: 0.6577 - val_acc: 0.6443\n",
            "\n",
            "Epoch 00001: val_acc improved from -inf to 0.64430, saving model to pre_trained_glove_model.h5\n",
            "Epoch 2/40\n",
            "8000/8000 [==============================] - 1s 164us/step - loss: 0.6053 - acc: 0.6783 - val_loss: 0.6291 - val_acc: 0.6472\n",
            "\n",
            "Epoch 00002: val_acc improved from 0.64430 to 0.64720, saving model to pre_trained_glove_model.h5\n",
            "Epoch 3/40\n",
            "8000/8000 [==============================] - 1s 164us/step - loss: 0.5065 - acc: 0.7585 - val_loss: 0.5892 - val_acc: 0.6996\n",
            "\n",
            "Epoch 00003: val_acc improved from 0.64720 to 0.69960, saving model to pre_trained_glove_model.h5\n",
            "Epoch 4/40\n",
            "8000/8000 [==============================] - 1s 156us/step - loss: 0.4549 - acc: 0.7795 - val_loss: 0.6343 - val_acc: 0.6787\n",
            "\n",
            "Epoch 00004: val_acc did not improve from 0.69960\n",
            "Epoch 5/40\n",
            "8000/8000 [==============================] - 1s 158us/step - loss: 0.3784 - acc: 0.8307 - val_loss: 0.6386 - val_acc: 0.6930\n",
            "\n",
            "Epoch 00005: val_acc did not improve from 0.69960\n",
            "Epoch 6/40\n",
            "8000/8000 [==============================] - 1s 154us/step - loss: 0.3079 - acc: 0.8690 - val_loss: 0.9180 - val_acc: 0.6288\n",
            "\n",
            "Epoch 00006: val_acc did not improve from 0.69960\n",
            "Epoch 7/40\n",
            "8000/8000 [==============================] - 1s 156us/step - loss: 0.2492 - acc: 0.8965 - val_loss: 0.7373 - val_acc: 0.6915\n",
            "\n",
            "Epoch 00007: val_acc did not improve from 0.69960\n",
            "Epoch 8/40\n",
            "8000/8000 [==============================] - 1s 154us/step - loss: 0.1998 - acc: 0.9255 - val_loss: 1.0820 - val_acc: 0.6452\n",
            "\n",
            "Epoch 00008: val_acc did not improve from 0.69960\n",
            "Epoch 9/40\n",
            "8000/8000 [==============================] - 1s 160us/step - loss: 0.1455 - acc: 0.9467 - val_loss: 0.8803 - val_acc: 0.6878\n",
            "\n",
            "Epoch 00009: val_acc did not improve from 0.69960\n",
            "Epoch 10/40\n",
            "8000/8000 [==============================] - 1s 165us/step - loss: 0.1061 - acc: 0.9630 - val_loss: 1.2851 - val_acc: 0.6360\n",
            "\n",
            "Epoch 00010: val_acc did not improve from 0.69960\n",
            "Epoch 11/40\n",
            "8000/8000 [==============================] - 1s 147us/step - loss: 0.0814 - acc: 0.9719 - val_loss: 1.0306 - val_acc: 0.6913\n",
            "\n",
            "Epoch 00011: val_acc did not improve from 0.69960\n",
            "Epoch 12/40\n",
            "8000/8000 [==============================] - 1s 162us/step - loss: 0.0612 - acc: 0.9806 - val_loss: 1.1359 - val_acc: 0.6918\n",
            "\n",
            "Epoch 00012: val_acc did not improve from 0.69960\n",
            "Epoch 13/40\n",
            "8000/8000 [==============================] - 1s 157us/step - loss: 0.0479 - acc: 0.9846 - val_loss: 1.2542 - val_acc: 0.6878\n",
            "\n",
            "Epoch 00013: val_acc did not improve from 0.69960\n",
            "Epoch 14/40\n",
            "8000/8000 [==============================] - 1s 142us/step - loss: 0.0389 - acc: 0.9888 - val_loss: 1.3220 - val_acc: 0.6869\n",
            "\n",
            "Epoch 00014: val_acc did not improve from 0.69960\n",
            "Epoch 15/40\n",
            "8000/8000 [==============================] - 1s 145us/step - loss: 0.0336 - acc: 0.9909 - val_loss: 1.3199 - val_acc: 0.6857\n",
            "\n",
            "Epoch 00015: val_acc did not improve from 0.69960\n",
            "Epoch 16/40\n",
            "8000/8000 [==============================] - 1s 160us/step - loss: 0.0226 - acc: 0.9925 - val_loss: 1.4306 - val_acc: 0.6853\n",
            "\n",
            "Epoch 00016: val_acc did not improve from 0.69960\n",
            "Epoch 17/40\n",
            "8000/8000 [==============================] - 1s 162us/step - loss: 0.0268 - acc: 0.9914 - val_loss: 1.5950 - val_acc: 0.6856\n",
            "\n",
            "Epoch 00017: val_acc did not improve from 0.69960\n",
            "Epoch 18/40\n",
            "8000/8000 [==============================] - 1s 167us/step - loss: 0.0227 - acc: 0.9915 - val_loss: 1.5538 - val_acc: 0.6846\n",
            "\n",
            "Epoch 00018: val_acc did not improve from 0.69960\n",
            "Epoch 19/40\n",
            "8000/8000 [==============================] - 1s 156us/step - loss: 0.0167 - acc: 0.9946 - val_loss: 1.6239 - val_acc: 0.6857\n",
            "\n",
            "Epoch 00019: val_acc did not improve from 0.69960\n",
            "Epoch 20/40\n",
            "8000/8000 [==============================] - 1s 155us/step - loss: 0.0158 - acc: 0.9942 - val_loss: 1.6314 - val_acc: 0.6834\n",
            "\n",
            "Epoch 00020: val_acc did not improve from 0.69960\n",
            "Epoch 21/40\n",
            "8000/8000 [==============================] - 1s 171us/step - loss: 0.0227 - acc: 0.9936 - val_loss: 1.6138 - val_acc: 0.6812\n",
            "\n",
            "Epoch 00021: val_acc did not improve from 0.69960\n",
            "Epoch 22/40\n",
            "8000/8000 [==============================] - 1s 151us/step - loss: 0.0125 - acc: 0.9971 - val_loss: 1.7740 - val_acc: 0.6888\n",
            "\n",
            "Epoch 00022: val_acc did not improve from 0.69960\n",
            "Epoch 23/40\n",
            "8000/8000 [==============================] - 1s 150us/step - loss: 0.0124 - acc: 0.9959 - val_loss: 1.7765 - val_acc: 0.6872\n",
            "\n",
            "Epoch 00023: val_acc did not improve from 0.69960\n",
            "Epoch 24/40\n",
            "8000/8000 [==============================] - 1s 151us/step - loss: 0.0108 - acc: 0.9975 - val_loss: 1.8945 - val_acc: 0.6865\n",
            "\n",
            "Epoch 00024: val_acc did not improve from 0.69960\n",
            "Epoch 25/40\n",
            "8000/8000 [==============================] - 1s 166us/step - loss: 0.0164 - acc: 0.9961 - val_loss: 1.8667 - val_acc: 0.6819\n",
            "\n",
            "Epoch 00025: val_acc did not improve from 0.69960\n",
            "Epoch 26/40\n",
            "8000/8000 [==============================] - 1s 164us/step - loss: 0.0093 - acc: 0.9969 - val_loss: 1.9063 - val_acc: 0.6863\n",
            "\n",
            "Epoch 00026: val_acc did not improve from 0.69960\n",
            "Epoch 27/40\n",
            "8000/8000 [==============================] - 1s 157us/step - loss: 0.0122 - acc: 0.9957 - val_loss: 1.9487 - val_acc: 0.6854\n",
            "\n",
            "Epoch 00027: val_acc did not improve from 0.69960\n",
            "Epoch 28/40\n",
            "8000/8000 [==============================] - 1s 157us/step - loss: 0.0144 - acc: 0.9956 - val_loss: 2.0517 - val_acc: 0.6839\n",
            "\n",
            "Epoch 00028: val_acc did not improve from 0.69960\n",
            "Epoch 29/40\n",
            "8000/8000 [==============================] - 1s 154us/step - loss: 0.0093 - acc: 0.9973 - val_loss: 2.0322 - val_acc: 0.6860\n",
            "\n",
            "Epoch 00029: val_acc did not improve from 0.69960\n",
            "Epoch 30/40\n",
            "8000/8000 [==============================] - 1s 156us/step - loss: 0.0117 - acc: 0.9976 - val_loss: 2.0999 - val_acc: 0.6881\n",
            "\n",
            "Epoch 00030: val_acc did not improve from 0.69960\n",
            "Epoch 31/40\n",
            "8000/8000 [==============================] - 1s 159us/step - loss: 0.0174 - acc: 0.9961 - val_loss: 2.0489 - val_acc: 0.6805\n",
            "\n",
            "Epoch 00031: val_acc did not improve from 0.69960\n",
            "Epoch 32/40\n",
            "8000/8000 [==============================] - 1s 168us/step - loss: 0.0024 - acc: 0.9989 - val_loss: 2.1636 - val_acc: 0.6866\n",
            "\n",
            "Epoch 00032: val_acc did not improve from 0.69960\n",
            "Epoch 33/40\n",
            "8000/8000 [==============================] - 1s 162us/step - loss: 0.0218 - acc: 0.9959 - val_loss: 3.4859 - val_acc: 0.6097\n",
            "\n",
            "Epoch 00033: val_acc did not improve from 0.69960\n",
            "Epoch 34/40\n",
            "8000/8000 [==============================] - 1s 163us/step - loss: 0.0076 - acc: 0.9975 - val_loss: 2.2617 - val_acc: 0.6865\n",
            "\n",
            "Epoch 00034: val_acc did not improve from 0.69960\n",
            "Epoch 35/40\n",
            "8000/8000 [==============================] - 1s 155us/step - loss: 0.0091 - acc: 0.9976 - val_loss: 2.1890 - val_acc: 0.6851\n",
            "\n",
            "Epoch 00035: val_acc did not improve from 0.69960\n",
            "Epoch 36/40\n",
            "8000/8000 [==============================] - 1s 166us/step - loss: 0.0132 - acc: 0.9966 - val_loss: 2.2195 - val_acc: 0.6856\n",
            "\n",
            "Epoch 00036: val_acc did not improve from 0.69960\n",
            "Epoch 37/40\n",
            "8000/8000 [==============================] - 1s 156us/step - loss: 0.0033 - acc: 0.9988 - val_loss: 2.3890 - val_acc: 0.6886\n",
            "\n",
            "Epoch 00037: val_acc did not improve from 0.69960\n",
            "Epoch 38/40\n",
            "8000/8000 [==============================] - 1s 149us/step - loss: 0.0069 - acc: 0.9980 - val_loss: 2.4446 - val_acc: 0.6725\n",
            "\n",
            "Epoch 00038: val_acc did not improve from 0.69960\n",
            "Epoch 39/40\n",
            "8000/8000 [==============================] - 1s 146us/step - loss: 0.0071 - acc: 0.9981 - val_loss: 2.3951 - val_acc: 0.6875\n",
            "\n",
            "Epoch 00039: val_acc did not improve from 0.69960\n",
            "Epoch 40/40\n",
            "8000/8000 [==============================] - 1s 157us/step - loss: 0.0066 - acc: 0.9976 - val_loss: 2.3204 - val_acc: 0.6824\n",
            "\n",
            "Epoch 00040: val_acc did not improve from 0.69960\n"
          ],
          "name": "stdout"
        }
      ]
    },
    {
      "cell_type": "code",
      "metadata": {
        "id": "8cdzsW7kKSL_",
        "colab_type": "code",
        "colab": {
          "base_uri": "https://localhost:8080/",
          "height": 129
        },
        "outputId": "d1930f3a-de9d-4aab-9d06-f3fc42dc7882"
      },
      "source": [
        "from google.colab import drive\n",
        "drive.mount('/content/drive')"
      ],
      "execution_count": 25,
      "outputs": [
        {
          "output_type": "stream",
          "text": [
            "Go to this URL in a browser: https://accounts.google.com/o/oauth2/auth?client_id=947318989803-6bn6qk8qdgf4n4g3pfee6491hc0brc4i.apps.googleusercontent.com&redirect_uri=urn%3aietf%3awg%3aoauth%3a2.0%3aoob&response_type=code&scope=email%20https%3a%2f%2fwww.googleapis.com%2fauth%2fdocs.test%20https%3a%2f%2fwww.googleapis.com%2fauth%2fdrive%20https%3a%2f%2fwww.googleapis.com%2fauth%2fdrive.photos.readonly%20https%3a%2f%2fwww.googleapis.com%2fauth%2fpeopleapi.readonly\n",
            "\n",
            "Enter your authorization code:\n",
            "··········\n",
            "Mounted at /content/drive\n"
          ],
          "name": "stdout"
        }
      ]
    },
    {
      "cell_type": "code",
      "metadata": {
        "id": "m8O6YPJQKRMH",
        "colab_type": "code",
        "colab": {}
      },
      "source": [
        "!cp pre_trained_glove_model.h5 '/content/drive/My Drive/EVA2019/Phase2/Session1 Neural Word Embeddings/'"
      ],
      "execution_count": 0,
      "outputs": []
    },
    {
      "cell_type": "markdown",
      "metadata": {
        "id": "VwkULdGXGT20",
        "colab_type": "text"
      },
      "source": [
        "## Results"
      ]
    },
    {
      "cell_type": "code",
      "metadata": {
        "id": "kypoJf_IsjtK",
        "colab_type": "code",
        "colab": {}
      },
      "source": [
        "##### plotting the results\n",
        "acc = history.history['acc']\n",
        "val_acc = history.history['val_acc']\n",
        "loss = history.history['loss']\n",
        "val_loss = history.history['val_loss']\n",
        "epochs = range(1, len(acc) + 1)"
      ],
      "execution_count": 0,
      "outputs": []
    },
    {
      "cell_type": "code",
      "metadata": {
        "id": "uVO5ItA2sjtW",
        "colab_type": "code",
        "outputId": "2043f986-74e3-4ed5-afe2-a34c3fd9925f",
        "colab": {
          "base_uri": "https://localhost:8080/",
          "height": 545
        }
      },
      "source": [
        "plt.plot(epochs, acc, 'bo', label='Training acc')\n",
        "plt.plot(epochs, val_acc, 'b', label='Validation acc')\n",
        "plt.title('Training and validation accuracy')\n",
        "plt.legend()\n",
        "plt.figure()\n",
        "plt.plot(epochs, loss, 'bo', label='Training loss')\n",
        "plt.plot(epochs, val_loss, 'b', label='Validation loss')\n",
        "plt.title('Training and validation loss')\n",
        "plt.legend()\n",
        "plt.show()"
      ],
      "execution_count": 34,
      "outputs": [
        {
          "output_type": "display_data",
          "data": {
            "image/png": "[encoded data removed]",
            "text/plain": [
              "<Figure size 432x288 with 1 Axes>"
            ]
          },
          "metadata": {
            "tags": []
          }
        },
        {
          "output_type": "display_data",
          "data": {
            "image/png": "[encoded data removed]",
            "text/plain": [
              "<Figure size 432x288 with 1 Axes>"
            ]
          },
          "metadata": {
            "tags": []
          }
        }
      ]
    },
    {
      "cell_type": "markdown",
      "metadata": {
        "id": "VfB4fJUkGs2m",
        "colab_type": "text"
      },
      "source": [
        "## Testing the model performance"
      ]
    },
    {
      "cell_type": "code",
      "metadata": {
        "id": "RXfP6TqCGXu-",
        "colab_type": "code",
        "colab": {}
      },
      "source": [
        "# Test Data\n",
        "test_dir = os.path.join(imdb_dir, 'test')\n",
        "labels = []\n",
        "texts = []\n",
        "for label_type in ['neg', 'pos']:\n",
        "    dir_name = os.path.join(test_dir, label_type)\n",
        "    for fname in sorted(os.listdir(dir_name)):\n",
        "        if fname[-4:] == '.txt':\n",
        "            f = open(os.path.join(dir_name, fname), encoding=\"utf-8\")\n",
        "            texts.append(f.read())\n",
        "            f.close()\n",
        "            if label_type == 'neg':\n",
        "                labels.append(0)\n",
        "            else:\n",
        "                labels.append(1)\n",
        "\n",
        "sequences = tokenizer.texts_to_sequences(texts)\n",
        "x_test = pad_sequences(sequences, maxlen=maxlen)\n",
        "y_test = np.asarray(labels)\n"
      ],
      "execution_count": 0,
      "outputs": []
    },
    {
      "cell_type": "code",
      "metadata": {
        "id": "EiR0FTISG5hK",
        "colab_type": "code",
        "colab": {
          "base_uri": "https://localhost:8080/",
          "height": 54
        },
        "outputId": "1232a660-e840-4710-87ba-260ec23e9035"
      },
      "source": [
        "model.load_weights('pre_trained_glove_model.h5')\n",
        "model.evaluate(x_test, y_test)"
      ],
      "execution_count": 36,
      "outputs": [
        {
          "output_type": "stream",
          "text": [
            "25000/25000 [==============================] - 1s 45us/step\n"
          ],
          "name": "stdout"
        },
        {
          "output_type": "execute_result",
          "data": {
            "text/plain": [
              "[0.5942588289260864, 0.69032]"
            ]
          },
          "metadata": {
            "tags": []
          },
          "execution_count": 36
        }
      ]
    },
    {
      "cell_type": "code",
      "metadata": {
        "id": "PNe8kmIULPNJ",
        "colab_type": "code",
        "colab": {}
      },
      "source": [
        ""
      ],
      "execution_count": 0,
      "outputs": []
    }
  ]
}